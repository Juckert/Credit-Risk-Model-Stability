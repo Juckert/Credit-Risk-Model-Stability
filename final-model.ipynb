{
 "cells": [
  {
   "cell_type": "code",
   "execution_count": 1,
   "id": "f75ff2dc",
   "metadata": {
    "execution": {
     "iopub.execute_input": "2024-05-06T11:25:03.266500Z",
     "iopub.status.busy": "2024-05-06T11:25:03.266089Z",
     "iopub.status.idle": "2024-05-06T11:25:08.258097Z",
     "shell.execute_reply": "2024-05-06T11:25:08.257042Z"
    },
    "papermill": {
     "duration": 5.013289,
     "end_time": "2024-05-06T11:25:08.260465",
     "exception": false,
     "start_time": "2024-05-06T11:25:03.247176",
     "status": "completed"
    },
    "tags": []
   },
   "outputs": [],
   "source": [
    "import numpy as np\n",
    "import pandas as pd\n",
    "import polars as pl\n",
    "import matplotlib.pyplot as plt\n",
    "import seaborn as sns\n",
    "import warnings, os, gc, joblib\n",
    "import lightgbm as lgb\n",
    "from sklearn import metrics\n",
    "from functools import reduce\n",
    "from sklearn.metrics import accuracy_score, roc_auc_score, confusion_matrix, ConfusionMatrixDisplay, classification_report, RocCurveDisplay\n",
    "from sklearn.base import BaseEstimator, RegressorMixin\n",
    "from sklearn.preprocessing import MinMaxScaler\n",
    "from sklearn.model_selection import train_test_split, StratifiedGroupKFold\n",
    "from contextlib import suppress\n",
    "import catboost\n",
    "from catboost import CatBoostClassifier, Pool\n",
    "import xgboost as xgb"
   ]
  },
  {
   "cell_type": "code",
   "execution_count": 2,
   "id": "27732706",
   "metadata": {
    "execution": {
     "iopub.execute_input": "2024-05-06T11:25:08.296223Z",
     "iopub.status.busy": "2024-05-06T11:25:08.295908Z",
     "iopub.status.idle": "2024-05-06T11:25:08.299838Z",
     "shell.execute_reply": "2024-05-06T11:25:08.299020Z"
    },
    "papermill": {
     "duration": 0.023694,
     "end_time": "2024-05-06T11:25:08.301696",
     "exception": false,
     "start_time": "2024-05-06T11:25:08.278002",
     "status": "completed"
    },
    "tags": []
   },
   "outputs": [],
   "source": [
    "pathway = \"/kaggle/input/home-credit-credit-risk-model-stability/\""
   ]
  },
  {
   "cell_type": "markdown",
   "id": "b637deb3",
   "metadata": {
    "papermill": {
     "duration": 0.016208,
     "end_time": "2024-05-06T11:25:08.334565",
     "exception": false,
     "start_time": "2024-05-06T11:25:08.318357",
     "status": "completed"
    },
    "tags": []
   },
   "source": [
    "### Набор пользовательских функций, которые помогут в предварительной обработке данных:"
   ]
  },
  {
   "cell_type": "code",
   "execution_count": 3,
   "id": "4cd95152",
   "metadata": {
    "execution": {
     "iopub.execute_input": "2024-05-06T11:25:08.369200Z",
     "iopub.status.busy": "2024-05-06T11:25:08.368925Z",
     "iopub.status.idle": "2024-05-06T11:25:08.496849Z",
     "shell.execute_reply": "2024-05-06T11:25:08.495936Z"
    },
    "papermill": {
     "duration": 0.147844,
     "end_time": "2024-05-06T11:25:08.498874",
     "exception": false,
     "start_time": "2024-05-06T11:25:08.351030",
     "status": "completed"
    },
    "tags": []
   },
   "outputs": [],
   "source": [
    "def set_table_dtypes(df: pl.DataFrame) -> pl.DataFrame:\n",
    "    '''Принимает фрейм данных в качестве входных данных и перебирает все столбцы\n",
    "       Каждый столбец заканчивается на P или A, приводит столбец к Float 64'''\n",
    "    for col in df.columns:\n",
    "        # Преобразует DPD (дни просрочки платежа) и A (сумму) как тип Float64.\n",
    "        if col[-1] in (\"P\", \"A\"):\n",
    "            df = df.with_columns(pl.col(col).cast(pl.Float64).alias(col))\n",
    "        # Приодит агрегированные числовые столбцы к типу Float64\n",
    "        if col[-4:-1] in ('_sum'):\n",
    "            df = df.with_columns(pl.col(col).cast(pl.Float64).alias(col))\n",
    "        if col[-4:-1] in ('_max'):\n",
    "            df = df.with_columns(pl.col(col).cast(pl.Float64).alias(col))\n",
    "    return df\n",
    "\n",
    "\n",
    "def convert_strings(df: pl.DataFrame) -> pl.DataFrame:\n",
    "    '''Принимает фрейм данных в качестве входных данных и перебирает все столбцы\n",
    "       Каждый столбец, который является строкой или объектом он преобразует столбец в строковый тип, а затем в тип cat'''\n",
    "    for col in df.columns:\n",
    "        if df[col].dtype == pl.Utf8:\n",
    "            df = df.with_columns(pl.col(col).cast(pl.Categorical))\n",
    "    return df\n",
    "\n",
    "\n",
    "\n",
    "def missing_values(df, threshold = 0.9):\n",
    "    '''выводит процент пропущенных значений'''\n",
    "    for col in df.columns:\n",
    "        decimal = (pd.isnull(test[col]).sum())/(len(test[col]))\n",
    "        if decimal > threshold:\n",
    "            print(f\"{col}: {decimal}\")\n",
    "            \n",
    "\n",
    "\n",
    "def imputer(df:pd.DataFrame) -> pd.DataFrame:\n",
    "    '''обозначает числовые колонки со средним значением и cat с режимом'''\n",
    "    for col in df.columns:\n",
    "        if df[col].dtype in ['float64']:\n",
    "            df[col] = df[col].fillna(df[col].median())\n",
    "        if df[col].dtype.name in ['category', 'object'] and df[col].isull().any():\n",
    "            model_without_nan = df[col].dropna().mode().values[0] #представляет наиболее частое значение в столбце, исключая любые недостающие значения\n",
    "            df[col] = df[col].fillna(model_without_nan)\n",
    "    return df\n",
    "\n",
    "\n",
    "\n",
    "def custom_range_agg(series: pl.series):\n",
    "    '''принимает ряд в качестве входного и вычисляет диапазон (разница между максимальными и минимальными значениями в серии)'''\n",
    "    custom_range = series.max() - series.min()\n",
    "    return custom_range\n",
    "\n",
    "\n",
    "\n",
    "def compare_cols(df):\n",
    "    '''Используется для сравнения агрегированных функций суммы и диапазона друг против друга, печатая процент столбца диапазона, который либо равен 0, либо значение столбца суммы'''\n",
    "    range_list = [element for e in df.columns for element in e.split() if element.endswith(\"_range\")]\n",
    "    sum_list = [name.replace('range', 'sum') for name in range_list]\n",
    "    length = len(df)\n",
    "    \n",
    "    df=df.with_columns(*[pl.col(col).fill_null(strategy='zero') for col in range_list])\n",
    "    \n",
    "    for i in range(len(range_list)):\n",
    "        df = df.with_columns(check=pl.when((df[range_list[i]] == df[sum_list[i]]) | (df[range_list[i]] == 0)).then(1).otherwise(0))\n",
    "        percent = df.select(pl.sum(\"check\")).item() / length\n",
    "        print(f\"Percent equal or 0 for {range_list[i]} = {percent:.3f}\")\n",
    "        \n",
    "    df = df.drop(\"check\")\n",
    "    return df\n",
    "\n",
    "\n",
    "\n",
    "def reduce_mem_usage(df):\n",
    "    '''Уменьшит использование памяти датафрамы. Все числовые столбцы будут отображаться в нижнем диапазоне столбцов'''\n",
    "    start_mem = df.memory_usage().sum() / 1024**2\n",
    "    print('Memory usage of dataframe is {:.2f} MB'.format(start_mem))\n",
    "    \n",
    "    for col in df.columns:\n",
    "        col_type = df[col].dtype\n",
    "        if str(col_type)==\"category\":\n",
    "            continue\n",
    "            \n",
    "        if col_type != object:\n",
    "            c_min = df[col].min()\n",
    "            c_max = df[col].max()\n",
    "            if str(col_type)[:3] == 'int':\n",
    "                if c_min > np.iinfo(np.int8).min and c_max < np.iinfo(np.int8).max:\n",
    "                    df[col] = df[col].astype(np.int8)\n",
    "                elif c_min > np.iinfo(np.int16).min and c_max < np.iinfo(np.int16).max:\n",
    "                    df[col] = df[col].astype(np.int16)\n",
    "                elif c_min > np.iinfo(np.int32).min and c_max < np.iinfo(np.int32).max:\n",
    "                    df[col] = df[col].astype(np.int32)\n",
    "                elif c_min > np.iinfo(np.int64).min and c_max < np.iinfo(np.int64).max:\n",
    "                    df[col] = df[col].astype(np.int64)\n",
    "                    \n",
    "            else:\n",
    "                if c_min > np.finfo(np.float16).min and c_max < np.finfo(np.float16).max:\n",
    "                    df[col] = df[col].astype(np.float16)\n",
    "                elif c_min > np.finfo(np.float32).min and c_max < np.finfo(np.float32).max:\n",
    "                    df[col] = df[col].astype(np.float32)\n",
    "                else:\n",
    "                    df[col] = df[col].astype(np.float64)\n",
    "                    \n",
    "        else:\n",
    "            continue\n",
    "    end_mem = df.memory_usage().sum() / 1024**2\n",
    "    print('Memory usage after optimization is: {:.2f} MB'.format(end_mem))\n",
    "    print('Decreased by {:.1f}%'.format(100 * (start_mem - end_mem) / start_mem))\n",
    "    \n",
    "    return df"
   ]
  },
  {
   "cell_type": "markdown",
   "id": "74b5263e",
   "metadata": {
    "papermill": {
     "duration": 0.016535,
     "end_time": "2024-05-06T11:25:08.532215",
     "exception": false,
     "start_time": "2024-05-06T11:25:08.515680",
     "status": "completed"
    },
    "tags": []
   },
   "source": [
    "### Создание совместных тестовых данных\n"
   ]
  },
  {
   "cell_type": "markdown",
   "id": "a17b8780",
   "metadata": {
    "papermill": {
     "duration": 0.016143,
     "end_time": "2024-05-06T11:25:08.564868",
     "exception": false,
     "start_time": "2024-05-06T11:25:08.548725",
     "status": "completed"
    },
    "tags": []
   },
   "source": [
    "### Part 1"
   ]
  },
  {
   "cell_type": "markdown",
   "id": "6f531020",
   "metadata": {
    "papermill": {
     "duration": 0.016443,
     "end_time": "2024-05-06T11:25:08.597776",
     "exception": false,
     "start_time": "2024-05-06T11:25:08.581333",
     "status": "completed"
    },
    "tags": []
   },
   "source": [
    "Обработка тренировочного файла. Отбрасываемые столбцы вручную отбираются из того, что было выброшено на тренировке, исходя из избыточных недостающих значений. Мы использовали . drop(errors='ignore') для обработки ситуаций, когда скрытый тестовый набор имел разные столбцы."
   ]
  },
  {
   "cell_type": "code",
   "execution_count": 4,
   "id": "133a8204",
   "metadata": {
    "execution": {
     "iopub.execute_input": "2024-05-06T11:25:08.632895Z",
     "iopub.status.busy": "2024-05-06T11:25:08.631837Z",
     "iopub.status.idle": "2024-05-06T11:25:08.812220Z",
     "shell.execute_reply": "2024-05-06T11:25:08.811410Z"
    },
    "papermill": {
     "duration": 0.200318,
     "end_time": "2024-05-06T11:25:08.814524",
     "exception": false,
     "start_time": "2024-05-06T11:25:08.614206",
     "status": "completed"
    },
    "tags": []
   },
   "outputs": [],
   "source": [
    "test_basetable = pl.read_csv(pathway + \"csv_files/test/test_base.csv\")\n",
    "test_static = pl.concat(\n",
    "    [pl.read_csv(pathway + \"csv_files/test/test_static_0_0.csv\").pipe(set_table_dtypes),\n",
    "    pl.read_csv(pathway + \"csv_files/test/test_static_0_1.csv\").pipe(set_table_dtypes),\n",
    "    pl.read_csv(pathway + \"csv_files/test/test_static_0_2.csv\").pipe(set_table_dtypes)], how=\"vertical_relaxed\")\n",
    "test_static_cb=pl.read_csv(pathway + \"csv_files/test/test_static_cb_0.csv\").pipe(set_table_dtypes)\n",
    "test_person_1=pl.read_csv(pathway + \"csv_files/test/test_person_1.csv\").pipe(set_table_dtypes)\n",
    "test_credit_bureau_b_2=pl.read_csv(pathway + \"csv_files/test/test_credit_bureau_b_2.csv\").pipe(set_table_dtypes)"
   ]
  },
  {
   "cell_type": "code",
   "execution_count": 5,
   "id": "8fd95f87",
   "metadata": {
    "execution": {
     "iopub.execute_input": "2024-05-06T11:25:08.849609Z",
     "iopub.status.busy": "2024-05-06T11:25:08.849295Z",
     "iopub.status.idle": "2024-05-06T11:25:08.887508Z",
     "shell.execute_reply": "2024-05-06T11:25:08.886668Z"
    },
    "papermill": {
     "duration": 0.057781,
     "end_time": "2024-05-06T11:25:08.889638",
     "exception": false,
     "start_time": "2024-05-06T11:25:08.831857",
     "status": "completed"
    },
    "tags": []
   },
   "outputs": [],
   "source": [
    "# additional depth = 1 files\n",
    "\n",
    "test_other_1 = pl.read_csv(pathway + \"csv_files/test/test_other_1.csv\").pipe(set_table_dtypes)\n",
    "\n",
    "test_credit_bureau_b_1 = pl.read_csv(pathway + \"csv_files/test/test_credit_bureau_b_1.csv\").pipe(set_table_dtypes)\n",
    "\n",
    "test_deposit_1 = pl.read_csv(pathway + \"csv_files/test/test_deposit_1.csv\").pipe(set_table_dtypes)\n",
    "\n",
    "test_basetable = test_basetable.with_columns(pl.col('date_decision').cast(pl.Date))"
   ]
  },
  {
   "cell_type": "code",
   "execution_count": 6,
   "id": "0240a147",
   "metadata": {
    "execution": {
     "iopub.execute_input": "2024-05-06T11:25:08.924377Z",
     "iopub.status.busy": "2024-05-06T11:25:08.924064Z",
     "iopub.status.idle": "2024-05-06T11:25:08.947183Z",
     "shell.execute_reply": "2024-05-06T11:25:08.946455Z"
    },
    "papermill": {
     "duration": 0.042425,
     "end_time": "2024-05-06T11:25:08.949020",
     "exception": false,
     "start_time": "2024-05-06T11:25:08.906595",
     "status": "completed"
    },
    "tags": []
   },
   "outputs": [],
   "source": [
    "test_person_1_feats_1 = test_person_1.group_by(\"case_id\").agg(\n",
    "    pl.col(\"mainoccupationinc_384A\").sum().alias(\"mainoccupationinc_384A_sum\"))\n",
    "\n",
    "#num_group1=0 представляет лицо, обратившееся за кредитом\n",
    "test_person_1_feats_2 = test_person_1.select([\"case_id\", \"num_group1\", \"incometype_1044T\", \"birth_259D\",\n",
    "    \"empl_employedfrom_271D\",\"empl_industry_691L\",\"familystate_447L\",\"sex_738L\",\"type_25L\",\n",
    "    \"safeguarantyflag_411L\",\"empl_employedtotal_800L\",\"role_1084L\"]).filter(\n",
    "    pl.col(\"num_group1\")==0).drop(\"num_group1\")\n",
    "\n",
    "test_credit_bureau_b_2_feats = test_credit_bureau_b_2.group_by(\"case_id\").agg(\n",
    "    pl.col(\"pmts_pmtsoverdue_635A\").sum().alias(\"pmts_pmtsoverdue_635A_sum\"),\n",
    "    pl.col(\"pmts_dpdvalue_108P\").sum().alias(\"pmts_dpdvalue_108P_sum\"))"
   ]
  },
  {
   "cell_type": "code",
   "execution_count": 7,
   "id": "c4fb9148",
   "metadata": {
    "execution": {
     "iopub.execute_input": "2024-05-06T11:25:08.983372Z",
     "iopub.status.busy": "2024-05-06T11:25:08.983092Z",
     "iopub.status.idle": "2024-05-06T11:25:08.990619Z",
     "shell.execute_reply": "2024-05-06T11:25:08.989744Z"
    },
    "papermill": {
     "duration": 0.02684,
     "end_time": "2024-05-06T11:25:08.992456",
     "exception": false,
     "start_time": "2024-05-06T11:25:08.965616",
     "status": "completed"
    },
    "tags": []
   },
   "outputs": [
    {
     "data": {
      "text/plain": [
       "'\\n# use aggregation functions in tables with depth >=1\\n#this code cell commented out because error somewhere\\n\\ntest_person_1_feats_1 = test_person_1.group_by(\"case_id\").agg(\\n    pl.col(\"mainoccupationinc_384A\").sum().alias(\"mainoccupationinc_384A_sum\"))\\n\\n#num_group1=0 represents the person who originally applied for the loan\\ntest_person_1_feats_2 = test_person_1.select([\"case_id\", \"num_group1\", \"incometype_1044T\", \"birth_259D\", \"empl_employedfrom_271D\", \"empl_industry_691L\", \"familystate_447L\", \"sex_738L\", \"type_25L\",\\n                                             \"safeguarantyflag_411L\", \"empl_employedtotal_800L\", \"role_1084L\"]).filter(pl.col(\"num_group1\")==0).drop(\"num_group1\")\\n\\n#we now have num_group1 and num_group2, so aggregate again\\ntest_credit_bureau_b_2_feats = test_credit_bureau_b_2.group_by(\"case_id\").agg(\\n    pl.col(\"pmts_pmtsoverdue_635A\").sum().alias(\"pmts_pmtsoverdue_635A_sum\"),\\n    pl.col(\"pmts_dpdvalue_108P\").sum().alias(\"pmts_dpdvalue_108P_sum\"))\\n\\n'"
      ]
     },
     "execution_count": 7,
     "metadata": {},
     "output_type": "execute_result"
    }
   ],
   "source": [
    "\"\"\"\n",
    "# use aggregation functions in tables with depth >=1\n",
    "#this code cell commented out because error somewhere\n",
    "\n",
    "test_person_1_feats_1 = test_person_1.group_by(\"case_id\").agg(\n",
    "    pl.col(\"mainoccupationinc_384A\").sum().alias(\"mainoccupationinc_384A_sum\"))\n",
    "\n",
    "#num_group1=0 represents the person who originally applied for the loan\n",
    "test_person_1_feats_2 = test_person_1.select([\"case_id\", \"num_group1\", \"incometype_1044T\", \"birth_259D\", \"empl_employedfrom_271D\", \"empl_industry_691L\", \"familystate_447L\", \"sex_738L\", \"type_25L\",\n",
    "                                             \"safeguarantyflag_411L\", \"empl_employedtotal_800L\", \"role_1084L\"]).filter(pl.col(\"num_group1\")==0).drop(\"num_group1\")\n",
    "\n",
    "#we now have num_group1 and num_group2, so aggregate again\n",
    "test_credit_bureau_b_2_feats = test_credit_bureau_b_2.group_by(\"case_id\").agg(\n",
    "    pl.col(\"pmts_pmtsoverdue_635A\").sum().alias(\"pmts_pmtsoverdue_635A_sum\"),\n",
    "    pl.col(\"pmts_dpdvalue_108P\").sum().alias(\"pmts_dpdvalue_108P_sum\"))\n",
    "\n",
    "\"\"\""
   ]
  },
  {
   "cell_type": "code",
   "execution_count": 8,
   "id": "cea96f05",
   "metadata": {
    "execution": {
     "iopub.execute_input": "2024-05-06T11:25:09.027066Z",
     "iopub.status.busy": "2024-05-06T11:25:09.026799Z",
     "iopub.status.idle": "2024-05-06T11:25:09.043076Z",
     "shell.execute_reply": "2024-05-06T11:25:09.042218Z"
    },
    "papermill": {
     "duration": 0.035891,
     "end_time": "2024-05-06T11:25:09.045083",
     "exception": false,
     "start_time": "2024-05-06T11:25:09.009192",
     "status": "completed"
    },
    "tags": []
   },
   "outputs": [],
   "source": [
    "# Дополнительная агрегация для файлов глубины=1\n",
    "test_other_1_feats = test_other_1.group_by(\"case_id\").agg(\n",
    "    pl.col(\"amtdebitincoming_4809443A\").sum().alias(\"amtdebitincoming_4809443A_sum\"),\n",
    "    pl.col(\"amtdebitoutgoing_4809440A\").sum().alias(\"amtdebitoutgoing_4809440A_sum\"),\n",
    "    pl.col(\"amtdepositbalance_4809441A\").sum().alias(\"amtdepositbalance_4809441A_sum\"),\n",
    "    pl.col(\"amtdepositincoming_4809444A\").sum().alias(\"amtdepositincoming_4809444A_sum\"),\n",
    "    pl.col(\"amtdepositoutgoing_4809442A\").sum().alias(\"amtdepositoutgoing_4809442A_sum\"))\n",
    "\n",
    "test_credit_bureau_b_1_feats = test_credit_bureau_b_1.group_by(\"case_id\").agg(\n",
    "    pl.col(\"amount_1115A\").sum().alias(\"amount_1115A_sum\"),\n",
    "    pl.col(\"credquantity_1099L\").sum().alias(\"credquantity_1099L_sum\"),\n",
    "    pl.col(\"credquantity_984L\").sum().alias(\"credquantity_984L_sum\"),\n",
    "    pl.col(\"debtpastduevalue_732A\").sum().alias(\"debtpastduevalue_732A_sum\"),\n",
    "    pl.col(\"debtvalue_227A\").sum().alias(\"debtvalue_227A_sum\"),\n",
    "    pl.col(\"dpd_550P\").sum().alias(\"dpd_550P_sum\"),\n",
    "    pl.col(\"dpd_733P\").sum().alias(\"dpd_733P_sum\"),\n",
    "    pl.col(\"dpdmax_851P\").max().alias(\"dpdmax_851P_max\"),\n",
    "    pl.col(\"installmentamount_644A\").sum().alias(\"installmentamount_644A_sum\"),\n",
    "    pl.col(\"installmentamount_833A\").sum().alias(\"installmentamount_833A_sum\"),\n",
    "    pl.col(\"instlamount_892A\").sum().alias(\"instlamount_892A_sum\"),\n",
    "    pl.col(\"interestrateyearly_538L\").max().alias(\"interestrateyearly_538L_max\"),\n",
    "    pl.col(\"maxdebtpduevalodued_3940955A\").max().alias(\"maxdebtpduevalodued_3940955A_max\"),\n",
    "    pl.col(\"numberofinstls_810L\").sum().alias(\"numberofinstls_810L_sum\"),\n",
    "    pl.col(\"overdueamountmax_950A\").max().alias(\"overdueamountmax_950A_max\"),\n",
    "    pl.col(\"pmtdaysoverdue_1135P\").sum().alias(\"pmtdaysoverdue_1135P_sum\"),\n",
    "    pl.col(\"pmtnumpending_403L\").sum().alias(\"pmtnumpending_403L_sum\"),\n",
    "    pl.col(\"residualamount_3940956A\").sum().alias(\"residualamount_3940956A_sum\"),\n",
    "    pl.col(\"totalamount_503A\").sum().alias(\"totalamount_503A_sum\"), \n",
    "    pl.col(\"totalamount_881A\").sum().alias(\"totalamount_881A_sum\"))\n",
    "\n",
    "test_deposit_1_feats = test_deposit_1.group_by(\"case_id\").agg(\n",
    "    pl.col(\"amount_416A\").sum().alias(\"amount_416A_sum\"))"
   ]
  },
  {
   "cell_type": "code",
   "execution_count": 9,
   "id": "ae0cd7c7",
   "metadata": {
    "execution": {
     "iopub.execute_input": "2024-05-06T11:25:09.079918Z",
     "iopub.status.busy": "2024-05-06T11:25:09.079646Z",
     "iopub.status.idle": "2024-05-06T11:25:09.087344Z",
     "shell.execute_reply": "2024-05-06T11:25:09.086575Z"
    },
    "papermill": {
     "duration": 0.027211,
     "end_time": "2024-05-06T11:25:09.089122",
     "exception": false,
     "start_time": "2024-05-06T11:25:09.061911",
     "status": "completed"
    },
    "tags": []
   },
   "outputs": [
    {
     "data": {
      "text/plain": [
       "'\\n# additional aggregation for depth = 1 files\\n#commented this out because error\\n\\ntest_other_1_feats = test_other_1.group_by(\"case_id\").agg(\\n    pl.col(\"amtdebitincoming_4809443A\").sum().alias(\"amtdebitincoming_4809443A_sum\"),\\n    pl.col(\"amtdebitoutgoing_4809440A\").sum().alias(\"amtdebitoutgoing_4809440A_sum\"),\\n    pl.col(\"amtdepositbalance_4809441A\").sum().alias(\"amtdepositbalance_4809441A_sum\"),\\n    pl.col(\"amtdepositincoming_4809444A\").sum().alias(\"amtdepositincoming_4809444A_sum\"),\\n    pl.col(\"amtdepositoutgoing_4809442A\").sum().alias(\"amtdepositougoing_4809442A_sum\"))\\n\\ntest_credit_bureau_b_1_feats = test_credit_bureau_b_1.group_by(\"case_id\").agg(\\n    pl.col(\"amount_1115A\").sum().alias(\"amount_1115A_sum\"),\\n    pl.col(\"credquantity_1099L\").sum().alias(\"credquantity_1099L_sum\"),\\n    pl.col(\"credquantity_984L\").sum().alias(\"credquantity_984L_sum\"),\\n    pl.col(\"debtpastduevalue_732A\").sum().alias(\"debtpastduevalue_732_sum\"),\\n    pl.col(\"debtvalue_227A\").sum().alias(\"debtvalue_227A_sum\"),\\n    pl.col(\"dpd_550P\").sum().alias(\"dpd_550P_sum\"),\\n    pl.col(\"dpd_733P\").sum().alias(\"dpd_733P_sum\"),\\n    pl.col(\"dpdmax_851P\").max().alias(\"dpdmax_851P_max\"),\\n    pl.col(\"installmentamount_644A\").sum().alias(\"installmentamount_644A_sum\"),\\n    pl.col(\"installmentamount_833A\").sum().alias(\"installmentamount_833A_sum\"),\\n    pl.col(\"instlamount_892A\").sum().alias(\"instlamount_892A_sum\"),\\n    pl.col(\"interestrateyearly_538L\").max().alias(\"interestrateyearly_538L_max\"),\\n    pl.col(\"maxdebtpduevalodued_3940955A\").max().alias(\"maxdebtpduevalodued_3940955A_max\"),\\n    pl.col(\"numberofinstls_810L\").sum().alias(\"numberofinstls_810L_sum\"),\\n    pl.col(\"overdueamountmax_950A\").max().alias(\"overdueamountmax_950A_max\"),\\n    pl.col(\"pmtdaysoverdue_1135P\").sum().alias(\"pmtdaysoverdue_1135P_sum\"),\\n    pl.col(\"pmtnumpending_403L\").sum().alias(\"pmtnumpending_403L_sum\"),\\n    pl.col(\"residualamount_3940956A\").sum().alias(\"residualamount_3940956A_sum\"),\\n    pl.col(\"totalamount_503A\").sum().alias(\"totalamount_503A_sum\"),\\n    pl.col(\"totalamount_881A\").sum().alias(\"totalamount_881A_sum\"))\\n\\ntest_deposit_1_feats = test_deposit_1.group_by(\"case_id\").agg(\\n    pl.col(\"amount_416A\").sum().alias(\"amount_416A_sum\"))\\n    \\n'"
      ]
     },
     "execution_count": 9,
     "metadata": {},
     "output_type": "execute_result"
    }
   ],
   "source": [
    "\"\"\"\n",
    "# additional aggregation for depth = 1 files\n",
    "#commented this out because error\n",
    "\n",
    "test_other_1_feats = test_other_1.group_by(\"case_id\").agg(\n",
    "    pl.col(\"amtdebitincoming_4809443A\").sum().alias(\"amtdebitincoming_4809443A_sum\"),\n",
    "    pl.col(\"amtdebitoutgoing_4809440A\").sum().alias(\"amtdebitoutgoing_4809440A_sum\"),\n",
    "    pl.col(\"amtdepositbalance_4809441A\").sum().alias(\"amtdepositbalance_4809441A_sum\"),\n",
    "    pl.col(\"amtdepositincoming_4809444A\").sum().alias(\"amtdepositincoming_4809444A_sum\"),\n",
    "    pl.col(\"amtdepositoutgoing_4809442A\").sum().alias(\"amtdepositougoing_4809442A_sum\"))\n",
    "\n",
    "test_credit_bureau_b_1_feats = test_credit_bureau_b_1.group_by(\"case_id\").agg(\n",
    "    pl.col(\"amount_1115A\").sum().alias(\"amount_1115A_sum\"),\n",
    "    pl.col(\"credquantity_1099L\").sum().alias(\"credquantity_1099L_sum\"),\n",
    "    pl.col(\"credquantity_984L\").sum().alias(\"credquantity_984L_sum\"),\n",
    "    pl.col(\"debtpastduevalue_732A\").sum().alias(\"debtpastduevalue_732_sum\"),\n",
    "    pl.col(\"debtvalue_227A\").sum().alias(\"debtvalue_227A_sum\"),\n",
    "    pl.col(\"dpd_550P\").sum().alias(\"dpd_550P_sum\"),\n",
    "    pl.col(\"dpd_733P\").sum().alias(\"dpd_733P_sum\"),\n",
    "    pl.col(\"dpdmax_851P\").max().alias(\"dpdmax_851P_max\"),\n",
    "    pl.col(\"installmentamount_644A\").sum().alias(\"installmentamount_644A_sum\"),\n",
    "    pl.col(\"installmentamount_833A\").sum().alias(\"installmentamount_833A_sum\"),\n",
    "    pl.col(\"instlamount_892A\").sum().alias(\"instlamount_892A_sum\"),\n",
    "    pl.col(\"interestrateyearly_538L\").max().alias(\"interestrateyearly_538L_max\"),\n",
    "    pl.col(\"maxdebtpduevalodued_3940955A\").max().alias(\"maxdebtpduevalodued_3940955A_max\"),\n",
    "    pl.col(\"numberofinstls_810L\").sum().alias(\"numberofinstls_810L_sum\"),\n",
    "    pl.col(\"overdueamountmax_950A\").max().alias(\"overdueamountmax_950A_max\"),\n",
    "    pl.col(\"pmtdaysoverdue_1135P\").sum().alias(\"pmtdaysoverdue_1135P_sum\"),\n",
    "    pl.col(\"pmtnumpending_403L\").sum().alias(\"pmtnumpending_403L_sum\"),\n",
    "    pl.col(\"residualamount_3940956A\").sum().alias(\"residualamount_3940956A_sum\"),\n",
    "    pl.col(\"totalamount_503A\").sum().alias(\"totalamount_503A_sum\"),\n",
    "    pl.col(\"totalamount_881A\").sum().alias(\"totalamount_881A_sum\"))\n",
    "\n",
    "test_deposit_1_feats = test_deposit_1.group_by(\"case_id\").agg(\n",
    "    pl.col(\"amount_416A\").sum().alias(\"amount_416A_sum\"))\n",
    "    \n",
    "\"\"\""
   ]
  },
  {
   "cell_type": "code",
   "execution_count": 10,
   "id": "a850188a",
   "metadata": {
    "execution": {
     "iopub.execute_input": "2024-05-06T11:25:09.124002Z",
     "iopub.status.busy": "2024-05-06T11:25:09.123757Z",
     "iopub.status.idle": "2024-05-06T11:25:09.151404Z",
     "shell.execute_reply": "2024-05-06T11:25:09.150573Z"
    },
    "papermill": {
     "duration": 0.047193,
     "end_time": "2024-05-06T11:25:09.153272",
     "exception": false,
     "start_time": "2024-05-06T11:25:09.106079",
     "status": "completed"
    },
    "tags": []
   },
   "outputs": [],
   "source": [
    "# соединять все таблицы/столбцы вместе\n",
    "\n",
    "join_data1 = test_basetable.join(test_static, how=\"left\", on=\"case_id\"\n",
    ").join(test_static_cb, how=\"left\", on=\"case_id\"\n",
    ").join(test_person_1_feats_1, how=\"left\", on=\"case_id\"\n",
    ").join(test_person_1_feats_2, how=\"left\", on=\"case_id\"\n",
    ").join(test_credit_bureau_b_2_feats, how=\"left\", on=\"case_id\"\n",
    ").join(test_other_1_feats, how=\"left\", on=\"case_id\"\n",
    ").join(test_credit_bureau_b_1_feats, how=\"left\", on=\"case_id\"\n",
    ").join(test_deposit_1_feats, how=\"left\", on=\"case_id\"\n",
    ")"
   ]
  },
  {
   "cell_type": "code",
   "execution_count": 11,
   "id": "5f43b5c3",
   "metadata": {
    "execution": {
     "iopub.execute_input": "2024-05-06T11:25:09.188853Z",
     "iopub.status.busy": "2024-05-06T11:25:09.188588Z",
     "iopub.status.idle": "2024-05-06T11:25:09.195794Z",
     "shell.execute_reply": "2024-05-06T11:25:09.194972Z"
    },
    "papermill": {
     "duration": 0.027032,
     "end_time": "2024-05-06T11:25:09.197788",
     "exception": false,
     "start_time": "2024-05-06T11:25:09.170756",
     "status": "completed"
    },
    "tags": []
   },
   "outputs": [
    {
     "data": {
      "text/plain": [
       "'\\n#after merge, convert back to pandas for errors = \\'ignore\\' functionality\\n\\njoin_data1 = join_data1.to_pandas()\\n\\ndrop_cols = [\\'clientscnt_136L\\', \\'datelastinstal40dpd_247D\\', \\'equalitydataagreement_891L\\', \\'equalityempfrom_62L\\', \\'interestrategrace_34L\\', \\'isbidproductrequest_292L\\', \\'lastdependentsnum_448L\\',\\n            \\'lastotherinc_902A\\', \\'lastotherlnsexpense_631A\\', \\'lastrepayingdate_696D\\', \\'maxannuity_4075009A\\', \\'payvacationpostpone_4187118D\\', \\'validfrom_1069D\\', \\'assignmentdate_238D\\',\\n            \\'assignmentdate_4527235D\\', \\'assignmentdate_4955616D\\', \\'dateofbirth_342D\\', \\'for3years_128L\\', \\'for3years_504L\\', \\'for3years_584L\\', \\'formonth_118L\\', \\'formonth_206L\\', \\'formonth_535L\\', \\'forquarter_1017L\\',\\n            \\'forquarter_462L\\', \\'forquarter_634L\\', \\'fortoday_1092L\\', \\'forweek_1077L\\', \\'forweek_528L\\', \\'forweek_601L\\', \\'foryear_618L\\', \\'foryear_818L\\', \\'foryear_850L\\', \\'pmtaverage_3A\\', \\'pmtaverage_4527227A\\',\\n            \\'pmtaverage_4955615A\\', \\'pmtcount_4527229L\\', \\'pmtcount_4955617L\\', \\'pmtcount_693L\\', \\'riskassessment_302T\\', \\'riskassessment_940T\\', \\'pmts_pmtsoverdue_635A_sum\\', \\'pmts_dpdvalue_108P_sum\\',\\n            \\'amtdebitincoming_4809443A_sum\\', \\'amtdebitoutgoing_4809440A_sum\\', \\'amtdepositbalance_4809441A_sum\\', \\'amtdepositincoming_4809444A_sum\\', \\'amtdepositoutgoing_4809442A_sum\\', \\'amount_1115A_sum\\',\\n            \\'credquantity_1099L_sum\\', \\'credquantity_984L_sum\\', \\'debtpastduevalue_732A_sum\\', \\'debtvalue_227A_sum\\', \\'dpd_550P_sum\\', \\'dpd_733P_sum\\', \\'dpdmax_851P_max\\', \\'installmentamount_644A_sum\\',\\n            \\'installmentamount_833A_sum\\', \\'instlamount_892A_sum\\', \\'interestrateyearly_538L_max\\', \\'maxdebtpduevalodued_3940955A_max\\', \\'numberofinstls_810L_sum\\', \\'overdueamountmax_950A_max\\', \\'pmtdaysoverdue_1135P_sum\\',\\n            \\'pmtnumpending_403L_sum\\', \\'residualamount_3940956A_sum\\', \\'totalamount_503A_sum\\', \\'totalamount_881A_sum\\', \\'amount_416A_sum\\']\\n\\njoin_data1 = join_data1.drop(drop_cols, axis=1, errors=\"ignore\")\\njoin_data1.shape\\n\\n'"
      ]
     },
     "execution_count": 11,
     "metadata": {},
     "output_type": "execute_result"
    }
   ],
   "source": [
    "\"\"\"\n",
    "#after merge, convert back to pandas for errors = 'ignore' functionality\n",
    "\n",
    "join_data1 = join_data1.to_pandas()\n",
    "\n",
    "drop_cols = ['clientscnt_136L', 'datelastinstal40dpd_247D', 'equalitydataagreement_891L', 'equalityempfrom_62L', 'interestrategrace_34L', 'isbidproductrequest_292L', 'lastdependentsnum_448L',\n",
    "            'lastotherinc_902A', 'lastotherlnsexpense_631A', 'lastrepayingdate_696D', 'maxannuity_4075009A', 'payvacationpostpone_4187118D', 'validfrom_1069D', 'assignmentdate_238D',\n",
    "            'assignmentdate_4527235D', 'assignmentdate_4955616D', 'dateofbirth_342D', 'for3years_128L', 'for3years_504L', 'for3years_584L', 'formonth_118L', 'formonth_206L', 'formonth_535L', 'forquarter_1017L',\n",
    "            'forquarter_462L', 'forquarter_634L', 'fortoday_1092L', 'forweek_1077L', 'forweek_528L', 'forweek_601L', 'foryear_618L', 'foryear_818L', 'foryear_850L', 'pmtaverage_3A', 'pmtaverage_4527227A',\n",
    "            'pmtaverage_4955615A', 'pmtcount_4527229L', 'pmtcount_4955617L', 'pmtcount_693L', 'riskassessment_302T', 'riskassessment_940T', 'pmts_pmtsoverdue_635A_sum', 'pmts_dpdvalue_108P_sum',\n",
    "            'amtdebitincoming_4809443A_sum', 'amtdebitoutgoing_4809440A_sum', 'amtdepositbalance_4809441A_sum', 'amtdepositincoming_4809444A_sum', 'amtdepositoutgoing_4809442A_sum', 'amount_1115A_sum',\n",
    "            'credquantity_1099L_sum', 'credquantity_984L_sum', 'debtpastduevalue_732A_sum', 'debtvalue_227A_sum', 'dpd_550P_sum', 'dpd_733P_sum', 'dpdmax_851P_max', 'installmentamount_644A_sum',\n",
    "            'installmentamount_833A_sum', 'instlamount_892A_sum', 'interestrateyearly_538L_max', 'maxdebtpduevalodued_3940955A_max', 'numberofinstls_810L_sum', 'overdueamountmax_950A_max', 'pmtdaysoverdue_1135P_sum',\n",
    "            'pmtnumpending_403L_sum', 'residualamount_3940956A_sum', 'totalamount_503A_sum', 'totalamount_881A_sum', 'amount_416A_sum']\n",
    "\n",
    "join_data1 = join_data1.drop(drop_cols, axis=1, errors=\"ignore\")\n",
    "join_data1.shape\n",
    "\n",
    "\"\"\""
   ]
  },
  {
   "cell_type": "code",
   "execution_count": 12,
   "id": "faf14028",
   "metadata": {
    "execution": {
     "iopub.execute_input": "2024-05-06T11:25:09.268490Z",
     "iopub.status.busy": "2024-05-06T11:25:09.267885Z",
     "iopub.status.idle": "2024-05-06T11:25:09.310214Z",
     "shell.execute_reply": "2024-05-06T11:25:09.309363Z"
    },
    "papermill": {
     "duration": 0.062498,
     "end_time": "2024-05-06T11:25:09.312068",
     "exception": false,
     "start_time": "2024-05-06T11:25:09.249570",
     "status": "completed"
    },
    "tags": []
   },
   "outputs": [
    {
     "data": {
      "text/plain": [
       "(10, 193)"
      ]
     },
     "execution_count": 12,
     "metadata": {},
     "output_type": "execute_result"
    }
   ],
   "source": [
    "# После слияния преобразовать обратно в pandas\n",
    "join_data1 = join_data1.to_pandas()\n",
    "# Убираем лишние столбцы\n",
    "drop_cols = ['clientscnt_136L', 'datelastinstal40dpd_247D', 'equalitydataagreement_891L', 'equalityempfrom_62L', 'interestrategrace_34L', 'isbidproductrequest_292L', 'lastdependentsnum_448L', 'lastotherinc_902A', 'lastotherlnsexpense_631A', 'lastrepayingdate_696D', 'maxannuity_4075009A', 'payvacationpostpone_4187118D', 'validfrom_1069D', 'assignmentdate_238D', 'assignmentdate_4527235D', 'assignmentdate_4955616D', 'dateofbirth_342D', 'for3years_128L', 'for3years_504L', 'for3years_584L', 'formonth_118L', 'formonth_206L', 'formonth_535L', 'forquarter_1017L', 'forquarter_462L', 'forquarter_634L', 'fortoday_1092L', 'forweek_1077L', 'forweek_528L', 'forweek_601L', 'foryear_618L', 'foryear_818L', 'foryear_850L', 'pmtaverage_3A', 'pmtaverage_4527227A', 'pmtaverage_4955615A', 'pmtcount_4527229L', 'pmtcount_4955617L', 'pmtcount_693L', 'riskassesment_302T', 'riskassesment_940T', 'pmts_pmtsoverdue_635A_sum', 'pmts_dpdvalue_108P_sum', 'amtdebitincoming_4809443A_sum', 'amtdebitoutgoing_4809440A_sum', 'amtdepositbalance_4809441A_sum', 'amtdepositincoming_4809444A_sum', 'amtdepositoutgoing_4809442A_sum', 'amount_1115A_sum', 'credquantity_1099L_sum', 'credquantity_984L_sum', 'debtpastduevalue_732A_sum', 'debtvalue_227A_sum', 'dpd_550P_sum', 'dpd_733P_sum', 'dpdmax_851P_max', 'installmentamount_644A_sum', 'installmentamount_833A_sum', 'instlamount_892A_sum', 'interestrateyearly_538L_max', 'maxdebtpduevalodued_3940955A_max', 'numberofinstls_810L_sum', 'overdueamountmax_950A_max', 'pmtdaysoverdue_1135P_sum', 'pmtnumpending_403L_sum', 'residualamount_3940956A_sum', 'totalamount_503A_sum', 'totalamount_881A_sum', 'amount_416A_sum']\n",
    "join_data1 = join_data1.drop(drop_cols, axis=1, errors='ignore')\n",
    "join_data1.shape"
   ]
  },
  {
   "cell_type": "code",
   "execution_count": 13,
   "id": "b1394f4f",
   "metadata": {
    "execution": {
     "iopub.execute_input": "2024-05-06T11:25:09.348167Z",
     "iopub.status.busy": "2024-05-06T11:25:09.347879Z",
     "iopub.status.idle": "2024-05-06T11:25:09.451737Z",
     "shell.execute_reply": "2024-05-06T11:25:09.450844Z"
    },
    "papermill": {
     "duration": 0.123967,
     "end_time": "2024-05-06T11:25:09.453660",
     "exception": false,
     "start_time": "2024-05-06T11:25:09.329693",
     "status": "completed"
    },
    "tags": []
   },
   "outputs": [
    {
     "data": {
      "text/plain": [
       "0"
      ]
     },
     "execution_count": 13,
     "metadata": {},
     "output_type": "execute_result"
    }
   ],
   "source": [
    "del test_static, test_static_cb, test_person_1, test_credit_bureau_b_2, test_other_1, test_credit_bureau_b_1, test_deposit_1\n",
    "del test_person_1_feats_1, test_person_1_feats_2, test_credit_bureau_b_2_feats, test_other_1_feats, test_credit_bureau_b_1_feats, test_deposit_1_feats\n",
    "gc.collect()"
   ]
  },
  {
   "cell_type": "markdown",
   "id": "f77fb6a0",
   "metadata": {
    "papermill": {
     "duration": 0.017472,
     "end_time": "2024-05-06T11:25:09.489193",
     "exception": false,
     "start_time": "2024-05-06T11:25:09.471721",
     "status": "completed"
    },
    "tags": []
   },
   "source": [
    "### Part 2"
   ]
  },
  {
   "cell_type": "code",
   "execution_count": 14,
   "id": "1aa7144c",
   "metadata": {
    "execution": {
     "iopub.execute_input": "2024-05-06T11:25:09.565279Z",
     "iopub.status.busy": "2024-05-06T11:25:09.564959Z",
     "iopub.status.idle": "2024-05-06T11:25:09.671592Z",
     "shell.execute_reply": "2024-05-06T11:25:09.670796Z"
    },
    "papermill": {
     "duration": 0.127705,
     "end_time": "2024-05-06T11:25:09.673624",
     "exception": false,
     "start_time": "2024-05-06T11:25:09.545919",
     "status": "completed"
    },
    "tags": []
   },
   "outputs": [],
   "source": [
    "# Дополнительные данные испытаний, глубина = 1\n",
    "test_applprev_1 = pl.concat(\n",
    "    [pl.read_csv(pathway + \"csv_files/test/test_applprev_1_0.csv\").pipe(set_table_dtypes),\n",
    "    pl.read_csv(pathway + \"csv_files/test/test_applprev_1_1.csv\").pipe(set_table_dtypes) \n",
    "    ], how=\"vertical_relaxed\")\n",
    "\n",
    "test_tax_registry_a_1 = pl.read_csv(pathway + \"csv_files/test/test_tax_registry_a_1.csv\").pipe(set_table_dtypes)\n",
    "test_tax_registry_b_1 = pl.read_csv(pathway + \"csv_files/test/test_tax_registry_b_1.csv\").pipe(set_table_dtypes)    \n",
    "test_tax_registry_c_1 = pl.read_csv(pathway + \"csv_files/test/test_tax_registry_c_1.csv\").pipe(set_table_dtypes)\n",
    "    \n",
    "test_credit_bureau_a_1 = pl.concat(\n",
    "    [pl.read_csv(pathway + \"csv_files/test/test_credit_bureau_a_1_0.csv\").pipe(set_table_dtypes),\n",
    "    pl.read_csv(pathway + \"csv_files/test/test_credit_bureau_a_1_1.csv\").pipe(set_table_dtypes),\n",
    "    pl.read_csv(pathway + \"csv_files/test/test_credit_bureau_a_1_2.csv\").pipe(set_table_dtypes),\n",
    "    pl.read_csv(pathway + \"csv_files/test/test_credit_bureau_a_1_3.csv\").pipe(set_table_dtypes),\n",
    "    ], how=\"vertical_relaxed\")"
   ]
  },
  {
   "cell_type": "code",
   "execution_count": 15,
   "id": "4541258b",
   "metadata": {
    "execution": {
     "iopub.execute_input": "2024-05-06T11:25:09.710870Z",
     "iopub.status.busy": "2024-05-06T11:25:09.710563Z",
     "iopub.status.idle": "2024-05-06T11:25:09.718724Z",
     "shell.execute_reply": "2024-05-06T11:25:09.718004Z"
    },
    "papermill": {
     "duration": 0.028961,
     "end_time": "2024-05-06T11:25:09.720569",
     "exception": false,
     "start_time": "2024-05-06T11:25:09.691608",
     "status": "completed"
    },
    "tags": []
   },
   "outputs": [],
   "source": [
    "selection = ['credacc_actualbalance_314A', 'credacc_maxhisbal_375A', 'credacc_minhisbal_90A', 'credacc_status_367L', 'credacc_transactions_402L', 'isdebitcard_527L', 'revolvingaccount_394A']\n",
    "test_applprev_1 = test_applprev_1.drop(selection)\n",
    "\n",
    "selection = ['annualeffectiverate_199L', 'annualeffectiverate_63L', 'contractsum_5085717L', 'credlmt_230A', 'credlmt_935A', 'debtoutstand_525A', 'debtoverdue_47A', 'instlamount_768A', 'instlamount_852A', 'interestrate_508L', 'nominalrate_281L', 'numberofcontrsvalue_258L', 'numberofcontrsvalue_358L', 'numberofinstls_320L', 'numberofoutstandinstls_59L', 'numberofoverdueinstlmaxdat_641D', 'outstandingamount_362A', 'overdueamountmax2date_1142D', 'periodicityofpmts_837L', 'prolongationcount_1120L', 'prolongationcount_599L', 'residualamount_488A', 'residualamount_856A', 'totalamount_996A', 'totaldebtoverduevalue_178A', 'totaldebtoverduevalue_718A', 'totaloutstanddebtvalue_39A', 'totaloutstanddebtvalue_668A']\n",
    "test_credit_bureau_a_1 = test_credit_bureau_a_1.drop(selection)\n",
    "\n",
    "# Изменить колонки L на float64\n",
    "for col in test_credit_bureau_a_1.columns:\n",
    "        if col[-1] in (\"L\"):\n",
    "            test_credit_bureau_a_1 = test_credit_bureau_a_1.with_columns(pl.col(col).cast(pl.Float64).alias(col))"
   ]
  },
  {
   "cell_type": "code",
   "execution_count": 16,
   "id": "3c2db1ac",
   "metadata": {
    "execution": {
     "iopub.execute_input": "2024-05-06T11:25:09.757844Z",
     "iopub.status.busy": "2024-05-06T11:25:09.757493Z",
     "iopub.status.idle": "2024-05-06T11:25:09.772633Z",
     "shell.execute_reply": "2024-05-06T11:25:09.771922Z"
    },
    "papermill": {
     "duration": 0.036192,
     "end_time": "2024-05-06T11:25:09.774474",
     "exception": false,
     "start_time": "2024-05-06T11:25:09.738282",
     "status": "completed"
    },
    "tags": []
   },
   "outputs": [],
   "source": [
    "test_applprev_1_feats_1 = test_applprev_1.group_by(\"case_id\").agg(\n",
    "    pl.col(\"actualdpd_943P\").sum().alias(\"actualdpd_943P_sum\"),\n",
    "    pl.col(\"annuity_853A\").sum().alias(\"annuity_853A_sum\"),\n",
    "    custom_range_agg(pl.col(\"annuity_853A\")).alias('annuity_853A_range'),\n",
    "    pl.col(\"byoccupationinc_3656910L\").sum().alias(\"byoccupationinc_3656910L_sum\"),\n",
    "    custom_range_agg(pl.col(\"byoccupationinc_3656910L\")).alias('byoccupationinc_3656910L_range'),\n",
    "    pl.col(\"childnum_21L\").sum().alias(\"childnum_21L_sum\"),\n",
    "    custom_range_agg(pl.col(\"childnum_21L\")).alias('childnum_21L_range'),\n",
    "    pl.col(\"credacc_credlmt_575A\").sum().alias(\"credacc_credlmt_575A_sum\"),\n",
    "    custom_range_agg(pl.col(\"credacc_credlmt_575A\")).alias('credacc_credlmt_575A_range'),\n",
    "    pl.col(\"currdebt_94A\").sum().alias(\"currdebt_94A_sum\"),\n",
    "    pl.col(\"downpmt_134A\").sum().alias(\"downpmt_134A_sum\"),\n",
    "    custom_range_agg(pl.col(\"downpmt_134A\")).alias('downpmt_134A_range'),\n",
    "    pl.col(\"isbidproduct_390L\").max(),\n",
    "    pl.col(\"mainoccupationinc_437A\").sum().alias(\"mainoccupationinc_437A_sum\"),\n",
    "    custom_range_agg(pl.col(\"mainoccupationinc_437A\")).alias('mainoccupationinc_437A_range'),\n",
    "    pl.col(\"maxdpdtolerance_577P\").max().alias(\"maxdpdtolerance_577P_max\"),\n",
    "    pl.col(\"outstandingdebt_522A\").sum().alias(\"outstandingdebt_522A_sum\"),\n",
    "    pl.col(\"pmtnum_8L\").sum().alias(\"pmtnum_8L_sum\"),\n",
    "    custom_range_agg(pl.col(\"pmtnum_8L\")).alias('pmtnum_8L_range'),\n",
    "    pl.col(\"tenor_203L\").sum().alias(\"tenor_203L_sum\"),\n",
    "    custom_range_agg(pl.col(\"tenor_203L\")).alias('tenor_203L_range'))"
   ]
  },
  {
   "cell_type": "code",
   "execution_count": 17,
   "id": "2ecc840b",
   "metadata": {
    "execution": {
     "iopub.execute_input": "2024-05-06T11:25:09.812533Z",
     "iopub.status.busy": "2024-05-06T11:25:09.811931Z",
     "iopub.status.idle": "2024-05-06T11:25:09.822246Z",
     "shell.execute_reply": "2024-05-06T11:25:09.821531Z"
    },
    "papermill": {
     "duration": 0.031166,
     "end_time": "2024-05-06T11:25:09.824154",
     "exception": false,
     "start_time": "2024-05-06T11:25:09.792988",
     "status": "completed"
    },
    "tags": []
   },
   "outputs": [],
   "source": [
    "test_applprev_1_feats_2 = test_applprev_1.select([\"case_id\", \"num_group1\",\n",
    "    \"credtype_587L\",\"familystate_726L\",\"inittransactioncode_279L\",\"status_219L\"]).filter(\n",
    "    pl.col(\"num_group1\")==0).drop(\"num_group1\")\n",
    "\n",
    "test_tax_registry_a_1_feats = test_tax_registry_a_1.group_by(\"case_id\").agg(\n",
    "    pl.col(\"amount_4527230A\").sum().alias(\"amount_4527230A_sum\"),\n",
    "    custom_range_agg(pl.col(\"amount_4527230A\")).alias('amount_4527230A_range'))\n",
    "\n",
    "test_tax_registry_b_1_feats = test_tax_registry_b_1.group_by(\"case_id\").agg(\n",
    "    pl.col(\"amount_4917619A\").sum().alias(\"amount_4917619A_sum\"))\n",
    "\n",
    "test_tax_registry_c_1_feats = test_tax_registry_c_1.group_by(\"case_id\").agg(\n",
    "    pl.col(\"pmtamount_36A\").sum().alias(\"pmtamount_36A_sum\"))"
   ]
  },
  {
   "cell_type": "code",
   "execution_count": 18,
   "id": "3b7a3dc9",
   "metadata": {
    "execution": {
     "iopub.execute_input": "2024-05-06T11:25:09.861447Z",
     "iopub.status.busy": "2024-05-06T11:25:09.861162Z",
     "iopub.status.idle": "2024-05-06T11:25:09.881005Z",
     "shell.execute_reply": "2024-05-06T11:25:09.880006Z"
    },
    "papermill": {
     "duration": 0.040682,
     "end_time": "2024-05-06T11:25:09.882884",
     "exception": false,
     "start_time": "2024-05-06T11:25:09.842202",
     "status": "completed"
    },
    "tags": []
   },
   "outputs": [
    {
     "name": "stdout",
     "output_type": "stream",
     "text": [
      "Percent equal or 0 for annuity_853A_range = 0.000\n",
      "Percent equal or 0 for byoccupationinc_3656910L_range = 0.000\n",
      "Percent equal or 0 for childnum_21L_range = 0.500\n",
      "Percent equal or 0 for credacc_credlmt_575A_range = 0.500\n",
      "Percent equal or 0 for downpmt_134A_range = 1.000\n",
      "Percent equal or 0 for mainoccupationinc_437A_range = 0.000\n",
      "Percent equal or 0 for pmtnum_8L_range = 0.000\n",
      "Percent equal or 0 for tenor_203L_range = 0.000\n",
      "Percent equal or 0 for amount_4527230A_range = 0.000\n"
     ]
    }
   ],
   "source": [
    "test_applprev_1_feats_1 = compare_cols(test_applprev_1_feats_1)\n",
    "test_tax_registry_a_1_feats = compare_cols(test_tax_registry_a_1_feats)"
   ]
  },
  {
   "cell_type": "code",
   "execution_count": 19,
   "id": "96383258",
   "metadata": {
    "execution": {
     "iopub.execute_input": "2024-05-06T11:25:09.928567Z",
     "iopub.status.busy": "2024-05-06T11:25:09.928159Z",
     "iopub.status.idle": "2024-05-06T11:25:09.952972Z",
     "shell.execute_reply": "2024-05-06T11:25:09.951590Z"
    },
    "papermill": {
     "duration": 0.052724,
     "end_time": "2024-05-06T11:25:09.955672",
     "exception": false,
     "start_time": "2024-05-06T11:25:09.902948",
     "status": "completed"
    },
    "tags": []
   },
   "outputs": [
    {
     "name": "stdout",
     "output_type": "stream",
     "text": [
      "Percent equal or 0 for monthlyinstlamount_332A_range = 0.000\n",
      "Percent equal or 0 for monthlyinstlamount_674A_range = 0.000\n",
      "Percent equal or 0 for numberofinstls_229L_range = 0.000\n",
      "Percent equal or 0 for numberofoverdueinstlmax_1151L_range = 0.250\n",
      "Percent equal or 0 for totalamount_6A_range = 0.000\n"
     ]
    }
   ],
   "source": [
    "test_credit_bureau_a_1_feats = test_credit_bureau_a_1.group_by(\"case_id\").agg(\n",
    "    pl.col(\"dpdmax_139P\").max().alias(\"dpdmax_139P_max\"),\n",
    "    pl.col(\"dpdmax_757P\").max().alias(\"dpdmax_757P_max\"),\n",
    "    pl.col(\"monthlyinstlamount_332A\").sum().alias(\"monthlyinstlamount_332A_sum\"),\n",
    "    custom_range_agg(pl.col(\"monthlyinstlamount_332A\")).alias('monthlyinstlamount_332A_range'),\n",
    "    pl.col(\"monthlyinstlamount_674A\").sum().alias(\"monthlyinstlamount_674A_sum\"),\n",
    "    custom_range_agg(pl.col(\"monthlyinstlamount_674A\")).alias('monthlyinstlamount_674A_range'),\n",
    "    pl.col(\"nominalrate_498L\").max().alias(\"nominalrate_498L_max\"),\n",
    "    pl.col(\"numberofinstls_229L\").sum().alias(\"numberofinstls_229L_sum\"),\n",
    "    custom_range_agg(pl.col(\"numberofinstls_229L\")).alias('numberofinstls_229L_range'),\n",
    "    pl.col(\"numberofoutstandinstls_520L\").sum().alias(\"numberofoutstandinstls_520L_sum\"),\n",
    "    pl.col(\"numberofoverdueinstlmax_1039L\").sum().alias(\"numberofoverdueinstlmax_1039L_sum\"),\n",
    "    pl.col(\"numberofoverdueinstlmax_1151L\").sum().alias(\"numberofoverdueinstlmax_1151L_sum\"),\n",
    "    custom_range_agg(pl.col(\"numberofoverdueinstlmax_1151L\")).alias('numberofoverdueinstlmax_1151L_range'),\n",
    "    pl.col(\"numberofoverdueinstls_725L\").sum().alias(\"numberofoverdueinstls_725L_sum\"),\n",
    "    pl.col(\"numberofoverdueinstls_834L\").sum().alias(\"numberofoverdueinstls_834L_sum\"),\n",
    "    pl.col(\"outstandingamount_354A\").sum().alias(\"outstandingamount_354A_sum\"),\n",
    "    pl.col(\"overdueamount_31A\").sum().alias(\"overdueamount_31A_sum\"),\n",
    "    pl.col(\"overdueamount_659A\").sum().alias(\"overdueamount_659A_sum\"),\n",
    "    pl.col(\"overdueamountmax2_14A\").max().alias(\"overdueamountmax2_14A_max\"),\n",
    "    pl.col(\"overdueamountmax2_398A\").max().alias(\"overdueamountmax2_398A_max\"),\n",
    "    pl.col(\"overdueamountmax_155A\").max().alias(\"overdueamountmax_155A_max\"),\n",
    "    pl.col(\"overdueamountmax_35A\").max().alias(\"overdueamountmax_35A_max\"),\n",
    "    pl.col(\"periodicityofpmts_1102L\").max().alias(\"periodicityofpmts_1102L_max\"),\n",
    "    pl.col(\"totalamount_6A\").sum().alias(\"totalamount_6A_sum\"),\n",
    "    custom_range_agg(pl.col(\"totalamount_6A\")).alias('totalamount_6A_range'))\n",
    "\n",
    "test_tax_registry_c_1_feats= test_tax_registry_c_1_feats.with_columns(pl.col('case_id').cast(pl.Int64))\n",
    "\n",
    "test_credit_bureau_a_1_feats = compare_cols(test_credit_bureau_a_1_feats)"
   ]
  },
  {
   "cell_type": "code",
   "execution_count": 20,
   "id": "01df2eb2",
   "metadata": {
    "execution": {
     "iopub.execute_input": "2024-05-06T11:25:09.994136Z",
     "iopub.status.busy": "2024-05-06T11:25:09.993856Z",
     "iopub.status.idle": "2024-05-06T11:25:10.011932Z",
     "shell.execute_reply": "2024-05-06T11:25:10.010741Z"
    },
    "papermill": {
     "duration": 0.040303,
     "end_time": "2024-05-06T11:25:10.014707",
     "exception": false,
     "start_time": "2024-05-06T11:25:09.974404",
     "status": "completed"
    },
    "tags": []
   },
   "outputs": [
    {
     "data": {
      "text/plain": [
       "(10, 54)"
      ]
     },
     "execution_count": 20,
     "metadata": {},
     "output_type": "execute_result"
    }
   ],
   "source": [
    "join_data2 = test_basetable.join(test_applprev_1_feats_1, how=\"left\", on=\"case_id\"\n",
    ").join(test_applprev_1_feats_2, how=\"left\", on=\"case_id\"\n",
    ").join(test_tax_registry_a_1_feats, how=\"left\", on=\"case_id\"\n",
    ").join(test_tax_registry_b_1_feats, how=\"left\", on=\"case_id\"\n",
    ").join(test_tax_registry_c_1_feats, how=\"left\", on=\"case_id\"\n",
    ").join(test_credit_bureau_a_1_feats, how=\"left\", on=\"case_id\")\n",
    "\n",
    "join_data2=join_data2.to_pandas()\n",
    "\n",
    "drop_cols = ['date_decision','MONTH','WEEK_NUM','amount_4917619A_sum']\n",
    "join_data2 = join_data2.drop(drop_cols, axis=1, errors='ignore')\n",
    "join_data2.shape"
   ]
  },
  {
   "cell_type": "code",
   "execution_count": 21,
   "id": "30f52fd6",
   "metadata": {
    "execution": {
     "iopub.execute_input": "2024-05-06T11:25:10.068979Z",
     "iopub.status.busy": "2024-05-06T11:25:10.068428Z",
     "iopub.status.idle": "2024-05-06T11:25:10.181101Z",
     "shell.execute_reply": "2024-05-06T11:25:10.180169Z"
    },
    "papermill": {
     "duration": 0.14193,
     "end_time": "2024-05-06T11:25:10.183131",
     "exception": false,
     "start_time": "2024-05-06T11:25:10.041201",
     "status": "completed"
    },
    "tags": []
   },
   "outputs": [
    {
     "data": {
      "text/plain": [
       "0"
      ]
     },
     "execution_count": 21,
     "metadata": {},
     "output_type": "execute_result"
    }
   ],
   "source": [
    "del test_applprev_1, test_tax_registry_a_1, test_tax_registry_b_1, test_tax_registry_c_1, test_credit_bureau_a_1\n",
    "del test_applprev_1_feats_1, test_applprev_1_feats_2, test_tax_registry_a_1_feats, test_tax_registry_b_1_feats, test_tax_registry_c_1_feats, test_credit_bureau_a_1_feats\n",
    "gc.collect()"
   ]
  },
  {
   "cell_type": "markdown",
   "id": "9eb501df",
   "metadata": {
    "papermill": {
     "duration": 0.018684,
     "end_time": "2024-05-06T11:25:10.220966",
     "exception": false,
     "start_time": "2024-05-06T11:25:10.202282",
     "status": "completed"
    },
    "tags": []
   },
   "source": [
    "### Part 3"
   ]
  },
  {
   "cell_type": "code",
   "execution_count": 22,
   "id": "93cc089e",
   "metadata": {
    "execution": {
     "iopub.execute_input": "2024-05-06T11:25:10.259866Z",
     "iopub.status.busy": "2024-05-06T11:25:10.259522Z",
     "iopub.status.idle": "2024-05-06T11:25:10.282718Z",
     "shell.execute_reply": "2024-05-06T11:25:10.281989Z"
    },
    "papermill": {
     "duration": 0.044937,
     "end_time": "2024-05-06T11:25:10.284643",
     "exception": false,
     "start_time": "2024-05-06T11:25:10.239706",
     "status": "completed"
    },
    "tags": []
   },
   "outputs": [],
   "source": [
    "# Дополнительные данные тестирования, глубина=2\n",
    "\n",
    "test_applprev_2 = pl.read_csv(pathway + \"csv_files/test/test_applprev_2.csv\").pipe(set_table_dtypes)\n",
    "\n",
    "test_person_2 = pl.read_csv(pathway + \"csv_files/test/test_person_2.csv\").pipe(set_table_dtypes)"
   ]
  },
  {
   "cell_type": "code",
   "execution_count": 23,
   "id": "22a5c60f",
   "metadata": {
    "execution": {
     "iopub.execute_input": "2024-05-06T11:25:10.323408Z",
     "iopub.status.busy": "2024-05-06T11:25:10.323122Z",
     "iopub.status.idle": "2024-05-06T11:25:10.426485Z",
     "shell.execute_reply": "2024-05-06T11:25:10.425535Z"
    },
    "papermill": {
     "duration": 0.125547,
     "end_time": "2024-05-06T11:25:10.429067",
     "exception": false,
     "start_time": "2024-05-06T11:25:10.303520",
     "status": "completed"
    },
    "tags": []
   },
   "outputs": [],
   "source": [
    "sel = ['case_id','num_group1','num_group2','pmts_dpd_1073P','pmts_dpd_303P','pmts_overdue_1140A','pmts_overdue_1152A']\n",
    "test_credit_bureau_a_2 = pl.concat(\n",
    "    [pl.read_csv(pathway + \"csv_files/test/test_credit_bureau_a_2_0.csv\",columns=sel).pipe(set_table_dtypes),\n",
    "    pl.read_csv(pathway + \"csv_files/test/test_credit_bureau_a_2_1.csv\",columns=sel).pipe(set_table_dtypes),\n",
    "    pl.read_csv(pathway + \"csv_files/test/test_credit_bureau_a_2_2.csv\",columns=sel).pipe(set_table_dtypes),\n",
    "    pl.read_csv(pathway + \"csv_files/test/test_credit_bureau_a_2_3.csv\",columns=sel).pipe(set_table_dtypes),\n",
    "    pl.read_csv(pathway + \"csv_files/test/test_credit_bureau_a_2_4.csv\",columns=sel).pipe(set_table_dtypes),\n",
    "    pl.read_csv(pathway + \"csv_files/test/test_credit_bureau_a_2_5.csv\",columns=sel).pipe(set_table_dtypes),\n",
    "\n",
    "    pl.read_csv(pathway + \"csv_files/test/test_credit_bureau_a_2_6.csv\",columns=sel).pipe(set_table_dtypes),\n",
    "    pl.read_csv(pathway + \"csv_files/test/test_credit_bureau_a_2_7.csv\",columns=sel).pipe(set_table_dtypes),\n",
    "    pl.read_csv(pathway + \"csv_files/test/test_credit_bureau_a_2_8.csv\",columns=sel).pipe(set_table_dtypes),\n",
    "    pl.read_csv(pathway + \"csv_files/test/test_credit_bureau_a_2_9.csv\",columns=sel).pipe(set_table_dtypes),\n",
    "    pl.read_csv(pathway + \"csv_files/test/test_credit_bureau_a_2_10.csv\",columns=sel).pipe(set_table_dtypes)\n",
    "    ], how=\"vertical_relaxed\")"
   ]
  },
  {
   "cell_type": "code",
   "execution_count": 24,
   "id": "d85140ec",
   "metadata": {
    "execution": {
     "iopub.execute_input": "2024-05-06T11:25:10.471630Z",
     "iopub.status.busy": "2024-05-06T11:25:10.471039Z",
     "iopub.status.idle": "2024-05-06T11:25:10.481807Z",
     "shell.execute_reply": "2024-05-06T11:25:10.480771Z"
    },
    "papermill": {
     "duration": 0.032954,
     "end_time": "2024-05-06T11:25:10.483895",
     "exception": false,
     "start_time": "2024-05-06T11:25:10.450941",
     "status": "completed"
    },
    "tags": []
   },
   "outputs": [],
   "source": [
    "test_applprev_2_feats = test_applprev_2.select([\"case_id\", \"num_group1\", \"num_group2\",\n",
    "    \"conts_type_509L\"]).filter(\n",
    "    (pl.col(\"num_group1\")==0) & (pl.col(\"num_group2\")==0)).drop(\"num_group1\").drop(\"num_group2\") \n",
    "\n",
    "test_credit_bureau_a_2_feats = test_credit_bureau_a_2.group_by(\"case_id\").agg(\n",
    "    pl.col(\"pmts_dpd_1073P\").sum().alias(\"pmts_dpd_1073P_sum\"),\n",
    "    custom_range_agg(pl.col(\"pmts_dpd_1073P\")).alias('pmts_dpd_1073P_range'),\n",
    "    pl.col(\"pmts_dpd_303P\").sum().alias(\"pmts_dpd_303P_sum\"),\n",
    "    custom_range_agg(pl.col(\"pmts_dpd_303P\")).alias('pmts_dpd_303P_range'),\n",
    "    pl.col(\"pmts_overdue_1140A\").sum().alias(\"pmts_overdue_1140A_sum\"),\n",
    "    custom_range_agg(pl.col(\"pmts_overdue_1140A\")).alias('pmts_overdue_1140A_range'),\n",
    "    pl.col(\"pmts_overdue_1152A\").sum().alias(\"pmts_overdue_1152A_sum\"),\n",
    "    custom_range_agg(pl.col(\"pmts_overdue_1152A\")).alias('pmts_overdue_1152A_range'))\n",
    "\n",
    "test_person_2_feats = test_person_2.select([\"case_id\", \"num_group1\", \"num_group2\", \"addres_zip_823M\",\n",
    "    \"addres_district_368M\",\"conts_role_79M\",\"empls_economicalst_849M\",\"empls_employer_name_740M\"]).filter(\n",
    "    (pl.col(\"num_group1\")==0) & (pl.col(\"num_group2\")==0)).drop(\"num_group1\").drop(\"num_group2\")"
   ]
  },
  {
   "cell_type": "code",
   "execution_count": 25,
   "id": "ab4354c8",
   "metadata": {
    "execution": {
     "iopub.execute_input": "2024-05-06T11:25:10.524959Z",
     "iopub.status.busy": "2024-05-06T11:25:10.524427Z",
     "iopub.status.idle": "2024-05-06T11:25:10.530761Z",
     "shell.execute_reply": "2024-05-06T11:25:10.529739Z"
    },
    "papermill": {
     "duration": 0.028588,
     "end_time": "2024-05-06T11:25:10.532705",
     "exception": false,
     "start_time": "2024-05-06T11:25:10.504117",
     "status": "completed"
    },
    "tags": []
   },
   "outputs": [
    {
     "name": "stdout",
     "output_type": "stream",
     "text": [
      "Percent equal or 0 for pmts_dpd_1073P_range = 1.000\n",
      "Percent equal or 0 for pmts_dpd_303P_range = 0.818\n",
      "Percent equal or 0 for pmts_overdue_1140A_range = 1.000\n",
      "Percent equal or 0 for pmts_overdue_1152A_range = 0.909\n"
     ]
    }
   ],
   "source": [
    "test_credit_bureau_a_2_feats = compare_cols(test_credit_bureau_a_2_feats)"
   ]
  },
  {
   "cell_type": "code",
   "execution_count": 26,
   "id": "3cb6ddf7",
   "metadata": {
    "execution": {
     "iopub.execute_input": "2024-05-06T11:25:10.572088Z",
     "iopub.status.busy": "2024-05-06T11:25:10.571806Z",
     "iopub.status.idle": "2024-05-06T11:25:10.581004Z",
     "shell.execute_reply": "2024-05-06T11:25:10.580273Z"
    },
    "papermill": {
     "duration": 0.031397,
     "end_time": "2024-05-06T11:25:10.582884",
     "exception": false,
     "start_time": "2024-05-06T11:25:10.551487",
     "status": "completed"
    },
    "tags": []
   },
   "outputs": [],
   "source": [
    "join_data3 = test_basetable.join(test_applprev_2_feats, how=\"left\", on=\"case_id\"\n",
    ").join(test_credit_bureau_a_2_feats, how=\"left\", on=\"case_id\").join(test_person_2_feats, how=\"left\", on=\"case_id\")\n",
    "\n",
    "join_data3 = join_data3.to_pandas()\n",
    "join_data3 = join_data3.drop(['date_decision','MONTH','WEEK_NUM'], axis=1, errors='ignore')"
   ]
  },
  {
   "cell_type": "code",
   "execution_count": 27,
   "id": "3aa1fdf1",
   "metadata": {
    "execution": {
     "iopub.execute_input": "2024-05-06T11:25:10.622517Z",
     "iopub.status.busy": "2024-05-06T11:25:10.622238Z",
     "iopub.status.idle": "2024-05-06T11:25:10.731940Z",
     "shell.execute_reply": "2024-05-06T11:25:10.731083Z"
    },
    "papermill": {
     "duration": 0.131728,
     "end_time": "2024-05-06T11:25:10.734039",
     "exception": false,
     "start_time": "2024-05-06T11:25:10.602311",
     "status": "completed"
    },
    "tags": []
   },
   "outputs": [
    {
     "data": {
      "text/plain": [
       "0"
      ]
     },
     "execution_count": 27,
     "metadata": {},
     "output_type": "execute_result"
    }
   ],
   "source": [
    "del test_applprev_2, test_person_2, test_credit_bureau_a_2\n",
    "del test_applprev_2_feats, test_credit_bureau_a_2_feats, test_person_2_feats\n",
    "gc.collect()"
   ]
  },
  {
   "cell_type": "code",
   "execution_count": 28,
   "id": "e8d58d17",
   "metadata": {
    "execution": {
     "iopub.execute_input": "2024-05-06T11:25:10.774193Z",
     "iopub.status.busy": "2024-05-06T11:25:10.773623Z",
     "iopub.status.idle": "2024-05-06T11:25:10.810457Z",
     "shell.execute_reply": "2024-05-06T11:25:10.809782Z"
    },
    "papermill": {
     "duration": 0.058651,
     "end_time": "2024-05-06T11:25:10.812313",
     "exception": false,
     "start_time": "2024-05-06T11:25:10.753662",
     "status": "completed"
    },
    "tags": []
   },
   "outputs": [],
   "source": [
    "dfs = [join_data1, join_data2, join_data3]\n",
    "join_test = reduce(lambda left, right: pd.merge(left, right, on='case_id'), dfs)\n",
    "\n",
    "join_test = pl.from_pandas(join_test)"
   ]
  },
  {
   "cell_type": "code",
   "execution_count": 29,
   "id": "0b340eba",
   "metadata": {
    "execution": {
     "iopub.execute_input": "2024-05-06T11:25:10.855135Z",
     "iopub.status.busy": "2024-05-06T11:25:10.854815Z",
     "iopub.status.idle": "2024-05-06T11:25:10.876701Z",
     "shell.execute_reply": "2024-05-06T11:25:10.875395Z"
    },
    "papermill": {
     "duration": 0.047374,
     "end_time": "2024-05-06T11:25:10.878831",
     "exception": false,
     "start_time": "2024-05-06T11:25:10.831457",
     "status": "completed"
    },
    "tags": []
   },
   "outputs": [
    {
     "data": {
      "text/html": [
       "<div><style>\n",
       ".dataframe > thead > tr,\n",
       ".dataframe > tbody > tr {\n",
       "  text-align: right;\n",
       "  white-space: pre-wrap;\n",
       "}\n",
       "</style>\n",
       "<small>shape: (5, 260)</small><table border=\"1\" class=\"dataframe\"><thead><tr><th>case_id</th><th>date_decision</th><th>MONTH</th><th>WEEK_NUM</th><th>actualdpdtolerance_344P</th><th>amtinstpaidbefduel24m_4187115A</th><th>annuity_780A</th><th>annuitynextmonth_57A</th><th>applicationcnt_361L</th><th>applications30d_658L</th><th>applicationscnt_1086L</th><th>applicationscnt_464L</th><th>applicationscnt_629L</th><th>applicationscnt_867L</th><th>avgdbddpdlast24m_3658932P</th><th>avgdbddpdlast3m_4187120P</th><th>avgdbdtollast24m_4525197P</th><th>avgdpdtolclosure24_3658938P</th><th>avginstallast24m_3658937A</th><th>avglnamtstart24m_4525187A</th><th>avgmaxdpdlast9m_3716943P</th><th>avgoutstandbalancel6m_4187114A</th><th>avgpmtlast12m_4525200A</th><th>bankacctype_710L</th><th>cardtype_51L</th><th>clientscnt12m_3712952L</th><th>clientscnt3m_3712950L</th><th>clientscnt6m_3712949L</th><th>clientscnt_100L</th><th>clientscnt_1022L</th><th>clientscnt_1071L</th><th>clientscnt_1130L</th><th>clientscnt_157L</th><th>clientscnt_257L</th><th>clientscnt_304L</th><th>clientscnt_360L</th><th>clientscnt_493L</th><th>&hellip;</th><th>monthlyinstlamount_332A_sum</th><th>monthlyinstlamount_332A_range</th><th>monthlyinstlamount_674A_sum</th><th>monthlyinstlamount_674A_range</th><th>nominalrate_498L_max</th><th>numberofinstls_229L_sum</th><th>numberofinstls_229L_range</th><th>numberofoutstandinstls_520L_sum</th><th>numberofoverdueinstlmax_1039L_sum</th><th>numberofoverdueinstlmax_1151L_sum</th><th>numberofoverdueinstlmax_1151L_range</th><th>numberofoverdueinstls_725L_sum</th><th>numberofoverdueinstls_834L_sum</th><th>outstandingamount_354A_sum</th><th>overdueamount_31A_sum</th><th>overdueamount_659A_sum</th><th>overdueamountmax2_14A_max</th><th>overdueamountmax2_398A_max</th><th>overdueamountmax_155A_max</th><th>overdueamountmax_35A_max</th><th>periodicityofpmts_1102L_max</th><th>totalamount_6A_sum</th><th>totalamount_6A_range</th><th>conts_type_509L</th><th>pmts_dpd_1073P_sum</th><th>pmts_dpd_1073P_range</th><th>pmts_dpd_303P_sum</th><th>pmts_dpd_303P_range</th><th>pmts_overdue_1140A_sum</th><th>pmts_overdue_1140A_range</th><th>pmts_overdue_1152A_sum</th><th>pmts_overdue_1152A_range</th><th>addres_zip_823M</th><th>addres_district_368M</th><th>conts_role_79M</th><th>empls_economicalst_849M</th><th>empls_employer_name_740M</th></tr><tr><td>i64</td><td>datetime[ms]</td><td>i64</td><td>i64</td><td>f64</td><td>f64</td><td>f64</td><td>f64</td><td>f64</td><td>f64</td><td>f64</td><td>f64</td><td>f64</td><td>f64</td><td>f64</td><td>f64</td><td>f64</td><td>f64</td><td>f64</td><td>f64</td><td>f64</td><td>f64</td><td>f64</td><td>str</td><td>str</td><td>f64</td><td>f64</td><td>f64</td><td>f64</td><td>f64</td><td>f64</td><td>f64</td><td>f64</td><td>f64</td><td>f64</td><td>f64</td><td>f64</td><td>&hellip;</td><td>f64</td><td>f64</td><td>f64</td><td>f64</td><td>f64</td><td>f64</td><td>f64</td><td>f64</td><td>f64</td><td>f64</td><td>f64</td><td>f64</td><td>f64</td><td>f64</td><td>f64</td><td>f64</td><td>f64</td><td>f64</td><td>f64</td><td>f64</td><td>f64</td><td>f64</td><td>f64</td><td>str</td><td>f64</td><td>f64</td><td>f64</td><td>f64</td><td>f64</td><td>f64</td><td>f64</td><td>f64</td><td>str</td><td>str</td><td>str</td><td>str</td><td>str</td></tr></thead><tbody><tr><td>57543</td><td>2021-05-14 00:00:00</td><td>202201</td><td>100</td><td>0.0</td><td>191767.36</td><td>3674.6</td><td>1218.2001</td><td>0.0</td><td>0.0</td><td>0.0</td><td>0.0</td><td>0.0</td><td>9.0</td><td>1.0</td><td>2.0</td><td>1.0</td><td>1.0</td><td>16049.4</td><td>17054.4</td><td>2.0</td><td>14554.4</td><td>24482.0</td><td>&quot;CA&quot;</td><td>null</td><td>0.0</td><td>0.0</td><td>0.0</td><td>0.0</td><td>0.0</td><td>0.0</td><td>0.0</td><td>0.0</td><td>0.0</td><td>0.0</td><td>0.0</td><td>0.0</td><td>&hellip;</td><td>5943.6001</td><td>3507.1999</td><td>55337.1182</td><td>15423.2</td><td>42.5</td><td>91.0</td><td>48.0</td><td>0.0</td><td>0.0</td><td>34.0</td><td>22.0</td><td>0.0</td><td>0.0</td><td>0.0</td><td>0.0</td><td>0.0</td><td>0.0</td><td>3271.6882</td><td>0.0</td><td>3271.6882</td><td>30.0</td><td>157804.2</td><td>41800.0</td><td>&quot;PRIMARY_MOBILE…</td><td>0.0</td><td>0.0</td><td>0.0</td><td>0.0</td><td>0.0</td><td>0.0</td><td>0.0</td><td>0.0</td><td>null</td><td>null</td><td>null</td><td>null</td><td>null</td></tr><tr><td>57549</td><td>2022-01-17 00:00:00</td><td>202201</td><td>100</td><td>0.0</td><td>129704.4</td><td>5742.6</td><td>3546.6</td><td>0.0</td><td>2.0</td><td>0.0</td><td>0.0</td><td>0.0</td><td>10.0</td><td>0.0</td><td>0.0</td><td>-1.0</td><td>0.0</td><td>32426.201</td><td>118964.805</td><td>0.0</td><td>13681.714</td><td>32426.201</td><td>&quot;CA&quot;</td><td>null</td><td>0.0</td><td>0.0</td><td>0.0</td><td>0.0</td><td>0.0</td><td>0.0</td><td>0.0</td><td>0.0</td><td>0.0</td><td>0.0</td><td>0.0</td><td>0.0</td><td>&hellip;</td><td>21177.2</td><td>9995.8</td><td>45590.202</td><td>45490.402</td><td>657.0</td><td>7.0</td><td>1.0</td><td>0.0</td><td>0.0</td><td>310.0</td><td>120.0</td><td>0.0</td><td>0.0</td><td>0.0</td><td>0.0</td><td>0.0</td><td>0.0</td><td>48690.402</td><td>0.0</td><td>48690.402</td><td>30.0</td><td>492000.0</td><td>323000.0</td><td>null</td><td>0.0</td><td>0.0</td><td>0.0</td><td>0.0</td><td>0.0</td><td>0.0</td><td>0.0</td><td>0.0</td><td>null</td><td>null</td><td>null</td><td>null</td><td>null</td></tr><tr><td>57551</td><td>2020-11-27 00:00:00</td><td>202201</td><td>100</td><td>0.0</td><td>71036.4</td><td>2844.6</td><td>0.0</td><td>0.0</td><td>1.0</td><td>0.0</td><td>0.0</td><td>0.0</td><td>2.0</td><td>-1.0</td><td>null</td><td>-1.0</td><td>1.0</td><td>8357.2</td><td>null</td><td>1.0</td><td>0.0</td><td>9551.0</td><td>null</td><td>null</td><td>0.0</td><td>0.0</td><td>0.0</td><td>0.0</td><td>0.0</td><td>0.0</td><td>0.0</td><td>0.0</td><td>0.0</td><td>0.0</td><td>0.0</td><td>0.0</td><td>&hellip;</td><td>32864.728</td><td>2718.072</td><td>32940.439</td><td>18292.4</td><td>31.0</td><td>172.0</td><td>54.0</td><td>0.0</td><td>0.0</td><td>4.0</td><td>3.0</td><td>0.0</td><td>0.0</td><td>0.0</td><td>0.0</td><td>0.0</td><td>0.0</td><td>10429.616</td><td>0.0</td><td>10429.616</td><td>30.0</td><td>903801.23</td><td>390469.83</td><td>null</td><td>0.0</td><td>0.0</td><td>0.0</td><td>0.0</td><td>0.0</td><td>0.0</td><td>0.0</td><td>0.0</td><td>&quot;a55475b1&quot;</td><td>&quot;a55475b1&quot;</td><td>&quot;a55475b1&quot;</td><td>&quot;a55475b1&quot;</td><td>&quot;a55475b1&quot;</td></tr><tr><td>57552</td><td>2020-11-27 00:00:00</td><td>202201</td><td>100</td><td>0.0</td><td>183992.0</td><td>6298.8003</td><td>12155.4</td><td>0.0</td><td>0.0</td><td>0.0</td><td>0.0</td><td>0.0</td><td>9.0</td><td>-9.0</td><td>-7.0</td><td>-9.0</td><td>0.0</td><td>7440.4</td><td>null</td><td>0.0</td><td>199322.4</td><td>9148.4</td><td>&quot;CA&quot;</td><td>null</td><td>0.0</td><td>0.0</td><td>0.0</td><td>0.0</td><td>0.0</td><td>0.0</td><td>0.0</td><td>0.0</td><td>0.0</td><td>0.0</td><td>0.0</td><td>0.0</td><td>&hellip;</td><td>null</td><td>null</td><td>null</td><td>null</td><td>null</td><td>null</td><td>null</td><td>null</td><td>null</td><td>null</td><td>null</td><td>null</td><td>null</td><td>null</td><td>null</td><td>null</td><td>null</td><td>null</td><td>null</td><td>null</td><td>null</td><td>null</td><td>null</td><td>null</td><td>null</td><td>null</td><td>null</td><td>null</td><td>null</td><td>null</td><td>null</td><td>null</td><td>&quot;a55475b1&quot;</td><td>&quot;a55475b1&quot;</td><td>&quot;a55475b1&quot;</td><td>&quot;a55475b1&quot;</td><td>&quot;a55475b1&quot;</td></tr><tr><td>57569</td><td>2021-12-20 00:00:00</td><td>202201</td><td>100</td><td>0.0</td><td>0.0</td><td>4682.6</td><td>0.0</td><td>0.0</td><td>1.0</td><td>0.0</td><td>0.0</td><td>0.0</td><td>6.0</td><td>2824.0</td><td>null</td><td>2824.0</td><td>2517.0</td><td>null</td><td>null</td><td>null</td><td>null</td><td>10796.4</td><td>&quot;CA&quot;</td><td>null</td><td>0.0</td><td>0.0</td><td>0.0</td><td>0.0</td><td>0.0</td><td>0.0</td><td>0.0</td><td>0.0</td><td>0.0</td><td>0.0</td><td>0.0</td><td>0.0</td><td>&hellip;</td><td>null</td><td>null</td><td>null</td><td>null</td><td>null</td><td>null</td><td>null</td><td>null</td><td>null</td><td>null</td><td>null</td><td>null</td><td>null</td><td>null</td><td>null</td><td>null</td><td>null</td><td>null</td><td>null</td><td>null</td><td>null</td><td>null</td><td>null</td><td>null</td><td>0.0</td><td>0.0</td><td>16300.0</td><td>161.0</td><td>0.0</td><td>0.0</td><td>233424.814</td><td>0.0</td><td>&quot;P96_113_139&quot;</td><td>&quot;P121_131_159&quot;</td><td>&quot;P38_92_157&quot;</td><td>&quot;P148_57_109&quot;</td><td>&quot;a55475b1&quot;</td></tr></tbody></table></div>"
      ],
      "text/plain": [
       "shape: (5, 260)\n",
       "┌─────────┬────────────┬────────┬──────────┬───┬────────────┬────────────┬────────────┬────────────┐\n",
       "│ case_id ┆ date_decis ┆ MONTH  ┆ WEEK_NUM ┆ … ┆ addres_dis ┆ conts_role ┆ empls_econ ┆ empls_empl │\n",
       "│ ---     ┆ ion        ┆ ---    ┆ ---      ┆   ┆ trict_368M ┆ _79M       ┆ omicalst_8 ┆ oyer_name_ │\n",
       "│ i64     ┆ ---        ┆ i64    ┆ i64      ┆   ┆ ---        ┆ ---        ┆ 49M        ┆ 740M       │\n",
       "│         ┆ datetime[m ┆        ┆          ┆   ┆ str        ┆ str        ┆ ---        ┆ ---        │\n",
       "│         ┆ s]         ┆        ┆          ┆   ┆            ┆            ┆ str        ┆ str        │\n",
       "╞═════════╪════════════╪════════╪══════════╪═══╪════════════╪════════════╪════════════╪════════════╡\n",
       "│ 57543   ┆ 2021-05-14 ┆ 202201 ┆ 100      ┆ … ┆ null       ┆ null       ┆ null       ┆ null       │\n",
       "│         ┆ 00:00:00   ┆        ┆          ┆   ┆            ┆            ┆            ┆            │\n",
       "│ 57549   ┆ 2022-01-17 ┆ 202201 ┆ 100      ┆ … ┆ null       ┆ null       ┆ null       ┆ null       │\n",
       "│         ┆ 00:00:00   ┆        ┆          ┆   ┆            ┆            ┆            ┆            │\n",
       "│ 57551   ┆ 2020-11-27 ┆ 202201 ┆ 100      ┆ … ┆ a55475b1   ┆ a55475b1   ┆ a55475b1   ┆ a55475b1   │\n",
       "│         ┆ 00:00:00   ┆        ┆          ┆   ┆            ┆            ┆            ┆            │\n",
       "│ 57552   ┆ 2020-11-27 ┆ 202201 ┆ 100      ┆ … ┆ a55475b1   ┆ a55475b1   ┆ a55475b1   ┆ a55475b1   │\n",
       "│         ┆ 00:00:00   ┆        ┆          ┆   ┆            ┆            ┆            ┆            │\n",
       "│ 57569   ┆ 2021-12-20 ┆ 202201 ┆ 100      ┆ … ┆ P121_131_1 ┆ P38_92_157 ┆ P148_57_10 ┆ a55475b1   │\n",
       "│         ┆ 00:00:00   ┆        ┆          ┆   ┆ 59         ┆            ┆ 9          ┆            │\n",
       "└─────────┴────────────┴────────┴──────────┴───┴────────────┴────────────┴────────────┴────────────┘"
      ]
     },
     "execution_count": 29,
     "metadata": {},
     "output_type": "execute_result"
    }
   ],
   "source": [
    "join_test.head()"
   ]
  },
  {
   "cell_type": "markdown",
   "id": "85f3bde3",
   "metadata": {
    "papermill": {
     "duration": 0.019417,
     "end_time": "2024-05-06T11:25:10.918170",
     "exception": false,
     "start_time": "2024-05-06T11:25:10.898753",
     "status": "completed"
    },
    "tags": []
   },
   "source": [
    "### Final Join Test Data"
   ]
  },
  {
   "cell_type": "code",
   "execution_count": 30,
   "id": "ca374441",
   "metadata": {
    "execution": {
     "iopub.execute_input": "2024-05-06T11:25:10.959672Z",
     "iopub.status.busy": "2024-05-06T11:25:10.959126Z",
     "iopub.status.idle": "2024-05-06T11:25:11.110571Z",
     "shell.execute_reply": "2024-05-06T11:25:11.109685Z"
    },
    "papermill": {
     "duration": 0.174968,
     "end_time": "2024-05-06T11:25:11.112632",
     "exception": false,
     "start_time": "2024-05-06T11:25:10.937664",
     "status": "completed"
    },
    "tags": []
   },
   "outputs": [
    {
     "data": {
      "text/plain": [
       "(10, 258)"
      ]
     },
     "execution_count": 30,
     "metadata": {},
     "output_type": "execute_result"
    }
   ],
   "source": [
    "test = join_test.with_columns(pl.col('date_decision').cast(pl.Date))\n",
    "date_list = ['datefirstoffer_1144D', 'datelastunpaid_3546854D', 'dtlastpmtallstes_4499206D', 'firstclxcampaign_1125D', 'lastdelinqdate_224D', 'lastrejectdate_50D', 'maxdpdinstldate_3546855D', 'birthdate_574D', 'responsedate_1012D', 'responsedate_4527233D', 'responsedate_4917613D', 'empl_employedfrom_271D',\n",
    "            'firstdatedue_489D','lastactivateddate_801D','lastapplicationdate_877D', 'lastapprdate_640D', 'dateofbirth_337D','birth_259D']\n",
    "\n",
    "for col in date_list:\n",
    "    test = test.with_columns(pl.col(col).cast(pl.Date))\n",
    "    test = test.with_columns(\n",
    "        ((pl.col(\"date_decision\") - pl.col(col)) / (24 * 60 * 60 * 1000)).cast(pl.Float64).alias(f\"{col}_diff\"))\n",
    "\n",
    "test = test.pipe(set_table_dtypes).pipe(convert_strings)\n",
    "\n",
    "for col in test.columns:\n",
    "        if col[-5:-1] in (\"range\"):\n",
    "            test = test.with_columns(pl.col(col).cast(pl.Float64).alias(col))\n",
    "            \n",
    "drop_list = ['date_decision','MONTH'] + date_list\n",
    "test = test.to_pandas()\n",
    "test = test.drop(drop_list, axis=1, errors='ignore')\n",
    "\n",
    "del join_data1, join_data2, join_data3, join_test, dfs\n",
    "gc.collect()\n",
    "\n",
    "test.shape"
   ]
  },
  {
   "cell_type": "code",
   "execution_count": 31,
   "id": "184c7ef3",
   "metadata": {
    "execution": {
     "iopub.execute_input": "2024-05-06T11:25:11.154674Z",
     "iopub.status.busy": "2024-05-06T11:25:11.154049Z",
     "iopub.status.idle": "2024-05-06T11:25:11.167613Z",
     "shell.execute_reply": "2024-05-06T11:25:11.166919Z"
    },
    "papermill": {
     "duration": 0.036502,
     "end_time": "2024-05-06T11:25:11.169429",
     "exception": false,
     "start_time": "2024-05-06T11:25:11.132927",
     "status": "completed"
    },
    "tags": []
   },
   "outputs": [],
   "source": [
    "num_list = ['numinstlswithdpd5_4187116L', 'numinstmatpaidtearly2d_4499204L','numinstpaid_4499208L','numinstpaidearly3dest_4493216L','numinstpaidearly5dest_4493211L',\n",
    "           'numinstpaidearly5dobd_4499205L','numinstpaidearlyest_4493214L','numinstpaidlastcontr_4325080L','numinstregularpaidest_4493210L','numinsttopaygrest_4493213L','numinstunpaidmaxest_4493212L',\n",
    "           'contractssum_5085716L','days120_123L','days180_256L','days360_512L','firstquarter_103L','fourthquarter_440L','numberofqueries_373L','pmtscount_423L','secondquarter_766L','thirdquarter_1082L',\n",
    "           'days30_165L','days90_310L']\n",
    "for col in num_list:\n",
    "    test[col]=test[col].astype('float64')"
   ]
  },
  {
   "cell_type": "code",
   "execution_count": 32,
   "id": "f8670566",
   "metadata": {
    "execution": {
     "iopub.execute_input": "2024-05-06T11:25:11.210521Z",
     "iopub.status.busy": "2024-05-06T11:25:11.210271Z",
     "iopub.status.idle": "2024-05-06T11:25:11.254998Z",
     "shell.execute_reply": "2024-05-06T11:25:11.254204Z"
    },
    "papermill": {
     "duration": 0.067679,
     "end_time": "2024-05-06T11:25:11.256764",
     "exception": false,
     "start_time": "2024-05-06T11:25:11.189085",
     "status": "completed"
    },
    "tags": []
   },
   "outputs": [
    {
     "data": {
      "text/html": [
       "<div>\n",
       "<style scoped>\n",
       "    .dataframe tbody tr th:only-of-type {\n",
       "        vertical-align: middle;\n",
       "    }\n",
       "\n",
       "    .dataframe tbody tr th {\n",
       "        vertical-align: top;\n",
       "    }\n",
       "\n",
       "    .dataframe thead th {\n",
       "        text-align: right;\n",
       "    }\n",
       "</style>\n",
       "<table border=\"1\" class=\"dataframe\">\n",
       "  <thead>\n",
       "    <tr style=\"text-align: right;\">\n",
       "      <th></th>\n",
       "      <th>case_id</th>\n",
       "      <th>WEEK_NUM</th>\n",
       "      <th>actualdpdtolerance_344P</th>\n",
       "      <th>amtinstpaidbefduel24m_4187115A</th>\n",
       "      <th>annuity_780A</th>\n",
       "      <th>annuitynextmonth_57A</th>\n",
       "      <th>applicationcnt_361L</th>\n",
       "      <th>applications30d_658L</th>\n",
       "      <th>applicationscnt_1086L</th>\n",
       "      <th>applicationscnt_464L</th>\n",
       "      <th>...</th>\n",
       "      <th>lastrejectdate_50D_diff</th>\n",
       "      <th>maxdpdinstldate_3546855D_diff</th>\n",
       "      <th>responsedate_4917613D_diff</th>\n",
       "      <th>empl_employedfrom_271D_diff</th>\n",
       "      <th>firstdatedue_489D_diff</th>\n",
       "      <th>lastactivateddate_801D_diff</th>\n",
       "      <th>lastapplicationdate_877D_diff</th>\n",
       "      <th>lastapprdate_640D_diff</th>\n",
       "      <th>dateofbirth_337D_diff</th>\n",
       "      <th>birth_259D_diff</th>\n",
       "    </tr>\n",
       "  </thead>\n",
       "  <tbody>\n",
       "    <tr>\n",
       "      <th>0</th>\n",
       "      <td>57543</td>\n",
       "      <td>100</td>\n",
       "      <td>0.0</td>\n",
       "      <td>191767.36</td>\n",
       "      <td>3674.6000</td>\n",
       "      <td>1218.2001</td>\n",
       "      <td>0.0</td>\n",
       "      <td>0.0</td>\n",
       "      <td>0.0</td>\n",
       "      <td>0.0</td>\n",
       "      <td>...</td>\n",
       "      <td>2100.0</td>\n",
       "      <td>62.0</td>\n",
       "      <td>-14.0</td>\n",
       "      <td>NaN</td>\n",
       "      <td>3398.0</td>\n",
       "      <td>18.0</td>\n",
       "      <td>41.0</td>\n",
       "      <td>41.0</td>\n",
       "      <td>14804.0</td>\n",
       "      <td>14804.0</td>\n",
       "    </tr>\n",
       "    <tr>\n",
       "      <th>1</th>\n",
       "      <td>57549</td>\n",
       "      <td>100</td>\n",
       "      <td>0.0</td>\n",
       "      <td>129704.40</td>\n",
       "      <td>5742.6000</td>\n",
       "      <td>3546.6000</td>\n",
       "      <td>0.0</td>\n",
       "      <td>2.0</td>\n",
       "      <td>0.0</td>\n",
       "      <td>0.0</td>\n",
       "      <td>...</td>\n",
       "      <td>-10.0</td>\n",
       "      <td>1897.0</td>\n",
       "      <td>-14.0</td>\n",
       "      <td>NaN</td>\n",
       "      <td>4035.0</td>\n",
       "      <td>-10.0</td>\n",
       "      <td>-10.0</td>\n",
       "      <td>4.0</td>\n",
       "      <td>22723.0</td>\n",
       "      <td>22723.0</td>\n",
       "    </tr>\n",
       "    <tr>\n",
       "      <th>2</th>\n",
       "      <td>57551</td>\n",
       "      <td>100</td>\n",
       "      <td>0.0</td>\n",
       "      <td>71036.40</td>\n",
       "      <td>2844.6000</td>\n",
       "      <td>0.0000</td>\n",
       "      <td>0.0</td>\n",
       "      <td>1.0</td>\n",
       "      <td>0.0</td>\n",
       "      <td>0.0</td>\n",
       "      <td>...</td>\n",
       "      <td>NaN</td>\n",
       "      <td>211.0</td>\n",
       "      <td>-14.0</td>\n",
       "      <td>6898.0</td>\n",
       "      <td>394.0</td>\n",
       "      <td>405.0</td>\n",
       "      <td>14.0</td>\n",
       "      <td>9.0</td>\n",
       "      <td>14090.0</td>\n",
       "      <td>14090.0</td>\n",
       "    </tr>\n",
       "    <tr>\n",
       "      <th>3</th>\n",
       "      <td>57552</td>\n",
       "      <td>100</td>\n",
       "      <td>0.0</td>\n",
       "      <td>183992.00</td>\n",
       "      <td>6298.8003</td>\n",
       "      <td>12155.4000</td>\n",
       "      <td>0.0</td>\n",
       "      <td>0.0</td>\n",
       "      <td>0.0</td>\n",
       "      <td>0.0</td>\n",
       "      <td>...</td>\n",
       "      <td>80.0</td>\n",
       "      <td>NaN</td>\n",
       "      <td>-14.0</td>\n",
       "      <td>NaN</td>\n",
       "      <td>685.0</td>\n",
       "      <td>234.0</td>\n",
       "      <td>80.0</td>\n",
       "      <td>240.0</td>\n",
       "      <td>23768.0</td>\n",
       "      <td>23768.0</td>\n",
       "    </tr>\n",
       "    <tr>\n",
       "      <th>4</th>\n",
       "      <td>57569</td>\n",
       "      <td>100</td>\n",
       "      <td>0.0</td>\n",
       "      <td>0.00</td>\n",
       "      <td>4682.6000</td>\n",
       "      <td>0.0000</td>\n",
       "      <td>0.0</td>\n",
       "      <td>1.0</td>\n",
       "      <td>0.0</td>\n",
       "      <td>0.0</td>\n",
       "      <td>...</td>\n",
       "      <td>21.0</td>\n",
       "      <td>3375.0</td>\n",
       "      <td>-14.0</td>\n",
       "      <td>NaN</td>\n",
       "      <td>3574.0</td>\n",
       "      <td>3440.0</td>\n",
       "      <td>-14.0</td>\n",
       "      <td>-14.0</td>\n",
       "      <td>26408.0</td>\n",
       "      <td>26408.0</td>\n",
       "    </tr>\n",
       "  </tbody>\n",
       "</table>\n",
       "<p>5 rows × 236 columns</p>\n",
       "</div>"
      ],
      "text/plain": [
       "   case_id  WEEK_NUM  actualdpdtolerance_344P  amtinstpaidbefduel24m_4187115A  \\\n",
       "0    57543       100                      0.0                       191767.36   \n",
       "1    57549       100                      0.0                       129704.40   \n",
       "2    57551       100                      0.0                        71036.40   \n",
       "3    57552       100                      0.0                       183992.00   \n",
       "4    57569       100                      0.0                            0.00   \n",
       "\n",
       "   annuity_780A  annuitynextmonth_57A  applicationcnt_361L  \\\n",
       "0     3674.6000             1218.2001                  0.0   \n",
       "1     5742.6000             3546.6000                  0.0   \n",
       "2     2844.6000                0.0000                  0.0   \n",
       "3     6298.8003            12155.4000                  0.0   \n",
       "4     4682.6000                0.0000                  0.0   \n",
       "\n",
       "   applications30d_658L  applicationscnt_1086L  applicationscnt_464L  ...  \\\n",
       "0                   0.0                    0.0                   0.0  ...   \n",
       "1                   2.0                    0.0                   0.0  ...   \n",
       "2                   1.0                    0.0                   0.0  ...   \n",
       "3                   0.0                    0.0                   0.0  ...   \n",
       "4                   1.0                    0.0                   0.0  ...   \n",
       "\n",
       "   lastrejectdate_50D_diff  maxdpdinstldate_3546855D_diff  \\\n",
       "0                   2100.0                           62.0   \n",
       "1                    -10.0                         1897.0   \n",
       "2                      NaN                          211.0   \n",
       "3                     80.0                            NaN   \n",
       "4                     21.0                         3375.0   \n",
       "\n",
       "   responsedate_4917613D_diff  empl_employedfrom_271D_diff  \\\n",
       "0                       -14.0                          NaN   \n",
       "1                       -14.0                          NaN   \n",
       "2                       -14.0                       6898.0   \n",
       "3                       -14.0                          NaN   \n",
       "4                       -14.0                          NaN   \n",
       "\n",
       "   firstdatedue_489D_diff  lastactivateddate_801D_diff  \\\n",
       "0                  3398.0                         18.0   \n",
       "1                  4035.0                        -10.0   \n",
       "2                   394.0                        405.0   \n",
       "3                   685.0                        234.0   \n",
       "4                  3574.0                       3440.0   \n",
       "\n",
       "   lastapplicationdate_877D_diff  lastapprdate_640D_diff  \\\n",
       "0                           41.0                    41.0   \n",
       "1                          -10.0                     4.0   \n",
       "2                           14.0                     9.0   \n",
       "3                           80.0                   240.0   \n",
       "4                          -14.0                   -14.0   \n",
       "\n",
       "   dateofbirth_337D_diff  birth_259D_diff  \n",
       "0                14804.0          14804.0  \n",
       "1                22723.0          22723.0  \n",
       "2                14090.0          14090.0  \n",
       "3                23768.0          23768.0  \n",
       "4                26408.0          26408.0  \n",
       "\n",
       "[5 rows x 236 columns]"
      ]
     },
     "execution_count": 32,
     "metadata": {},
     "output_type": "execute_result"
    }
   ],
   "source": [
    "# То же, что и подготовка предварительной обработки (имеет одинаковые или качественные переменные с уникальными категориями > 150)\n",
    "drop_list = ['commnoinclast6m_3546845L', 'deferredmnthsnum_166L', 'mastercontrelectronic_519L', 'mastercontrexist_109L','addres_zip_823M',\n",
    "            'lastapprcommoditytypec_5251766M','lastrejectcommodtypec_5251769M','previouscontdistrict_112M', 'addres_district_368M']\n",
    "test.drop(columns=drop_list,axis=1,errors='ignore',inplace=True)\n",
    "test.dropna(axis=1, how='all', inplace=True)\n",
    "test.head()"
   ]
  },
  {
   "cell_type": "markdown",
   "id": "312414b8",
   "metadata": {
    "papermill": {
     "duration": 0.019898,
     "end_time": "2024-05-06T11:25:11.296741",
     "exception": false,
     "start_time": "2024-05-06T11:25:11.276843",
     "status": "completed"
    },
    "tags": []
   },
   "source": [
    "### Расчет"
   ]
  },
  {
   "cell_type": "code",
   "execution_count": 33,
   "id": "972665e3",
   "metadata": {
    "execution": {
     "iopub.execute_input": "2024-05-06T11:25:11.344788Z",
     "iopub.status.busy": "2024-05-06T11:25:11.344278Z",
     "iopub.status.idle": "2024-05-06T11:25:11.354739Z",
     "shell.execute_reply": "2024-05-06T11:25:11.353715Z"
    },
    "papermill": {
     "duration": 0.034991,
     "end_time": "2024-05-06T11:25:11.357109",
     "exception": false,
     "start_time": "2024-05-06T11:25:11.322118",
     "status": "completed"
    },
    "tags": []
   },
   "outputs": [
    {
     "name": "stdout",
     "output_type": "stream",
     "text": [
      "[1 0]\n",
      "[0 1]\n"
     ]
    }
   ],
   "source": [
    "bool_cols = test.select_dtypes(include=['bool']).columns.tolist()\n",
    "# преобразовать логические столбцы в 0 или 1 (false или true)\n",
    "\n",
    "for col in bool_cols:\n",
    "    test[col] = test[col].astype(int)\n",
    "for col in bool_cols:\n",
    "    print(test[col].unique())"
   ]
  },
  {
   "cell_type": "code",
   "execution_count": 34,
   "id": "fe68c791",
   "metadata": {
    "execution": {
     "iopub.execute_input": "2024-05-06T11:25:11.400959Z",
     "iopub.status.busy": "2024-05-06T11:25:11.400264Z",
     "iopub.status.idle": "2024-05-06T11:25:11.407325Z",
     "shell.execute_reply": "2024-05-06T11:25:11.406474Z"
    },
    "papermill": {
     "duration": 0.030333,
     "end_time": "2024-05-06T11:25:11.409178",
     "exception": false,
     "start_time": "2024-05-06T11:25:11.378845",
     "status": "completed"
    },
    "tags": []
   },
   "outputs": [
    {
     "name": "stdout",
     "output_type": "stream",
     "text": [
      "691\n"
     ]
    }
   ],
   "source": [
    "print(np.count_nonzero(test.isnull()))"
   ]
  },
  {
   "cell_type": "code",
   "execution_count": 35,
   "id": "354b03b5",
   "metadata": {
    "execution": {
     "iopub.execute_input": "2024-05-06T11:25:11.452133Z",
     "iopub.status.busy": "2024-05-06T11:25:11.451394Z",
     "iopub.status.idle": "2024-05-06T11:25:11.465157Z",
     "shell.execute_reply": "2024-05-06T11:25:11.464283Z"
    },
    "papermill": {
     "duration": 0.037079,
     "end_time": "2024-05-06T11:25:11.467185",
     "exception": false,
     "start_time": "2024-05-06T11:25:11.430106",
     "status": "completed"
    },
    "tags": []
   },
   "outputs": [
    {
     "data": {
      "text/plain": [
       "case_id                                   int64\n",
       "WEEK_NUM                                  int64\n",
       "actualdpdtolerance_344P                 float64\n",
       "amtinstpaidbefduel24m_4187115A          float64\n",
       "annuity_780A                            float64\n",
       "annuitynextmonth_57A                    float64\n",
       "applicationcnt_361L                     float64\n",
       "applications30d_658L                    float64\n",
       "applicationscnt_1086L                   float64\n",
       "applicationscnt_464L                    float64\n",
       "applicationscnt_629L                    float64\n",
       "applicationscnt_867L                    float64\n",
       "avgdbddpdlast24m_3658932P               float64\n",
       "avgdbddpdlast3m_4187120P                float64\n",
       "avgdbdtollast24m_4525197P               float64\n",
       "avgdpdtolclosure24_3658938P             float64\n",
       "avginstallast24m_3658937A               float64\n",
       "avglnamtstart24m_4525187A               float64\n",
       "avgmaxdpdlast9m_3716943P                float64\n",
       "avgoutstandbalancel6m_4187114A          float64\n",
       "avgpmtlast12m_4525200A                  float64\n",
       "bankacctype_710L                       category\n",
       "clientscnt12m_3712952L                  float64\n",
       "clientscnt3m_3712950L                   float64\n",
       "clientscnt6m_3712949L                   float64\n",
       "clientscnt_100L                         float64\n",
       "clientscnt_1022L                        float64\n",
       "clientscnt_1071L                        float64\n",
       "clientscnt_1130L                        float64\n",
       "clientscnt_157L                         float64\n",
       "clientscnt_257L                         float64\n",
       "clientscnt_304L                         float64\n",
       "clientscnt_360L                         float64\n",
       "clientscnt_493L                         float64\n",
       "clientscnt_533L                         float64\n",
       "clientscnt_887L                         float64\n",
       "clientscnt_946L                         float64\n",
       "cntincpaycont9m_3716944L                float64\n",
       "cntpmts24_3658933L                      float64\n",
       "credamount_770A                         float64\n",
       "credtype_322L                          category\n",
       "currdebt_22A                            float64\n",
       "currdebtcredtyperange_828A              float64\n",
       "daysoverduetolerancedd_3976961L         float64\n",
       "disbursedcredamount_1113A               float64\n",
       "disbursementtype_67L                   category\n",
       "downpmt_116A                            float64\n",
       "eir_270L                                float64\n",
       "homephncnt_628L                         float64\n",
       "inittransactioncode_186L               category\n",
       "interestrate_311L                       float64\n",
       "isbidproduct_1095L                        int64\n",
       "isdebitcard_729L                         object\n",
       "lastapprcommoditycat_1041M             category\n",
       "lastapprcredamount_781A                 float64\n",
       "lastcancelreason_561M                  category\n",
       "lastrejectcommoditycat_161M            category\n",
       "lastrejectcredamount_222A               float64\n",
       "lastrejectreason_759M                  category\n",
       "lastrejectreasonclient_4145040M        category\n",
       "lastst_736L                            category\n",
       "maininc_215A                            float64\n",
       "maxannuity_159A                         float64\n",
       "maxdbddpdlast1m_3658939P                float64\n",
       "maxdbddpdtollast12m_3658940P            float64\n",
       "maxdbddpdtollast6m_4187119P             float64\n",
       "maxdebt4_972A                           float64\n",
       "maxdpdfrom6mto36m_3546853P              float64\n",
       "maxdpdinstlnum_3546846P                 float64\n",
       "maxdpdlast12m_727P                      float64\n",
       "maxdpdlast24m_143P                      float64\n",
       "maxdpdlast3m_392P                       float64\n",
       "maxdpdlast6m_474P                       float64\n",
       "maxdpdlast9m_1059P                      float64\n",
       "maxdpdtolerance_374P                    float64\n",
       "maxinstallast24m_3658928A               float64\n",
       "maxlnamtstart6m_4525199A                float64\n",
       "maxoutstandbalancel12m_4187113A         float64\n",
       "maxpmtlast3m_4525190A                   float64\n",
       "mindbddpdlast24m_3658935P               float64\n",
       "mindbdtollast24m_4525191P               float64\n",
       "mobilephncnt_593L                       float64\n",
       "monthsannuity_845L                      float64\n",
       "numactivecreds_622L                     float64\n",
       "numactivecredschannel_414L              float64\n",
       "numactiverelcontr_750L                  float64\n",
       "numcontrs3months_479L                   float64\n",
       "numincomingpmts_3546848L                float64\n",
       "numinstlallpaidearly3d_817L             float64\n",
       "numinstls_657L                          float64\n",
       "numinstlsallpaid_934L                   float64\n",
       "numinstlswithdpd10_728L                 float64\n",
       "numinstlswithdpd5_4187116L              float64\n",
       "numinstlswithoutdpd_562L                float64\n",
       "numinstmatpaidtearly2d_4499204L         float64\n",
       "numinstpaid_4499208L                    float64\n",
       "numinstpaidearly3d_3546850L             float64\n",
       "numinstpaidearly3dest_4493216L          float64\n",
       "numinstpaidearly5d_1087L                float64\n",
       "numinstpaidearly5dest_4493211L          float64\n",
       "numinstpaidearly5dobd_4499205L          float64\n",
       "numinstpaidearly_338L                   float64\n",
       "numinstpaidearlyest_4493214L            float64\n",
       "numinstpaidlastcontr_4325080L           float64\n",
       "numinstpaidlate1d_3546852L              float64\n",
       "numinstregularpaid_973L                 float64\n",
       "numinstregularpaidest_4493210L          float64\n",
       "numinsttopaygr_769L                     float64\n",
       "numinsttopaygrest_4493213L              float64\n",
       "numinstunpaidmax_3546851L               float64\n",
       "numinstunpaidmaxest_4493212L            float64\n",
       "numnotactivated_1143L                   float64\n",
       "numpmtchanneldd_318L                    float64\n",
       "numrejects9m_859L                       float64\n",
       "opencred_647L                             int64\n",
       "paytype1st_925L                        category\n",
       "paytype_783L                           category\n",
       "pctinstlsallpaidearl3d_427L             float64\n",
       "pctinstlsallpaidlat10d_839L             float64\n",
       "pctinstlsallpaidlate1d_3546856L         float64\n",
       "pctinstlsallpaidlate4d_3546849L         float64\n",
       "pctinstlsallpaidlate6d_3546844L         float64\n",
       "pmtnum_254L                             float64\n",
       "posfpd10lastmonth_333P                  float64\n",
       "posfpd30lastmonth_3976960P              float64\n",
       "posfstqpd30lastmonth_3976962P           float64\n",
       "price_1097A                             float64\n",
       "sellerplacecnt_915L                     float64\n",
       "sellerplacescnt_216L                    float64\n",
       "sumoutstandtotal_3546847A               float64\n",
       "sumoutstandtotalest_4493215A            float64\n",
       "totaldebt_9A                            float64\n",
       "totalsettled_863A                       float64\n",
       "totinstallast1m_4525188A                float64\n",
       "twobodfilling_608L                     category\n",
       "typesuite_864L                         category\n",
       "contractssum_5085716L                   float64\n",
       "days120_123L                            float64\n",
       "days180_256L                            float64\n",
       "days30_165L                             float64\n",
       "days360_512L                            float64\n",
       "days90_310L                             float64\n",
       "description_5085714M                   category\n",
       "education_1103M                        category\n",
       "education_88M                          category\n",
       "firstquarter_103L                       float64\n",
       "fourthquarter_440L                      float64\n",
       "maritalst_385M                         category\n",
       "maritalst_893M                         category\n",
       "numberofqueries_373L                    float64\n",
       "secondquarter_766L                      float64\n",
       "thirdquarter_1082L                      float64\n",
       "mainoccupationinc_384A_sum              float64\n",
       "incometype_1044T                       category\n",
       "familystate_447L                       category\n",
       "sex_738L                               category\n",
       "type_25L                               category\n",
       "safeguarantyflag_411L                    object\n",
       "role_1084L                             category\n",
       "actualdpd_943P_sum                      float64\n",
       "annuity_853A_sum                        float64\n",
       "annuity_853A_range                      float64\n",
       "byoccupationinc_3656910L_sum            float64\n",
       "byoccupationinc_3656910L_range          float64\n",
       "childnum_21L_sum                        float64\n",
       "childnum_21L_range                      float64\n",
       "credacc_credlmt_575A_sum                float64\n",
       "credacc_credlmt_575A_range              float64\n",
       "currdebt_94A_sum                        float64\n",
       "downpmt_134A_sum                        float64\n",
       "downpmt_134A_range                      float64\n",
       "isbidproduct_390L                        object\n",
       "mainoccupationinc_437A_sum              float64\n",
       "mainoccupationinc_437A_range            float64\n",
       "maxdpdtolerance_577P_max                float64\n",
       "outstandingdebt_522A_sum                float64\n",
       "pmtnum_8L_sum                           float64\n",
       "pmtnum_8L_range                         float64\n",
       "tenor_203L_sum                          float64\n",
       "tenor_203L_range                        float64\n",
       "credtype_587L                          category\n",
       "familystate_726L                       category\n",
       "inittransactioncode_279L               category\n",
       "status_219L                            category\n",
       "dpdmax_139P_max                         float64\n",
       "dpdmax_757P_max                         float64\n",
       "monthlyinstlamount_332A_sum             float64\n",
       "monthlyinstlamount_332A_range           float64\n",
       "monthlyinstlamount_674A_sum             float64\n",
       "monthlyinstlamount_674A_range           float64\n",
       "nominalrate_498L_max                    float64\n",
       "numberofinstls_229L_sum                 float64\n",
       "numberofinstls_229L_range               float64\n",
       "numberofoutstandinstls_520L_sum         float64\n",
       "numberofoverdueinstlmax_1039L_sum       float64\n",
       "numberofoverdueinstlmax_1151L_sum       float64\n",
       "numberofoverdueinstlmax_1151L_range     float64\n",
       "numberofoverdueinstls_725L_sum          float64\n",
       "numberofoverdueinstls_834L_sum          float64\n",
       "outstandingamount_354A_sum              float64\n",
       "overdueamount_31A_sum                   float64\n",
       "overdueamount_659A_sum                  float64\n",
       "overdueamountmax2_14A_max               float64\n",
       "overdueamountmax2_398A_max              float64\n",
       "overdueamountmax_155A_max               float64\n",
       "overdueamountmax_35A_max                float64\n",
       "periodicityofpmts_1102L_max             float64\n",
       "totalamount_6A_sum                      float64\n",
       "totalamount_6A_range                    float64\n",
       "conts_type_509L                        category\n",
       "pmts_dpd_1073P_sum                      float64\n",
       "pmts_dpd_1073P_range                    float64\n",
       "pmts_dpd_303P_sum                       float64\n",
       "pmts_dpd_303P_range                     float64\n",
       "pmts_overdue_1140A_sum                  float64\n",
       "pmts_overdue_1140A_range                float64\n",
       "pmts_overdue_1152A_sum                  float64\n",
       "pmts_overdue_1152A_range                float64\n",
       "conts_role_79M                         category\n",
       "empls_economicalst_849M                category\n",
       "empls_employer_name_740M               category\n",
       "datefirstoffer_1144D_diff               float64\n",
       "datelastunpaid_3546854D_diff            float64\n",
       "dtlastpmtallstes_4499206D_diff          float64\n",
       "firstclxcampaign_1125D_diff             float64\n",
       "lastdelinqdate_224D_diff                float64\n",
       "lastrejectdate_50D_diff                 float64\n",
       "maxdpdinstldate_3546855D_diff           float64\n",
       "responsedate_4917613D_diff              float64\n",
       "empl_employedfrom_271D_diff             float64\n",
       "firstdatedue_489D_diff                  float64\n",
       "lastactivateddate_801D_diff             float64\n",
       "lastapplicationdate_877D_diff           float64\n",
       "lastapprdate_640D_diff                  float64\n",
       "dateofbirth_337D_diff                   float64\n",
       "birth_259D_diff                         float64\n",
       "dtype: object"
      ]
     },
     "execution_count": 35,
     "metadata": {},
     "output_type": "execute_result"
    }
   ],
   "source": [
    "pd.set_option('display.max_rows', None)\n",
    "test.dtypes"
   ]
  },
  {
   "cell_type": "code",
   "execution_count": 36,
   "id": "b793917a",
   "metadata": {
    "execution": {
     "iopub.execute_input": "2024-05-06T11:25:11.511298Z",
     "iopub.status.busy": "2024-05-06T11:25:11.510842Z",
     "iopub.status.idle": "2024-05-06T11:25:11.516405Z",
     "shell.execute_reply": "2024-05-06T11:25:11.515599Z"
    },
    "papermill": {
     "duration": 0.029634,
     "end_time": "2024-05-06T11:25:11.518260",
     "exception": false,
     "start_time": "2024-05-06T11:25:11.488626",
     "status": "completed"
    },
    "tags": []
   },
   "outputs": [
    {
     "data": {
      "text/plain": [
       "\"\\n\\n#here is how you would create dummy variables, but commented out since we did CatBoost model\\n\\ncat_cols = test.select_dtypes(include=['category', 'object']).columns.tolist()\\n#create dummies for all cat columns, not dropping first col to keep column names the same as training set\\n\\ntest = pd.get_dummies(test, dtype=int, columns=cat_cols, sparse=True, drop_first=False)\\ntest.head()\\n\\n\""
      ]
     },
     "execution_count": 36,
     "metadata": {},
     "output_type": "execute_result"
    }
   ],
   "source": [
    "\"\"\"\n",
    "\n",
    "#here is how you would create dummy variables, but commented out since we did CatBoost model\n",
    "\n",
    "cat_cols = test.select_dtypes(include=['category', 'object']).columns.tolist()\n",
    "#create dummies for all cat columns, not dropping first col to keep column names the same as training set\n",
    "\n",
    "test = pd.get_dummies(test, dtype=int, columns=cat_cols, sparse=True, drop_first=False)\n",
    "test.head()\n",
    "\n",
    "\"\"\""
   ]
  },
  {
   "cell_type": "code",
   "execution_count": 37,
   "id": "958e2a1b",
   "metadata": {
    "execution": {
     "iopub.execute_input": "2024-05-06T11:25:11.561698Z",
     "iopub.status.busy": "2024-05-06T11:25:11.561408Z",
     "iopub.status.idle": "2024-05-06T11:25:11.665764Z",
     "shell.execute_reply": "2024-05-06T11:25:11.664906Z"
    },
    "papermill": {
     "duration": 0.128522,
     "end_time": "2024-05-06T11:25:11.667885",
     "exception": false,
     "start_time": "2024-05-06T11:25:11.539363",
     "status": "completed"
    },
    "tags": []
   },
   "outputs": [
    {
     "name": "stdout",
     "output_type": "stream",
     "text": [
      "Memory usage of dataframe is 0.02 MB\n",
      "Memory usage after optimization is: 0.01 MB\n",
      "Decreased by 54.2%\n"
     ]
    }
   ],
   "source": [
    "test = reduce_mem_usage(test)"
   ]
  },
  {
   "cell_type": "markdown",
   "id": "80abe0a1",
   "metadata": {
    "papermill": {
     "duration": 0.021504,
     "end_time": "2024-05-06T11:25:11.711101",
     "exception": false,
     "start_time": "2024-05-06T11:25:11.689597",
     "status": "completed"
    },
    "tags": []
   },
   "source": [
    "# Training Model\n"
   ]
  },
  {
   "cell_type": "code",
   "execution_count": 38,
   "id": "e49a0a76",
   "metadata": {
    "execution": {
     "iopub.execute_input": "2024-05-06T11:25:11.755841Z",
     "iopub.status.busy": "2024-05-06T11:25:11.755137Z",
     "iopub.status.idle": "2024-05-06T11:25:27.200446Z",
     "shell.execute_reply": "2024-05-06T11:25:27.199487Z"
    },
    "papermill": {
     "duration": 15.470041,
     "end_time": "2024-05-06T11:25:27.202748",
     "exception": false,
     "start_time": "2024-05-06T11:25:11.732707",
     "status": "completed"
    },
    "tags": []
   },
   "outputs": [
    {
     "name": "stderr",
     "output_type": "stream",
     "text": [
      "/tmp/ipykernel_24/2624698631.py:20: CategoricalRemappingWarning: Local categoricals have different encodings, expensive re-encoding is done to perform this merge operation. Consider using a StringCache or an Enum type if the categories are known in advance\n",
      "  df = df.with_columns(pl.col(col).cast(pl.Categorical))\n"
     ]
    },
    {
     "data": {
      "text/html": [
       "<div><style>\n",
       ".dataframe > thead > tr,\n",
       ".dataframe > tbody > tr {\n",
       "  text-align: right;\n",
       "  white-space: pre-wrap;\n",
       "}\n",
       "</style>\n",
       "<small>shape: (5, 251)</small><table border=\"1\" class=\"dataframe\"><thead><tr><th>case_id</th><th>WEEK_NUM</th><th>target</th><th>actualdpdtolerance_344P</th><th>amtinstpaidbefduel24m_4187115A</th><th>annuity_780A</th><th>annuitynextmonth_57A</th><th>applicationcnt_361L</th><th>applications30d_658L</th><th>applicationscnt_1086L</th><th>applicationscnt_464L</th><th>applicationscnt_629L</th><th>applicationscnt_867L</th><th>avgdbddpdlast24m_3658932P</th><th>avgdbddpdlast3m_4187120P</th><th>avgdbdtollast24m_4525197P</th><th>avgdpdtolclosure24_3658938P</th><th>avginstallast24m_3658937A</th><th>avglnamtstart24m_4525187A</th><th>avgmaxdpdlast9m_3716943P</th><th>avgoutstandbalancel6m_4187114A</th><th>avgpmtlast12m_4525200A</th><th>bankacctype_710L</th><th>cardtype_51L</th><th>clientscnt12m_3712952L</th><th>clientscnt3m_3712950L</th><th>clientscnt6m_3712949L</th><th>clientscnt_100L</th><th>clientscnt_1022L</th><th>clientscnt_1071L</th><th>clientscnt_1130L</th><th>clientscnt_157L</th><th>clientscnt_257L</th><th>clientscnt_304L</th><th>clientscnt_360L</th><th>clientscnt_493L</th><th>clientscnt_533L</th><th>&hellip;</th><th>overdueamountmax2_14A_max</th><th>overdueamountmax2_398A_max</th><th>overdueamountmax_155A_max</th><th>overdueamountmax_35A_max</th><th>periodicityofpmts_1102L_max</th><th>totalamount_6A_sum</th><th>totalamount_6A_range</th><th>conts_type_509L</th><th>pmts_dpd_1073P_sum</th><th>pmts_dpd_1073P_range</th><th>pmts_dpd_303P_sum</th><th>pmts_dpd_303P_range</th><th>pmts_overdue_1140A_sum</th><th>pmts_overdue_1140A_range</th><th>pmts_overdue_1152A_sum</th><th>pmts_overdue_1152A_range</th><th>conts_role_79M</th><th>empls_economicalst_849M</th><th>empls_employer_name_740M</th><th>datefirstoffer_1144D_diff</th><th>datelastunpaid_3546854D_diff</th><th>dtlastpmtallstes_4499206D_diff</th><th>firstclxcampaign_1125D_diff</th><th>lastdelinqdate_224D_diff</th><th>lastrejectdate_50D_diff</th><th>maxdpdinstldate_3546855D_diff</th><th>birthdate_574D_diff</th><th>responsedate_1012D_diff</th><th>responsedate_4527233D_diff</th><th>responsedate_4917613D_diff</th><th>empl_employedfrom_271D_diff</th><th>firstdatedue_489D_diff</th><th>lastactivateddate_801D_diff</th><th>lastapplicationdate_877D_diff</th><th>lastapprdate_640D_diff</th><th>dateofbirth_337D_diff</th><th>birth_259D_diff</th></tr><tr><td>i64</td><td>i64</td><td>i64</td><td>f64</td><td>f64</td><td>f64</td><td>f64</td><td>f64</td><td>f64</td><td>f64</td><td>f64</td><td>f64</td><td>f64</td><td>f64</td><td>f64</td><td>f64</td><td>f64</td><td>f64</td><td>f64</td><td>f64</td><td>f64</td><td>f64</td><td>cat</td><td>cat</td><td>f64</td><td>f64</td><td>f64</td><td>f64</td><td>f64</td><td>f64</td><td>f64</td><td>f64</td><td>f64</td><td>f64</td><td>f64</td><td>f64</td><td>f64</td><td>&hellip;</td><td>f64</td><td>f64</td><td>f64</td><td>f64</td><td>f64</td><td>f64</td><td>f64</td><td>cat</td><td>f64</td><td>f64</td><td>f64</td><td>f64</td><td>f64</td><td>f64</td><td>f64</td><td>f64</td><td>cat</td><td>cat</td><td>cat</td><td>cat</td><td>f64</td><td>cat</td><td>cat</td><td>f64</td><td>f64</td><td>f64</td><td>cat</td><td>cat</td><td>cat</td><td>cat</td><td>f64</td><td>f64</td><td>f64</td><td>f64</td><td>f64</td><td>cat</td><td>f64</td></tr></thead><tbody><tr><td>0</td><td>0</td><td>0</td><td>null</td><td>null</td><td>1917.6</td><td>0.0</td><td>0.0</td><td>0.0</td><td>0.0</td><td>0.0</td><td>0.0</td><td>0.0</td><td>null</td><td>null</td><td>null</td><td>null</td><td>null</td><td>null</td><td>null</td><td>null</td><td>null</td><td>null</td><td>null</td><td>0.0</td><td>0.0</td><td>0.0</td><td>0.0</td><td>0.0</td><td>0.0</td><td>0.0</td><td>0.0</td><td>0.0</td><td>0.0</td><td>0.0</td><td>0.0</td><td>0.0</td><td>&hellip;</td><td>null</td><td>null</td><td>null</td><td>null</td><td>null</td><td>null</td><td>null</td><td>null</td><td>null</td><td>null</td><td>null</td><td>null</td><td>null</td><td>null</td><td>null</td><td>null</td><td>null</td><td>null</td><td>null</td><td>null</td><td>null</td><td>null</td><td>null</td><td>null</td><td>null</td><td>null</td><td>null</td><td>null</td><td>null</td><td>null</td><td>475.0</td><td>null</td><td>null</td><td>null</td><td>null</td><td>null</td><td>11874.0</td></tr><tr><td>1</td><td>0</td><td>0</td><td>null</td><td>null</td><td>3134.0</td><td>0.0</td><td>0.0</td><td>0.0</td><td>0.0</td><td>0.0</td><td>0.0</td><td>0.0</td><td>null</td><td>null</td><td>null</td><td>null</td><td>null</td><td>null</td><td>null</td><td>null</td><td>null</td><td>null</td><td>null</td><td>0.0</td><td>0.0</td><td>0.0</td><td>0.0</td><td>0.0</td><td>0.0</td><td>0.0</td><td>3.0</td><td>0.0</td><td>0.0</td><td>0.0</td><td>0.0</td><td>0.0</td><td>&hellip;</td><td>null</td><td>null</td><td>null</td><td>null</td><td>null</td><td>null</td><td>null</td><td>null</td><td>null</td><td>null</td><td>null</td><td>null</td><td>null</td><td>null</td><td>null</td><td>null</td><td>null</td><td>null</td><td>null</td><td>null</td><td>null</td><td>null</td><td>null</td><td>null</td><td>null</td><td>null</td><td>null</td><td>null</td><td>null</td><td>null</td><td>3718.0</td><td>null</td><td>null</td><td>null</td><td>null</td><td>null</td><td>22435.0</td></tr><tr><td>2</td><td>0</td><td>0</td><td>null</td><td>null</td><td>4937.0</td><td>0.0</td><td>0.0</td><td>0.0</td><td>0.0</td><td>0.0</td><td>0.0</td><td>0.0</td><td>null</td><td>null</td><td>null</td><td>null</td><td>null</td><td>null</td><td>null</td><td>null</td><td>null</td><td>null</td><td>null</td><td>0.0</td><td>0.0</td><td>0.0</td><td>0.0</td><td>0.0</td><td>0.0</td><td>0.0</td><td>0.0</td><td>0.0</td><td>0.0</td><td>0.0</td><td>0.0</td><td>0.0</td><td>&hellip;</td><td>null</td><td>null</td><td>null</td><td>null</td><td>null</td><td>null</td><td>null</td><td>&quot;PRIMARY_MOBILE…</td><td>null</td><td>null</td><td>null</td><td>null</td><td>null</td><td>null</td><td>null</td><td>null</td><td>null</td><td>null</td><td>null</td><td>null</td><td>null</td><td>null</td><td>null</td><td>null</td><td>2102.0</td><td>null</td><td>null</td><td>null</td><td>null</td><td>null</td><td>3245.0</td><td>null</td><td>null</td><td>2102.0</td><td>null</td><td>null</td><td>16105.0</td></tr><tr><td>3</td><td>0</td><td>0</td><td>null</td><td>null</td><td>4643.6</td><td>0.0</td><td>0.0</td><td>1.0</td><td>0.0</td><td>2.0</td><td>0.0</td><td>1.0</td><td>null</td><td>null</td><td>null</td><td>null</td><td>null</td><td>null</td><td>null</td><td>null</td><td>null</td><td>null</td><td>null</td><td>0.0</td><td>0.0</td><td>0.0</td><td>0.0</td><td>0.0</td><td>0.0</td><td>1.0</td><td>0.0</td><td>0.0</td><td>0.0</td><td>0.0</td><td>0.0</td><td>0.0</td><td>&hellip;</td><td>null</td><td>null</td><td>null</td><td>null</td><td>null</td><td>null</td><td>null</td><td>&quot;PHONE&quot;</td><td>null</td><td>null</td><td>null</td><td>null</td><td>null</td><td>null</td><td>null</td><td>null</td><td>null</td><td>null</td><td>null</td><td>null</td><td>null</td><td>null</td><td>null</td><td>null</td><td>-4.0</td><td>null</td><td>null</td><td>null</td><td>null</td><td>null</td><td>233.0</td><td>null</td><td>null</td><td>-4.0</td><td>null</td><td>null</td><td>9286.0</td></tr><tr><td>4</td><td>0</td><td>1</td><td>null</td><td>null</td><td>3390.2</td><td>0.0</td><td>0.0</td><td>1.0</td><td>0.0</td><td>0.0</td><td>0.0</td><td>1.0</td><td>null</td><td>null</td><td>null</td><td>null</td><td>null</td><td>null</td><td>null</td><td>null</td><td>null</td><td>null</td><td>null</td><td>0.0</td><td>0.0</td><td>0.0</td><td>0.0</td><td>0.0</td><td>0.0</td><td>0.0</td><td>0.0</td><td>0.0</td><td>0.0</td><td>0.0</td><td>0.0</td><td>0.0</td><td>&hellip;</td><td>null</td><td>null</td><td>null</td><td>null</td><td>null</td><td>null</td><td>null</td><td>&quot;PRIMARY_MOBILE…</td><td>null</td><td>null</td><td>null</td><td>null</td><td>null</td><td>null</td><td>null</td><td>null</td><td>null</td><td>null</td><td>null</td><td>null</td><td>null</td><td>null</td><td>null</td><td>null</td><td>null</td><td>null</td><td>null</td><td>null</td><td>null</td><td>null</td><td>1481.0</td><td>null</td><td>null</td><td>-4.0</td><td>null</td><td>null</td><td>9134.0</td></tr></tbody></table></div>"
      ],
      "text/plain": [
       "shape: (5, 251)\n",
       "┌─────────┬──────────┬────────┬────────────┬───┬────────────┬────────────┬────────────┬────────────┐\n",
       "│ case_id ┆ WEEK_NUM ┆ target ┆ actualdpdt ┆ … ┆ lastapplic ┆ lastapprda ┆ dateofbirt ┆ birth_259D │\n",
       "│ ---     ┆ ---      ┆ ---    ┆ olerance_3 ┆   ┆ ationdate_ ┆ te_640D_di ┆ h_337D_dif ┆ _diff      │\n",
       "│ i64     ┆ i64      ┆ i64    ┆ 44P        ┆   ┆ 877D_diff  ┆ ff         ┆ f          ┆ ---        │\n",
       "│         ┆          ┆        ┆ ---        ┆   ┆ ---        ┆ ---        ┆ ---        ┆ f64        │\n",
       "│         ┆          ┆        ┆ f64        ┆   ┆ f64        ┆ f64        ┆ cat        ┆            │\n",
       "╞═════════╪══════════╪════════╪════════════╪═══╪════════════╪════════════╪════════════╪════════════╡\n",
       "│ 0       ┆ 0        ┆ 0      ┆ null       ┆ … ┆ null       ┆ null       ┆ null       ┆ 11874.0    │\n",
       "│ 1       ┆ 0        ┆ 0      ┆ null       ┆ … ┆ null       ┆ null       ┆ null       ┆ 22435.0    │\n",
       "│ 2       ┆ 0        ┆ 0      ┆ null       ┆ … ┆ 2102.0     ┆ null       ┆ null       ┆ 16105.0    │\n",
       "│ 3       ┆ 0        ┆ 0      ┆ null       ┆ … ┆ -4.0       ┆ null       ┆ null       ┆ 9286.0     │\n",
       "│ 4       ┆ 0        ┆ 1      ┆ null       ┆ … ┆ -4.0       ┆ null       ┆ null       ┆ 9134.0     │\n",
       "└─────────┴──────────┴────────┴────────────┴───┴────────────┴────────────┴────────────┴────────────┘"
      ]
     },
     "execution_count": 38,
     "metadata": {},
     "output_type": "execute_result"
    }
   ],
   "source": [
    "train = pl.read_csv('/kaggle/input/training/train251_noimpute.csv').pipe(set_table_dtypes).pipe(convert_strings)\n",
    "\n",
    "for col in train.columns:\n",
    "    if col[-5:-1] in (\"range\"):\n",
    "        train = train.with_columns(pl.col(col).cast(pl.Float64).alias(col))\n",
    "        \n",
    "train.head()"
   ]
  },
  {
   "cell_type": "code",
   "execution_count": 39,
   "id": "9ffb6c86",
   "metadata": {
    "execution": {
     "iopub.execute_input": "2024-05-06T11:25:27.248352Z",
     "iopub.status.busy": "2024-05-06T11:25:27.248028Z",
     "iopub.status.idle": "2024-05-06T11:25:31.127536Z",
     "shell.execute_reply": "2024-05-06T11:25:31.126546Z"
    },
    "papermill": {
     "duration": 3.904618,
     "end_time": "2024-05-06T11:25:31.129882",
     "exception": false,
     "start_time": "2024-05-06T11:25:27.225264",
     "status": "completed"
    },
    "tags": []
   },
   "outputs": [],
   "source": [
    "train = train.to_pandas()\n",
    "\n",
    "ids = test['case_id'].tolist()"
   ]
  },
  {
   "cell_type": "code",
   "execution_count": 40,
   "id": "085a5b0c",
   "metadata": {
    "execution": {
     "iopub.execute_input": "2024-05-06T11:25:31.175868Z",
     "iopub.status.busy": "2024-05-06T11:25:31.175521Z",
     "iopub.status.idle": "2024-05-06T11:25:35.237123Z",
     "shell.execute_reply": "2024-05-06T11:25:35.236095Z"
    },
    "papermill": {
     "duration": 4.087226,
     "end_time": "2024-05-06T11:25:35.239421",
     "exception": false,
     "start_time": "2024-05-06T11:25:31.152195",
     "status": "completed"
    },
    "tags": []
   },
   "outputs": [
    {
     "name": "stdout",
     "output_type": "stream",
     "text": [
      "Memory usage of dataframe is 2267.97 MB\n",
      "Memory usage after optimization is: 895.02 MB\n",
      "Decreased by 60.5%\n"
     ]
    }
   ],
   "source": [
    "train = reduce_mem_usage(train)"
   ]
  },
  {
   "cell_type": "code",
   "execution_count": 41,
   "id": "f2f2c0d1",
   "metadata": {
    "execution": {
     "iopub.execute_input": "2024-05-06T11:25:35.285908Z",
     "iopub.status.busy": "2024-05-06T11:25:35.285620Z",
     "iopub.status.idle": "2024-05-06T11:25:36.861911Z",
     "shell.execute_reply": "2024-05-06T11:25:36.860939Z"
    },
    "papermill": {
     "duration": 1.601404,
     "end_time": "2024-05-06T11:25:36.864111",
     "exception": false,
     "start_time": "2024-05-06T11:25:35.262707",
     "status": "completed"
    },
    "tags": []
   },
   "outputs": [
    {
     "data": {
      "text/plain": [
       "(1526659, 237)"
      ]
     },
     "execution_count": 41,
     "metadata": {},
     "output_type": "execute_result"
    }
   ],
   "source": [
    "common_columns = list(set(train.columns) & set(test.columns))\n",
    "\n",
    "test=test[common_columns]\n",
    "\n",
    "train = train[common_columns + ['target']]\n",
    "train.shape"
   ]
  },
  {
   "cell_type": "code",
   "execution_count": 42,
   "id": "1dc51f81",
   "metadata": {
    "execution": {
     "iopub.execute_input": "2024-05-06T11:25:36.910723Z",
     "iopub.status.busy": "2024-05-06T11:25:36.910400Z",
     "iopub.status.idle": "2024-05-06T11:25:37.762602Z",
     "shell.execute_reply": "2024-05-06T11:25:37.761787Z"
    },
    "papermill": {
     "duration": 0.877866,
     "end_time": "2024-05-06T11:25:37.764922",
     "exception": false,
     "start_time": "2024-05-06T11:25:36.887056",
     "status": "completed"
    },
    "tags": []
   },
   "outputs": [],
   "source": [
    "y = train.loc[:, 'target'].to_frame('target')\n",
    "X = train.drop(['target'], axis=1)"
   ]
  },
  {
   "cell_type": "code",
   "execution_count": 43,
   "id": "6cd82b3b",
   "metadata": {
    "execution": {
     "iopub.execute_input": "2024-05-06T11:25:37.811859Z",
     "iopub.status.busy": "2024-05-06T11:25:37.811268Z",
     "iopub.status.idle": "2024-05-06T11:25:37.834830Z",
     "shell.execute_reply": "2024-05-06T11:25:37.833871Z"
    },
    "papermill": {
     "duration": 0.048838,
     "end_time": "2024-05-06T11:25:37.836732",
     "exception": false,
     "start_time": "2024-05-06T11:25:37.787894",
     "status": "completed"
    },
    "tags": []
   },
   "outputs": [
    {
     "name": "stdout",
     "output_type": "stream",
     "text": [
      "0.0314\n"
     ]
    }
   ],
   "source": [
    "print(round(y.target.value_counts()[1]/y.target.value_counts().sum(), 4))"
   ]
  },
  {
   "cell_type": "code",
   "execution_count": 44,
   "id": "75ea6dbe",
   "metadata": {
    "execution": {
     "iopub.execute_input": "2024-05-06T11:25:37.884428Z",
     "iopub.status.busy": "2024-05-06T11:25:37.884079Z",
     "iopub.status.idle": "2024-05-06T11:25:38.014925Z",
     "shell.execute_reply": "2024-05-06T11:25:38.014062Z"
    },
    "papermill": {
     "duration": 0.156387,
     "end_time": "2024-05-06T11:25:38.016799",
     "exception": false,
     "start_time": "2024-05-06T11:25:37.860412",
     "status": "completed"
    },
    "tags": []
   },
   "outputs": [
    {
     "data": {
      "text/plain": [
       "0"
      ]
     },
     "execution_count": 44,
     "metadata": {},
     "output_type": "execute_result"
    }
   ],
   "source": [
    "del train\n",
    "gc.collect()"
   ]
  },
  {
   "cell_type": "code",
   "execution_count": 45,
   "id": "bf253d12",
   "metadata": {
    "execution": {
     "iopub.execute_input": "2024-05-06T11:25:38.065690Z",
     "iopub.status.busy": "2024-05-06T11:25:38.065001Z",
     "iopub.status.idle": "2024-05-06T11:25:38.076224Z",
     "shell.execute_reply": "2024-05-06T11:25:38.075191Z"
    },
    "papermill": {
     "duration": 0.038056,
     "end_time": "2024-05-06T11:25:38.078114",
     "exception": false,
     "start_time": "2024-05-06T11:25:38.040058",
     "status": "completed"
    },
    "tags": []
   },
   "outputs": [
    {
     "name": "stdout",
     "output_type": "stream",
     "text": [
      "['pmts_dpd_1073P_range', 'pmts_dpd_303P_range', 'tenor_203L_sum', 'firstdatedue_489D_diff', 'totinstallast1m_4525188A', 'avgoutstandbalancel6m_4187114A', 'maxpmtlast3m_4525190A', 'pmts_dpd_1073P_sum', 'maxdpdfrom6mto36m_3546853P', 'mainoccupationinc_437A_range', 'lastrejectdate_50D_diff', 'firstquarter_103L', 'annuity_853A_range', 'sumoutstandtotalest_4493215A', 'totalamount_6A_range', 'numinstlswithdpd5_4187116L', 'numinstlswithoutdpd_562L', 'overdueamountmax2_398A_max', 'credacc_credlmt_575A_range', 'lastactivateddate_801D_diff', 'numberofoutstandinstls_520L_sum', 'maxdpdinstlnum_3546846P', 'pctinstlsallpaidlat10d_839L', 'sellerplacecnt_915L', 'dpdmax_757P_max', 'numberofinstls_229L_sum', 'clientscnt_304L', 'numinstlsallpaid_934L', 'numberofoverdueinstls_834L_sum', 'dpdmax_139P_max', 'price_1097A', 'numinstpaidearly3d_3546850L', 'numinsttopaygr_769L', 'currdebtcredtyperange_828A', 'eir_270L', 'totaldebt_9A', 'numpmtchanneldd_318L', 'applicationscnt_464L', 'maxdbddpdlast1m_3658939P', 'numberofqueries_373L', 'clientscnt_257L', 'byoccupationinc_3656910L_range', 'numrejects9m_859L', 'secondquarter_766L', 'downpmt_134A_range', 'actualdpdtolerance_344P', 'monthlyinstlamount_332A_sum', 'numinstpaidearly_338L', 'lastapplicationdate_877D_diff', 'numnotactivated_1143L', 'totalsettled_863A', 'actualdpd_943P_sum', 'credacc_credlmt_575A_sum', 'days30_165L', 'posfpd30lastmonth_3976960P', 'downpmt_134A_sum', 'numcontrs3months_479L', 'numinstregularpaidest_4493210L', 'clientscnt_946L', 'numinstmatpaidtearly2d_4499204L', 'numberofoverdueinstlmax_1039L_sum', 'pmts_overdue_1140A_sum', 'numinstregularpaid_973L', 'nominalrate_498L_max', 'annuity_780A', 'posfstqpd30lastmonth_3976962P', 'childnum_21L_sum', 'numactiverelcontr_750L', 'clientscnt6m_3712949L', 'overdueamount_31A_sum', 'monthlyinstlamount_674A_sum', 'maxinstallast24m_3658928A', 'mindbddpdlast24m_3658935P', 'numinstpaidearly5dest_4493211L', 'numinstunpaidmaxest_4493212L', 'mainoccupationinc_437A_sum', 'lastrejectcredamount_222A', 'monthlyinstlamount_674A_range', 'maxdbddpdtollast12m_3658940P', 'annuity_853A_sum', 'maininc_215A', 'overdueamountmax_35A_max', 'childnum_21L_range', 'lastdelinqdate_224D_diff', 'cntpmts24_3658933L', 'numinstpaidlastcontr_4325080L', 'overdueamountmax_155A_max', 'outstandingamount_354A_sum', 'avgmaxdpdlast9m_3716943P', 'maxdpdtolerance_374P', 'dateofbirth_337D_diff', 'homephncnt_628L', 'thirdquarter_1082L', 'overdueamountmax2_14A_max', 'monthlyinstlamount_332A_range', 'maxdpdlast9m_1059P', 'totalamount_6A_sum', 'amtinstpaidbefduel24m_4187115A', 'days180_256L', 'clientscnt_887L', 'credamount_770A', 'pmts_overdue_1152A_sum', 'pctinstlsallpaidlate6d_3546844L', 'maxoutstandbalancel12m_4187113A', 'periodicityofpmts_1102L_max', 'clientscnt_1130L', 'pmtnum_254L', 'firstclxcampaign_1125D_diff', 'clientscnt_1071L', 'annuitynextmonth_57A', 'numberofoverdueinstls_725L_sum', 'avglnamtstart24m_4525187A', 'pmts_overdue_1140A_range', 'daysoverduetolerancedd_3976961L', 'clientscnt_360L', 'lastapprcredamount_781A', 'responsedate_4917613D_diff', 'clientscnt_157L', 'applicationscnt_629L', 'tenor_203L_range', 'numinstunpaidmax_3546851L', 'avgdbddpdlast24m_3658932P', 'applicationcnt_361L', 'numinstpaidearly5d_1087L', 'days90_310L', 'numactivecreds_622L', 'avgdbdtollast24m_4525197P', 'dtlastpmtallstes_4499206D_diff', 'numinstpaid_4499208L', 'numinstpaidlate1d_3546852L', 'clientscnt12m_3712952L', 'downpmt_116A', 'clientscnt_493L', 'avginstallast24m_3658937A', 'clientscnt3m_3712950L', 'numinstls_657L', 'lastapprdate_640D_diff', 'clientscnt_1022L', 'avgpmtlast12m_4525200A', 'maxdpdlast6m_474P', 'maxlnamtstart6m_4525199A', 'avgdpdtolclosure24_3658938P', 'posfpd10lastmonth_333P', 'clientscnt_100L', 'applications30d_658L', 'birth_259D_diff', 'monthsannuity_845L', 'numinstpaidearlyest_4493214L', 'numinstlallpaidearly3d_817L', 'opencred_647L', 'byoccupationinc_3656910L_sum', 'contractssum_5085716L', 'pmts_dpd_303P_sum', 'isbidproduct_1095L', 'maxdpdlast12m_727P', 'numberofoverdueinstlmax_1151L_range', 'sumoutstandtotal_3546847A', 'currdebt_94A_sum', 'pmts_overdue_1152A_range', 'currdebt_22A', 'mindbdtollast24m_4525191P', 'maxdpdlast3m_392P', 'days360_512L', 'disbursedcredamount_1113A', 'maxannuity_159A', 'maxdpdtolerance_577P_max', 'interestrate_311L', 'outstandingdebt_522A_sum', 'mainoccupationinc_384A_sum', 'pmtnum_8L_range', 'maxdpdinstldate_3546855D_diff', 'applicationscnt_1086L', 'numinstlswithdpd10_728L', 'pctinstlsallpaidlate1d_3546856L', 'numincomingpmts_3546848L', 'cntincpaycont9m_3716944L', 'datefirstoffer_1144D_diff', 'applicationscnt_867L', 'numberofinstls_229L_range', 'overdueamount_659A_sum', 'maxdbddpdtollast6m_4187119P', 'pctinstlsallpaidlate4d_3546849L', 'maxdpdlast24m_143P', 'pmtnum_8L_sum', 'numinsttopaygrest_4493213L', 'fourthquarter_440L', 'clientscnt_533L', 'datelastunpaid_3546854D_diff', 'avgdbddpdlast3m_4187120P', 'pctinstlsallpaidearl3d_427L', 'sellerplacescnt_216L', 'days120_123L', 'numactivecredschannel_414L', 'mobilephncnt_593L', 'maxdebt4_972A', 'numinstpaidearly3dest_4493216L', 'empl_employedfrom_271D_diff', 'numberofoverdueinstlmax_1151L_sum', 'numinstpaidearly5dobd_4499205L']\n"
     ]
    }
   ],
   "source": [
    "numeric_cols = test.select_dtypes(include=['number']).columns.tolist()\n",
    "numeric_cols.remove('case_id')\n",
    "numeric_cols.remove('WEEK_NUM')\n",
    "print(numeric_cols)\n"
   ]
  },
  {
   "cell_type": "code",
   "execution_count": 46,
   "id": "a682ed69",
   "metadata": {
    "execution": {
     "iopub.execute_input": "2024-05-06T11:25:38.125660Z",
     "iopub.status.busy": "2024-05-06T11:25:38.125341Z",
     "iopub.status.idle": "2024-05-06T11:27:01.494740Z",
     "shell.execute_reply": "2024-05-06T11:27:01.493799Z"
    },
    "papermill": {
     "duration": 83.418905,
     "end_time": "2024-05-06T11:27:01.520656",
     "exception": false,
     "start_time": "2024-05-06T11:25:38.101751",
     "status": "completed"
    },
    "tags": []
   },
   "outputs": [
    {
     "data": {
      "text/html": [
       "<div>\n",
       "<style scoped>\n",
       "    .dataframe tbody tr th:only-of-type {\n",
       "        vertical-align: middle;\n",
       "    }\n",
       "\n",
       "    .dataframe tbody tr th {\n",
       "        vertical-align: top;\n",
       "    }\n",
       "\n",
       "    .dataframe thead th {\n",
       "        text-align: right;\n",
       "    }\n",
       "</style>\n",
       "<table border=\"1\" class=\"dataframe\">\n",
       "  <thead>\n",
       "    <tr style=\"text-align: right;\">\n",
       "      <th></th>\n",
       "      <th>lastcancelreason_561M</th>\n",
       "      <th>pmts_dpd_1073P_range</th>\n",
       "      <th>pmts_dpd_303P_range</th>\n",
       "      <th>tenor_203L_sum</th>\n",
       "      <th>firstdatedue_489D_diff</th>\n",
       "      <th>inittransactioncode_186L</th>\n",
       "      <th>totinstallast1m_4525188A</th>\n",
       "      <th>avgoutstandbalancel6m_4187114A</th>\n",
       "      <th>maxpmtlast3m_4525190A</th>\n",
       "      <th>pmts_dpd_1073P_sum</th>\n",
       "      <th>...</th>\n",
       "      <th>days120_123L</th>\n",
       "      <th>numactivecredschannel_414L</th>\n",
       "      <th>maritalst_385M</th>\n",
       "      <th>mobilephncnt_593L</th>\n",
       "      <th>lastrejectcommoditycat_161M</th>\n",
       "      <th>maxdebt4_972A</th>\n",
       "      <th>numinstpaidearly3dest_4493216L</th>\n",
       "      <th>empl_employedfrom_271D_diff</th>\n",
       "      <th>numberofoverdueinstlmax_1151L_sum</th>\n",
       "      <th>numinstpaidearly5dobd_4499205L</th>\n",
       "    </tr>\n",
       "  </thead>\n",
       "  <tbody>\n",
       "    <tr>\n",
       "      <th>0</th>\n",
       "      <td>a55475b1</td>\n",
       "      <td>NaN</td>\n",
       "      <td>NaN</td>\n",
       "      <td>NaN</td>\n",
       "      <td>NaN</td>\n",
       "      <td>CASH</td>\n",
       "      <td>NaN</td>\n",
       "      <td>NaN</td>\n",
       "      <td>NaN</td>\n",
       "      <td>NaN</td>\n",
       "      <td>...</td>\n",
       "      <td>NaN</td>\n",
       "      <td>0.0</td>\n",
       "      <td>NaN</td>\n",
       "      <td>0.043478</td>\n",
       "      <td>a55475b1</td>\n",
       "      <td>0.0</td>\n",
       "      <td>NaN</td>\n",
       "      <td>0.023665</td>\n",
       "      <td>NaN</td>\n",
       "      <td>NaN</td>\n",
       "    </tr>\n",
       "    <tr>\n",
       "      <th>1</th>\n",
       "      <td>a55475b1</td>\n",
       "      <td>NaN</td>\n",
       "      <td>NaN</td>\n",
       "      <td>NaN</td>\n",
       "      <td>NaN</td>\n",
       "      <td>CASH</td>\n",
       "      <td>NaN</td>\n",
       "      <td>NaN</td>\n",
       "      <td>NaN</td>\n",
       "      <td>NaN</td>\n",
       "      <td>...</td>\n",
       "      <td>NaN</td>\n",
       "      <td>0.0</td>\n",
       "      <td>NaN</td>\n",
       "      <td>0.043478</td>\n",
       "      <td>a55475b1</td>\n",
       "      <td>0.0</td>\n",
       "      <td>NaN</td>\n",
       "      <td>0.180932</td>\n",
       "      <td>NaN</td>\n",
       "      <td>NaN</td>\n",
       "    </tr>\n",
       "    <tr>\n",
       "      <th>2</th>\n",
       "      <td>a55475b1</td>\n",
       "      <td>NaN</td>\n",
       "      <td>NaN</td>\n",
       "      <td>0.03</td>\n",
       "      <td>NaN</td>\n",
       "      <td>CASH</td>\n",
       "      <td>NaN</td>\n",
       "      <td>NaN</td>\n",
       "      <td>NaN</td>\n",
       "      <td>NaN</td>\n",
       "      <td>...</td>\n",
       "      <td>NaN</td>\n",
       "      <td>0.0</td>\n",
       "      <td>NaN</td>\n",
       "      <td>0.086957</td>\n",
       "      <td>a55475b1</td>\n",
       "      <td>0.0</td>\n",
       "      <td>NaN</td>\n",
       "      <td>0.157946</td>\n",
       "      <td>NaN</td>\n",
       "      <td>NaN</td>\n",
       "    </tr>\n",
       "    <tr>\n",
       "      <th>3</th>\n",
       "      <td>P94_109_143</td>\n",
       "      <td>NaN</td>\n",
       "      <td>NaN</td>\n",
       "      <td>0.01</td>\n",
       "      <td>NaN</td>\n",
       "      <td>CASH</td>\n",
       "      <td>NaN</td>\n",
       "      <td>NaN</td>\n",
       "      <td>NaN</td>\n",
       "      <td>NaN</td>\n",
       "      <td>...</td>\n",
       "      <td>NaN</td>\n",
       "      <td>0.0</td>\n",
       "      <td>NaN</td>\n",
       "      <td>0.043478</td>\n",
       "      <td>a55475b1</td>\n",
       "      <td>0.0</td>\n",
       "      <td>NaN</td>\n",
       "      <td>0.011930</td>\n",
       "      <td>NaN</td>\n",
       "      <td>NaN</td>\n",
       "    </tr>\n",
       "    <tr>\n",
       "      <th>4</th>\n",
       "      <td>P24_27_36</td>\n",
       "      <td>NaN</td>\n",
       "      <td>NaN</td>\n",
       "      <td>0.02</td>\n",
       "      <td>NaN</td>\n",
       "      <td>CASH</td>\n",
       "      <td>NaN</td>\n",
       "      <td>NaN</td>\n",
       "      <td>NaN</td>\n",
       "      <td>NaN</td>\n",
       "      <td>...</td>\n",
       "      <td>NaN</td>\n",
       "      <td>0.0</td>\n",
       "      <td>NaN</td>\n",
       "      <td>0.043478</td>\n",
       "      <td>a55475b1</td>\n",
       "      <td>0.0</td>\n",
       "      <td>NaN</td>\n",
       "      <td>0.072450</td>\n",
       "      <td>NaN</td>\n",
       "      <td>NaN</td>\n",
       "    </tr>\n",
       "  </tbody>\n",
       "</table>\n",
       "<p>5 rows × 236 columns</p>\n",
       "</div>"
      ],
      "text/plain": [
       "  lastcancelreason_561M  pmts_dpd_1073P_range  pmts_dpd_303P_range  \\\n",
       "0              a55475b1                   NaN                  NaN   \n",
       "1              a55475b1                   NaN                  NaN   \n",
       "2              a55475b1                   NaN                  NaN   \n",
       "3           P94_109_143                   NaN                  NaN   \n",
       "4             P24_27_36                   NaN                  NaN   \n",
       "\n",
       "   tenor_203L_sum  firstdatedue_489D_diff inittransactioncode_186L  \\\n",
       "0             NaN                     NaN                     CASH   \n",
       "1             NaN                     NaN                     CASH   \n",
       "2            0.03                     NaN                     CASH   \n",
       "3            0.01                     NaN                     CASH   \n",
       "4            0.02                     NaN                     CASH   \n",
       "\n",
       "   totinstallast1m_4525188A  avgoutstandbalancel6m_4187114A  \\\n",
       "0                       NaN                             NaN   \n",
       "1                       NaN                             NaN   \n",
       "2                       NaN                             NaN   \n",
       "3                       NaN                             NaN   \n",
       "4                       NaN                             NaN   \n",
       "\n",
       "   maxpmtlast3m_4525190A  pmts_dpd_1073P_sum  ...  days120_123L  \\\n",
       "0                    NaN                 NaN  ...           NaN   \n",
       "1                    NaN                 NaN  ...           NaN   \n",
       "2                    NaN                 NaN  ...           NaN   \n",
       "3                    NaN                 NaN  ...           NaN   \n",
       "4                    NaN                 NaN  ...           NaN   \n",
       "\n",
       "   numactivecredschannel_414L  maritalst_385M  mobilephncnt_593L  \\\n",
       "0                         0.0             NaN           0.043478   \n",
       "1                         0.0             NaN           0.043478   \n",
       "2                         0.0             NaN           0.086957   \n",
       "3                         0.0             NaN           0.043478   \n",
       "4                         0.0             NaN           0.043478   \n",
       "\n",
       "   lastrejectcommoditycat_161M  maxdebt4_972A  numinstpaidearly3dest_4493216L  \\\n",
       "0                     a55475b1            0.0                             NaN   \n",
       "1                     a55475b1            0.0                             NaN   \n",
       "2                     a55475b1            0.0                             NaN   \n",
       "3                     a55475b1            0.0                             NaN   \n",
       "4                     a55475b1            0.0                             NaN   \n",
       "\n",
       "   empl_employedfrom_271D_diff  numberofoverdueinstlmax_1151L_sum  \\\n",
       "0                     0.023665                                NaN   \n",
       "1                     0.180932                                NaN   \n",
       "2                     0.157946                                NaN   \n",
       "3                     0.011930                                NaN   \n",
       "4                     0.072450                                NaN   \n",
       "\n",
       "   numinstpaidearly5dobd_4499205L  \n",
       "0                             NaN  \n",
       "1                             NaN  \n",
       "2                             NaN  \n",
       "3                             NaN  \n",
       "4                             NaN  \n",
       "\n",
       "[5 rows x 236 columns]"
      ]
     },
     "execution_count": 46,
     "metadata": {},
     "output_type": "execute_result"
    }
   ],
   "source": [
    "# нормализация числовых переменных\n",
    "\n",
    "warnings.filterwarnings(\"ignore\")\n",
    "scaler = MinMaxScaler(copy=False)\n",
    "X[numeric_cols] = scaler.fit_transform(X[numeric_cols])\n",
    "test[numeric_cols] = scaler.transform(test[numeric_cols])\n",
    "warnings.filterwarnings(\"default\")\n",
    "\n",
    "X.head()"
   ]
  },
  {
   "cell_type": "markdown",
   "id": "a66da77c",
   "metadata": {
    "papermill": {
     "duration": 0.022935,
     "end_time": "2024-05-06T11:27:01.566783",
     "exception": false,
     "start_time": "2024-05-06T11:27:01.543848",
     "status": "completed"
    },
    "tags": []
   },
   "source": [
    "# Models"
   ]
  },
  {
   "cell_type": "code",
   "execution_count": 47,
   "id": "f1662dd9",
   "metadata": {
    "execution": {
     "iopub.execute_input": "2024-05-06T11:27:01.615763Z",
     "iopub.status.busy": "2024-05-06T11:27:01.615101Z",
     "iopub.status.idle": "2024-05-06T11:27:04.393781Z",
     "shell.execute_reply": "2024-05-06T11:27:04.392596Z"
    },
    "papermill": {
     "duration": 2.805659,
     "end_time": "2024-05-06T11:27:04.395815",
     "exception": false,
     "start_time": "2024-05-06T11:27:01.590156",
     "status": "completed"
    },
    "tags": []
   },
   "outputs": [
    {
     "name": "stdout",
     "output_type": "stream",
     "text": [
      "(1526659, 234)\n"
     ]
    }
   ],
   "source": [
    "weeks = X[\"WEEK_NUM\"]\n",
    "\n",
    "X_feats = X.drop(['case_id', 'WEEK_NUM'], axis=1)\n",
    "\n",
    "# сортировка столбцов в алфавитном порядке\n",
    "X_feats = X_feats.reindex(sorted(X_feats.columns), axis=1)\n",
    "\n",
    "print(X_feats.shape)"
   ]
  },
  {
   "cell_type": "code",
   "execution_count": 48,
   "id": "cdc12960",
   "metadata": {
    "execution": {
     "iopub.execute_input": "2024-05-06T11:27:04.444850Z",
     "iopub.status.busy": "2024-05-06T11:27:04.444482Z",
     "iopub.status.idle": "2024-05-06T11:27:04.559147Z",
     "shell.execute_reply": "2024-05-06T11:27:04.558264Z"
    },
    "papermill": {
     "duration": 0.140982,
     "end_time": "2024-05-06T11:27:04.561015",
     "exception": false,
     "start_time": "2024-05-06T11:27:04.420033",
     "status": "completed"
    },
    "tags": []
   },
   "outputs": [
    {
     "data": {
      "text/plain": [
       "0"
      ]
     },
     "execution_count": 48,
     "metadata": {},
     "output_type": "execute_result"
    }
   ],
   "source": [
    "del X\n",
    "gc.collect()"
   ]
  },
  {
   "cell_type": "code",
   "execution_count": 49,
   "id": "3ce15f75",
   "metadata": {
    "execution": {
     "iopub.execute_input": "2024-05-06T11:27:04.609556Z",
     "iopub.status.busy": "2024-05-06T11:27:04.609257Z",
     "iopub.status.idle": "2024-05-06T11:27:04.615793Z",
     "shell.execute_reply": "2024-05-06T11:27:04.614798Z"
    },
    "papermill": {
     "duration": 0.032668,
     "end_time": "2024-05-06T11:27:04.617686",
     "exception": false,
     "start_time": "2024-05-06T11:27:04.585018",
     "status": "completed"
    },
    "tags": []
   },
   "outputs": [
    {
     "name": "stdout",
     "output_type": "stream",
     "text": [
      "['lastcancelreason_561M', 'inittransactioncode_186L', 'typesuite_864L', 'description_5085714M', 'lastrejectreasonclient_4145040M', 'conts_role_79M', 'education_1103M', 'lastrejectreason_759M', 'twobodfilling_608L', 'inittransactioncode_279L', 'empls_economicalst_849M', 'education_88M', 'bankacctype_710L', 'isdebitcard_729L', 'disbursementtype_67L', 'credtype_587L', 'paytype1st_925L', 'sex_738L', 'lastst_736L', 'incometype_1044T', 'status_219L', 'empls_employer_name_740M', 'safeguarantyflag_411L', 'conts_type_509L', 'lastapprcommoditycat_1041M', 'paytype_783L', 'role_1084L', 'maritalst_893M', 'credtype_322L', 'isbidproduct_390L', 'familystate_447L', 'familystate_726L', 'type_25L', 'maritalst_385M', 'lastrejectcommoditycat_161M']\n"
     ]
    }
   ],
   "source": [
    "cat_cols = test.select_dtypes(include = ['category', 'object']).columns.tolist()\n",
    "print(cat_cols)"
   ]
  },
  {
   "cell_type": "code",
   "execution_count": 50,
   "id": "aba0ccd0",
   "metadata": {
    "execution": {
     "iopub.execute_input": "2024-05-06T11:27:04.666439Z",
     "iopub.status.busy": "2024-05-06T11:27:04.666163Z",
     "iopub.status.idle": "2024-05-06T11:27:09.047207Z",
     "shell.execute_reply": "2024-05-06T11:27:09.046139Z"
    },
    "papermill": {
     "duration": 4.408778,
     "end_time": "2024-05-06T11:27:09.050043",
     "exception": false,
     "start_time": "2024-05-06T11:27:04.641265",
     "status": "completed"
    },
    "tags": []
   },
   "outputs": [],
   "source": [
    "X_feats[cat_cols] = X_feats[cat_cols].astype(str)\n",
    "test[cat_cols] = test[cat_cols].astype(str)"
   ]
  },
  {
   "cell_type": "code",
   "execution_count": 51,
   "id": "749bf755",
   "metadata": {
    "execution": {
     "iopub.execute_input": "2024-05-06T11:27:09.152336Z",
     "iopub.status.busy": "2024-05-06T11:27:09.152013Z",
     "iopub.status.idle": "2024-05-06T11:27:09.158450Z",
     "shell.execute_reply": "2024-05-06T11:27:09.157581Z"
    },
    "papermill": {
     "duration": 0.033504,
     "end_time": "2024-05-06T11:27:09.160739",
     "exception": false,
     "start_time": "2024-05-06T11:27:09.127235",
     "status": "completed"
    },
    "tags": []
   },
   "outputs": [],
   "source": [
    "#создать процесс перекрестной проверки с использованием 'StratifiedGroupKFold'\n",
    "#определяем параметры для модели LGBM\n",
    "\n",
    "cv = StratifiedGroupKFold(n_splits=5, shuffle=False)\n",
    "\n",
    "# хранит тренированные модели, полученные при отверждении перекрестной проверки\n",
    "fitted_models_cat = []\n",
    "fitted_models_lgb = []\n",
    "\n",
    "# хранить результаты перекрестной проверки\n",
    "cv_scores_cat = []\n",
    "cv_scores_lgb = []\n",
    "\n",
    "#Запуск GPU\n",
    "\n",
    "grid_params = {\n",
    "    \"boosting_type\": \"gbdt\",\n",
    "    \"objective\": \"binary\",\n",
    "    \"metric\": \"auc\",\n",
    "    \"max_depth\": 10,\n",
    "    \"learning_rate\": 0.06,\n",
    "    \"n_estimators\": 2500,\n",
    "    \"colsample_bytree\": 0.8,\n",
    "    \"colslample_bynode\": 0.8,\n",
    "    \"random_state\": 42,\n",
    "    \"reg_alpha\": 10,\n",
    "    \"extra_trees\": True,\n",
    "    \"num_leaves\": 64,\n",
    "    \"verbose\": -1,\n",
    "    'device' : 'gpu',\n",
    "    \n",
    "}\n",
    "\n"
   ]
  },
  {
   "cell_type": "code",
   "execution_count": 52,
   "id": "bfb04bb5",
   "metadata": {
    "execution": {
     "iopub.execute_input": "2024-05-06T11:27:09.214398Z",
     "iopub.status.busy": "2024-05-06T11:27:09.213792Z",
     "iopub.status.idle": "2024-05-06T13:42:58.492847Z",
     "shell.execute_reply": "2024-05-06T13:42:58.491890Z"
    },
    "papermill": {
     "duration": 8149.341666,
     "end_time": "2024-05-06T13:42:58.531030",
     "exception": false,
     "start_time": "2024-05-06T11:27:09.189364",
     "status": "completed"
    },
    "tags": []
   },
   "outputs": [
    {
     "name": "stderr",
     "output_type": "stream",
     "text": [
      "Default metric period is 5 because AUC is/are not implemented for GPU\n"
     ]
    },
    {
     "name": "stdout",
     "output_type": "stream",
     "text": [
      "0:\ttest: 0.6453595\tbest: 0.6453595 (0)\ttotal: 14.4s\tremaining: 19h 59m 29s\n",
      "300:\ttest: 0.8259066\tbest: 0.8259066 (300)\ttotal: 1m 25s\tremaining: 22m 10s\n",
      "600:\ttest: 0.8298461\tbest: 0.8298461 (600)\ttotal: 2m 34s\tremaining: 18m 50s\n",
      "900:\ttest: 0.8319193\tbest: 0.8319193 (900)\ttotal: 3m 43s\tremaining: 16m 58s\n",
      "1200:\ttest: 0.8334970\tbest: 0.8334970 (1200)\ttotal: 4m 53s\tremaining: 15m 27s\n",
      "1500:\ttest: 0.8345313\tbest: 0.8345313 (1500)\ttotal: 6m 2s\tremaining: 14m 4s\n",
      "1800:\ttest: 0.8354020\tbest: 0.8354020 (1800)\ttotal: 7m 11s\tremaining: 12m 46s\n",
      "2100:\ttest: 0.8361998\tbest: 0.8361998 (2100)\ttotal: 8m 20s\tremaining: 11m 30s\n",
      "2400:\ttest: 0.8367179\tbest: 0.8367179 (2400)\ttotal: 9m 29s\tremaining: 10m 16s\n",
      "2700:\ttest: 0.8371845\tbest: 0.8371845 (2700)\ttotal: 10m 38s\tremaining: 9m 3s\n",
      "3000:\ttest: 0.8375835\tbest: 0.8375866 (2995)\ttotal: 11m 48s\tremaining: 7m 51s\n",
      "3300:\ttest: 0.8380429\tbest: 0.8380429 (3300)\ttotal: 12m 57s\tremaining: 6m 40s\n",
      "3600:\ttest: 0.8383806\tbest: 0.8383806 (3600)\ttotal: 14m 7s\tremaining: 5m 29s\n",
      "3900:\ttest: 0.8386660\tbest: 0.8386660 (3900)\ttotal: 15m 16s\tremaining: 4m 18s\n",
      "4200:\ttest: 0.8389406\tbest: 0.8389420 (4190)\ttotal: 16m 26s\tremaining: 3m 7s\n",
      "4500:\ttest: 0.8392070\tbest: 0.8392070 (4500)\ttotal: 17m 35s\tremaining: 1m 57s\n",
      "4800:\ttest: 0.8394002\tbest: 0.8394002 (4800)\ttotal: 18m 45s\tremaining: 46.6s\n",
      "4999:\ttest: 0.8395347\tbest: 0.8395347 (4999)\ttotal: 19m 31s\tremaining: 0us\n",
      "bestTest = 0.8395347297\n",
      "bestIteration = 4999\n"
     ]
    },
    {
     "name": "stderr",
     "output_type": "stream",
     "text": [
      "1 warning generated.\n",
      "1 warning generated.\n",
      "1 warning generated.\n",
      "1 warning generated.\n",
      "1 warning generated.\n",
      "1 warning generated.\n",
      "1 warning generated.\n",
      "1 warning generated.\n",
      "1 warning generated.\n",
      "1 warning generated.\n",
      "1 warning generated.\n",
      "1 warning generated.\n",
      "1 warning generated.\n",
      "1 warning generated.\n",
      "1 warning generated.\n",
      "1 warning generated.\n",
      "1 warning generated.\n",
      "1 warning generated.\n",
      "1 warning generated.\n",
      "1 warning generated.\n",
      "1 warning generated.\n",
      "1 warning generated.\n",
      "1 warning generated.\n",
      "1 warning generated.\n",
      "1 warning generated.\n",
      "1 warning generated.\n",
      "1 warning generated.\n",
      "1 warning generated.\n",
      "1 warning generated.\n",
      "1 warning generated.\n",
      "1 warning generated.\n",
      "1 warning generated.\n",
      "1 warning generated.\n"
     ]
    },
    {
     "name": "stdout",
     "output_type": "stream",
     "text": [
      "Training until validation scores don't improve for 200 rounds\n",
      "[200]\tvalid_0's auc: 0.83583\n",
      "[400]\tvalid_0's auc: 0.840432\n",
      "[600]\tvalid_0's auc: 0.842291\n",
      "[800]\tvalid_0's auc: 0.842907\n",
      "[1000]\tvalid_0's auc: 0.843283\n",
      "[1200]\tvalid_0's auc: 0.843529\n",
      "[1400]\tvalid_0's auc: 0.843645\n",
      "[1600]\tvalid_0's auc: 0.84365\n",
      "Early stopping, best iteration is:\n",
      "[1544]\tvalid_0's auc: 0.843727\n"
     ]
    },
    {
     "name": "stderr",
     "output_type": "stream",
     "text": [
      "Default metric period is 5 because AUC is/are not implemented for GPU\n"
     ]
    },
    {
     "name": "stdout",
     "output_type": "stream",
     "text": [
      "0:\ttest: 0.6492930\tbest: 0.6492930 (0)\ttotal: 254ms\tremaining: 21m 9s\n",
      "300:\ttest: 0.8233672\tbest: 0.8233672 (300)\ttotal: 1m 11s\tremaining: 18m 39s\n",
      "600:\ttest: 0.8273287\tbest: 0.8273287 (600)\ttotal: 2m 21s\tremaining: 17m 16s\n",
      "900:\ttest: 0.8296226\tbest: 0.8296226 (900)\ttotal: 3m 31s\tremaining: 16m 2s\n",
      "1200:\ttest: 0.8311631\tbest: 0.8311631 (1200)\ttotal: 4m 41s\tremaining: 14m 49s\n",
      "1500:\ttest: 0.8322833\tbest: 0.8322833 (1500)\ttotal: 5m 51s\tremaining: 13m 38s\n",
      "1800:\ttest: 0.8332760\tbest: 0.8332760 (1800)\ttotal: 7m\tremaining: 12m 27s\n",
      "2100:\ttest: 0.8340675\tbest: 0.8340675 (2100)\ttotal: 8m 10s\tremaining: 11m 16s\n",
      "2400:\ttest: 0.8347603\tbest: 0.8347603 (2400)\ttotal: 9m 20s\tremaining: 10m 6s\n",
      "2700:\ttest: 0.8352375\tbest: 0.8352375 (2700)\ttotal: 10m 30s\tremaining: 8m 56s\n",
      "3000:\ttest: 0.8357244\tbest: 0.8357244 (3000)\ttotal: 11m 40s\tremaining: 7m 46s\n",
      "3300:\ttest: 0.8361148\tbest: 0.8361148 (3300)\ttotal: 12m 50s\tremaining: 6m 36s\n",
      "3600:\ttest: 0.8365087\tbest: 0.8365087 (3600)\ttotal: 14m\tremaining: 5m 26s\n",
      "3900:\ttest: 0.8368776\tbest: 0.8368776 (3900)\ttotal: 15m 10s\tremaining: 4m 16s\n",
      "4200:\ttest: 0.8371782\tbest: 0.8371782 (4190)\ttotal: 16m 20s\tremaining: 3m 6s\n",
      "4500:\ttest: 0.8373793\tbest: 0.8374038 (4475)\ttotal: 17m 30s\tremaining: 1m 56s\n",
      "4800:\ttest: 0.8376262\tbest: 0.8376270 (4790)\ttotal: 18m 40s\tremaining: 46.5s\n",
      "4999:\ttest: 0.8376735\tbest: 0.8376766 (4995)\ttotal: 19m 27s\tremaining: 0us\n",
      "bestTest = 0.8376766443\n",
      "bestIteration = 4995\n",
      "Shrink model to first 4996 iterations.\n",
      "Training until validation scores don't improve for 200 rounds\n",
      "[200]\tvalid_0's auc: 0.833567\n",
      "[400]\tvalid_0's auc: 0.838517\n",
      "[600]\tvalid_0's auc: 0.840833\n",
      "[800]\tvalid_0's auc: 0.841697\n",
      "[1000]\tvalid_0's auc: 0.842205\n",
      "[1200]\tvalid_0's auc: 0.842681\n",
      "[1400]\tvalid_0's auc: 0.842789\n",
      "[1600]\tvalid_0's auc: 0.842875\n",
      "Early stopping, best iteration is:\n",
      "[1589]\tvalid_0's auc: 0.842898\n"
     ]
    },
    {
     "name": "stderr",
     "output_type": "stream",
     "text": [
      "Default metric period is 5 because AUC is/are not implemented for GPU\n"
     ]
    },
    {
     "name": "stdout",
     "output_type": "stream",
     "text": [
      "0:\ttest: 0.6526912\tbest: 0.6526912 (0)\ttotal: 250ms\tremaining: 20m 48s\n",
      "300:\ttest: 0.8296435\tbest: 0.8296435 (300)\ttotal: 1m 11s\tremaining: 18m 37s\n",
      "600:\ttest: 0.8338375\tbest: 0.8338375 (600)\ttotal: 2m 21s\tremaining: 17m 16s\n",
      "900:\ttest: 0.8361115\tbest: 0.8361115 (900)\ttotal: 3m 31s\tremaining: 16m\n",
      "1200:\ttest: 0.8376589\tbest: 0.8376589 (1200)\ttotal: 4m 40s\tremaining: 14m 47s\n",
      "1500:\ttest: 0.8388213\tbest: 0.8388213 (1500)\ttotal: 5m 50s\tremaining: 13m 36s\n",
      "1800:\ttest: 0.8396811\tbest: 0.8396811 (1800)\ttotal: 7m\tremaining: 12m 26s\n",
      "2100:\ttest: 0.8404132\tbest: 0.8404132 (2100)\ttotal: 8m 9s\tremaining: 11m 15s\n",
      "2400:\ttest: 0.8410635\tbest: 0.8410635 (2400)\ttotal: 9m 19s\tremaining: 10m 5s\n",
      "2700:\ttest: 0.8415604\tbest: 0.8415604 (2700)\ttotal: 10m 28s\tremaining: 8m 54s\n",
      "3000:\ttest: 0.8419242\tbest: 0.8419242 (3000)\ttotal: 11m 37s\tremaining: 7m 44s\n",
      "3300:\ttest: 0.8423662\tbest: 0.8423684 (3295)\ttotal: 12m 47s\tremaining: 6m 35s\n",
      "3600:\ttest: 0.8428165\tbest: 0.8428169 (3595)\ttotal: 13m 57s\tremaining: 5m 25s\n",
      "3900:\ttest: 0.8431229\tbest: 0.8431229 (3900)\ttotal: 15m 7s\tremaining: 4m 15s\n",
      "4200:\ttest: 0.8433860\tbest: 0.8433860 (4200)\ttotal: 16m 17s\tremaining: 3m 5s\n",
      "4500:\ttest: 0.8436368\tbest: 0.8436418 (4475)\ttotal: 17m 27s\tremaining: 1m 56s\n",
      "4800:\ttest: 0.8438298\tbest: 0.8438298 (4800)\ttotal: 18m 37s\tremaining: 46.3s\n",
      "4999:\ttest: 0.8440198\tbest: 0.8440198 (4999)\ttotal: 19m 23s\tremaining: 0us\n",
      "bestTest = 0.8440198302\n",
      "bestIteration = 4999\n",
      "Training until validation scores don't improve for 200 rounds\n",
      "[200]\tvalid_0's auc: 0.839877\n",
      "[400]\tvalid_0's auc: 0.844328\n",
      "[600]\tvalid_0's auc: 0.845899\n",
      "[800]\tvalid_0's auc: 0.846633\n",
      "[1000]\tvalid_0's auc: 0.847084\n",
      "[1200]\tvalid_0's auc: 0.847278\n",
      "[1400]\tvalid_0's auc: 0.84748\n",
      "Early stopping, best iteration is:\n",
      "[1381]\tvalid_0's auc: 0.847484\n"
     ]
    },
    {
     "name": "stderr",
     "output_type": "stream",
     "text": [
      "Default metric period is 5 because AUC is/are not implemented for GPU\n"
     ]
    },
    {
     "name": "stdout",
     "output_type": "stream",
     "text": [
      "0:\ttest: 0.6487910\tbest: 0.6487910 (0)\ttotal: 254ms\tremaining: 21m 9s\n",
      "300:\ttest: 0.8282298\tbest: 0.8282298 (300)\ttotal: 1m 11s\tremaining: 18m 36s\n",
      "600:\ttest: 0.8326865\tbest: 0.8326865 (600)\ttotal: 2m 21s\tremaining: 17m 14s\n",
      "900:\ttest: 0.8348468\tbest: 0.8348468 (900)\ttotal: 3m 31s\tremaining: 16m 1s\n",
      "1200:\ttest: 0.8363472\tbest: 0.8363472 (1200)\ttotal: 4m 41s\tremaining: 14m 49s\n",
      "1500:\ttest: 0.8374953\tbest: 0.8374953 (1500)\ttotal: 5m 50s\tremaining: 13m 37s\n",
      "1800:\ttest: 0.8384475\tbest: 0.8384475 (1800)\ttotal: 7m\tremaining: 12m 26s\n",
      "2100:\ttest: 0.8391283\tbest: 0.8391283 (2100)\ttotal: 8m 10s\tremaining: 11m 16s\n",
      "2400:\ttest: 0.8398305\tbest: 0.8398305 (2400)\ttotal: 9m 20s\tremaining: 10m 6s\n",
      "2700:\ttest: 0.8403282\tbest: 0.8403282 (2700)\ttotal: 10m 29s\tremaining: 8m 56s\n",
      "3000:\ttest: 0.8407658\tbest: 0.8407658 (3000)\ttotal: 11m 39s\tremaining: 7m 46s\n",
      "3300:\ttest: 0.8411432\tbest: 0.8411432 (3300)\ttotal: 12m 49s\tremaining: 6m 36s\n",
      "3600:\ttest: 0.8415869\tbest: 0.8415942 (3595)\ttotal: 13m 59s\tremaining: 5m 26s\n",
      "3900:\ttest: 0.8419583\tbest: 0.8419583 (3900)\ttotal: 15m 9s\tremaining: 4m 16s\n",
      "4200:\ttest: 0.8422311\tbest: 0.8422311 (4200)\ttotal: 16m 19s\tremaining: 3m 6s\n",
      "4500:\ttest: 0.8424971\tbest: 0.8424981 (4495)\ttotal: 17m 30s\tremaining: 1m 56s\n",
      "4800:\ttest: 0.8427159\tbest: 0.8427159 (4800)\ttotal: 18m 40s\tremaining: 46.4s\n",
      "4999:\ttest: 0.8428710\tbest: 0.8428729 (4995)\ttotal: 19m 26s\tremaining: 0us\n",
      "bestTest = 0.8428728878\n",
      "bestIteration = 4995\n",
      "Shrink model to first 4996 iterations.\n",
      "Training until validation scores don't improve for 200 rounds\n",
      "[200]\tvalid_0's auc: 0.83983\n",
      "[400]\tvalid_0's auc: 0.844345\n",
      "[600]\tvalid_0's auc: 0.845927\n",
      "[800]\tvalid_0's auc: 0.846662\n",
      "[1000]\tvalid_0's auc: 0.847051\n",
      "[1200]\tvalid_0's auc: 0.847104\n",
      "Early stopping, best iteration is:\n",
      "[1183]\tvalid_0's auc: 0.847146\n"
     ]
    },
    {
     "name": "stderr",
     "output_type": "stream",
     "text": [
      "Default metric period is 5 because AUC is/are not implemented for GPU\n"
     ]
    },
    {
     "name": "stdout",
     "output_type": "stream",
     "text": [
      "0:\ttest: 0.6449597\tbest: 0.6449597 (0)\ttotal: 254ms\tremaining: 21m 7s\n",
      "300:\ttest: 0.8233737\tbest: 0.8233737 (300)\ttotal: 1m 11s\tremaining: 18m 43s\n",
      "600:\ttest: 0.8281162\tbest: 0.8281162 (600)\ttotal: 2m 21s\tremaining: 17m 19s\n",
      "900:\ttest: 0.8306918\tbest: 0.8306918 (900)\ttotal: 3m 31s\tremaining: 16m 3s\n",
      "1200:\ttest: 0.8320749\tbest: 0.8320749 (1200)\ttotal: 4m 41s\tremaining: 14m 49s\n",
      "1500:\ttest: 0.8331981\tbest: 0.8331981 (1500)\ttotal: 5m 50s\tremaining: 13m 38s\n",
      "1800:\ttest: 0.8341777\tbest: 0.8341777 (1800)\ttotal: 7m\tremaining: 12m 27s\n",
      "2100:\ttest: 0.8348886\tbest: 0.8348886 (2100)\ttotal: 8m 10s\tremaining: 11m 16s\n",
      "2400:\ttest: 0.8355238\tbest: 0.8355238 (2400)\ttotal: 9m 20s\tremaining: 10m 6s\n",
      "2700:\ttest: 0.8360633\tbest: 0.8360633 (2700)\ttotal: 10m 29s\tremaining: 8m 56s\n",
      "3000:\ttest: 0.8365091\tbest: 0.8365091 (3000)\ttotal: 11m 39s\tremaining: 7m 46s\n",
      "3300:\ttest: 0.8368856\tbest: 0.8368856 (3300)\ttotal: 12m 49s\tremaining: 6m 36s\n",
      "3600:\ttest: 0.8372301\tbest: 0.8372301 (3600)\ttotal: 13m 59s\tremaining: 5m 26s\n",
      "3900:\ttest: 0.8376569\tbest: 0.8376569 (3900)\ttotal: 15m 9s\tremaining: 4m 16s\n",
      "4200:\ttest: 0.8378686\tbest: 0.8378692 (4195)\ttotal: 16m 19s\tremaining: 3m 6s\n",
      "4500:\ttest: 0.8380855\tbest: 0.8380877 (4495)\ttotal: 17m 29s\tremaining: 1m 56s\n",
      "4800:\ttest: 0.8383912\tbest: 0.8383912 (4800)\ttotal: 18m 40s\tremaining: 46.4s\n",
      "4999:\ttest: 0.8385391\tbest: 0.8385391 (4999)\ttotal: 19m 26s\tremaining: 0us\n",
      "bestTest = 0.8385390639\n",
      "bestIteration = 4999\n",
      "Training until validation scores don't improve for 200 rounds\n",
      "[200]\tvalid_0's auc: 0.834745\n",
      "[400]\tvalid_0's auc: 0.839393\n",
      "[600]\tvalid_0's auc: 0.841173\n",
      "[800]\tvalid_0's auc: 0.841855\n",
      "[1000]\tvalid_0's auc: 0.842276\n",
      "[1200]\tvalid_0's auc: 0.842427\n",
      "[1400]\tvalid_0's auc: 0.842495\n",
      "[1600]\tvalid_0's auc: 0.842534\n",
      "Early stopping, best iteration is:\n",
      "[1472]\tvalid_0's auc: 0.842592\n",
      "CV CAT AUC scores:  [0.8395347282741995, 0.8376766058644702, 0.8440198944047639, 0.842872922939757, 0.8385391005850305]\n",
      "Maximum CV CAT AUC score:  0.8440198944047639\n",
      "CV LGB AUC scores:  [0.8437268970683822, 0.8428976780116983, 0.8474842186625136, 0.8471455452902987, 0.8425915327519169]\n",
      "Maximum CV LGB AUC score:  0.8474842186625136\n",
      "CPU times: user 2h 57min 57s, sys: 1min 58s, total: 2h 59min 56s\n",
      "Wall time: 2h 15min 49s\n"
     ]
    }
   ],
   "source": [
    "%%time\n",
    "warnings.filterwarnings(\"ignore\")\n",
    "\n",
    "\n",
    "#Выполняет cross_validation обучение двух различных моделей, CatBoost и LightGBM\n",
    "#В каждом случае данные разбиваются на наборы обучения и проверки\n",
    "#подходит для обеих моделей данных обучения, а затем вычисляет балл AUC на наборе проверки и добавляет обе модели и балл AUC к соответствующему списку\n",
    "\n",
    "for idx_train, idx_valid in cv.split(X_feats, y, groups=weeks):\n",
    "    #split training in ever fold by setting the split indexes\n",
    "    X_train, y_train = X_feats.iloc[idx_train], y.iloc[idx_train]\n",
    "    X_valid, y_valid = X_feats.iloc[idx_valid], y.iloc[idx_valid]\n",
    "    #CatBoost\n",
    "    train_pool = Pool(X_train, y_train, cat_features=cat_cols)\n",
    "    val_pool = Pool(X_valid, y_valid, cat_features=cat_cols)\n",
    "    \n",
    "    clf = CatBoostClassifier(\n",
    "    eval_metric='AUC', task_type = 'GPU',\n",
    "    learning_rate=0.05, iterations=5000,\n",
    "    random_seed=3107)\n",
    "    clf.fit(train_pool, eval_set=val_pool, verbose=300)\n",
    "    #добавляем модель и auc_score в соответствующий список\n",
    "    fitted_models_cat.append(clf)\n",
    "    y_pred_valid = clf.predict_proba(X_valid)[:,1]\n",
    "    auc_score = roc_auc_score(y_valid, y_pred_valid)\n",
    "    cv_scores_cat.append(auc_score)\n",
    "    \n",
    "    X_train[cat_cols] = X_train[cat_cols].astype(\"category\")\n",
    "    X_valid[cat_cols] = X_valid[cat_cols].astype(\"category\")\n",
    "    \n",
    "    model = lgb.LGBMClassifier(**grid_params)\n",
    "    model.fit(\n",
    "        X_train, y_train,\n",
    "        eval_set = [(X_valid, y_valid)],\n",
    "        callbacks = [lgb.log_evaluation(200), lgb.early_stopping(200)])\n",
    "    fitted_models_lgb.append(model)\n",
    "    y_pred_valid = model.predict_proba(X_valid)[:,1]\n",
    "    auc_score = roc_auc_score(y_valid, y_pred_valid)\n",
    "    cv_scores_lgb.append(auc_score)\n",
    "    \n",
    "    \n",
    "    del clf, model\n",
    "    gc.collect()\n",
    "    \n",
    "print(\"CV CAT AUC scores: \", cv_scores_cat)\n",
    "print(\"Maximum CV CAT AUC score: \", max(cv_scores_cat))\n",
    "\n",
    "print(\"CV LGB AUC scores: \", cv_scores_lgb)\n",
    "print(\"Maximum CV LGB AUC score: \", max(cv_scores_lgb))\n",
    "\n",
    "warnings.filterwarnings(\"default\")"
   ]
  },
  {
   "cell_type": "code",
   "execution_count": 53,
   "id": "b1ea35c1",
   "metadata": {
    "execution": {
     "iopub.execute_input": "2024-05-06T13:42:58.603458Z",
     "iopub.status.busy": "2024-05-06T13:42:58.603190Z",
     "iopub.status.idle": "2024-05-06T13:42:58.612460Z",
     "shell.execute_reply": "2024-05-06T13:42:58.611685Z"
    },
    "papermill": {
     "duration": 0.047814,
     "end_time": "2024-05-06T13:42:58.614337",
     "exception": false,
     "start_time": "2024-05-06T13:42:58.566523",
     "status": "completed"
    },
    "tags": []
   },
   "outputs": [],
   "source": [
    "class VotingModel(BaseEstimator, RegressorMixin):\n",
    "    '''который объединяет предсказания из нескольких моделей'''\n",
    "    def __init__(self, estimators):\n",
    "        super().__init__()\n",
    "        self.estimators = estimators\n",
    "    \n",
    "    def fit(self, X, y=None):\n",
    "        return self\n",
    "    \n",
    "    def predict(self, X):\n",
    "        y_preds = [estimator.predict(X) for estimator in self.estimators[:5]]\n",
    "        X[cat_cols] = X[cat_cols].astype(\"category\")\n",
    "        y_preds += [estimator.predict(X) for estimator in self.estimators[5:10]]\n",
    "        \n",
    "        return np.mean(y_preds, axis=0)\n",
    "    \n",
    "    def predict_proba(self, X):\n",
    "        #CatBoost\n",
    "        y_preds = [estimator.predict_proba(X) for estimator in self.estimators[:5]]\n",
    "        X[cat_cols] = X[cat_cols].astype(\"category\")\n",
    "        #LGBM\n",
    "        y_preds += [estimator.predict_proba(X) for estimator in self.estimators[5:10]]\n",
    "        \n",
    "        return np.mean(y_preds, axis=0)\n",
    "    \n",
    "model = VotingModel(fitted_models_cat + fitted_models_lgb)\n",
    "model_lgb = fitted_models_lgb[np.argmax(cv_scores_lgb)]\n",
    "model_cat = fitted_models_cat[np.argmax(cv_scores_cat)]"
   ]
  },
  {
   "cell_type": "code",
   "execution_count": 54,
   "id": "53cb7d83",
   "metadata": {
    "execution": {
     "iopub.execute_input": "2024-05-06T13:42:58.686807Z",
     "iopub.status.busy": "2024-05-06T13:42:58.686555Z",
     "iopub.status.idle": "2024-05-06T13:42:58.784708Z",
     "shell.execute_reply": "2024-05-06T13:42:58.783819Z"
    },
    "papermill": {
     "duration": 0.136397,
     "end_time": "2024-05-06T13:42:58.786572",
     "exception": false,
     "start_time": "2024-05-06T13:42:58.650175",
     "status": "completed"
    },
    "tags": []
   },
   "outputs": [
    {
     "data": {
      "text/plain": [
       "0"
      ]
     },
     "execution_count": 54,
     "metadata": {},
     "output_type": "execute_result"
    }
   ],
   "source": [
    "del fitted_models_cat, fitted_models_lgb\n",
    "gc.collect()"
   ]
  },
  {
   "cell_type": "code",
   "execution_count": 55,
   "id": "6186f5db",
   "metadata": {
    "execution": {
     "iopub.execute_input": "2024-05-06T13:42:58.861431Z",
     "iopub.status.busy": "2024-05-06T13:42:58.860595Z",
     "iopub.status.idle": "2024-05-06T14:06:49.966291Z",
     "shell.execute_reply": "2024-05-06T14:06:49.965254Z"
    },
    "papermill": {
     "duration": 1431.186592,
     "end_time": "2024-05-06T14:06:50.010154",
     "exception": false,
     "start_time": "2024-05-06T13:42:58.823562",
     "status": "completed"
    },
    "tags": []
   },
   "outputs": [
    {
     "data": {
      "image/png": "[encoded data removed]",
      "text/plain": [
       "<Figure size 640x480 with 2 Axes>"
      ]
     },
     "metadata": {},
     "output_type": "display_data"
    }
   ],
   "source": [
    "warnings.filterwarnings(\"ignore\")\n",
    "y_pred = model.predict(X_feats)\n",
    "y_pred1 = [1 if num > 0.50 else 0 for num in y_pred]\n",
    "\n",
    "target_names= ['No Default', 'Default']\n",
    "matrix = confusion_matrix(y, y_pred1, normalize='true')\n",
    "cm_display = ConfusionMatrixDisplay(confusion_matrix= matrix, display_labels=target_names).plot()"
   ]
  },
  {
   "cell_type": "code",
   "execution_count": 56,
   "id": "970e5159",
   "metadata": {
    "execution": {
     "iopub.execute_input": "2024-05-06T14:06:50.177908Z",
     "iopub.status.busy": "2024-05-06T14:06:50.177073Z",
     "iopub.status.idle": "2024-05-06T14:29:53.800838Z",
     "shell.execute_reply": "2024-05-06T14:29:53.799996Z"
    },
    "papermill": {
     "duration": 1383.665692,
     "end_time": "2024-05-06T14:29:53.803285",
     "exception": false,
     "start_time": "2024-05-06T14:06:50.137593",
     "status": "completed"
    },
    "tags": []
   },
   "outputs": [],
   "source": [
    "warnings.filterwarnings(\"ignore\")\n",
    "y_pred = model.predict(X_feats)\n",
    "y_pred1 = [1 if num > 0.50 else 0 for num in y_pred]\n",
    "\n",
    "target_names = ['No Default', 'Default']\n",
    "matrix = confusion_matrix(y, y_pred1, normalize='true')\n",
    "cm_display = ConfusionMatrixDisplay(confusion_matrix = matrix, display_labels = target_names).plot"
   ]
  },
  {
   "cell_type": "code",
   "execution_count": 57,
   "id": "9cd3647c",
   "metadata": {
    "execution": {
     "iopub.execute_input": "2024-05-06T14:29:53.879632Z",
     "iopub.status.busy": "2024-05-06T14:29:53.879301Z",
     "iopub.status.idle": "2024-05-06T14:29:57.678360Z",
     "shell.execute_reply": "2024-05-06T14:29:57.677248Z"
    },
    "papermill": {
     "duration": 3.83915,
     "end_time": "2024-05-06T14:29:57.680417",
     "exception": false,
     "start_time": "2024-05-06T14:29:53.841267",
     "status": "completed"
    },
    "tags": []
   },
   "outputs": [
    {
     "name": "stdout",
     "output_type": "stream",
     "text": [
      "              precision    recall  f1-score   support\n",
      "\n",
      "  No Default       0.97      1.00      0.98   1478665\n",
      "     Default       0.91      0.03      0.06     47994\n",
      "\n",
      "    accuracy                           0.97   1526659\n",
      "   macro avg       0.94      0.51      0.52   1526659\n",
      "weighted avg       0.97      0.97      0.96   1526659\n",
      "\n"
     ]
    }
   ],
   "source": [
    "print(classification_report(y, y_pred1, target_names = target_names))"
   ]
  },
  {
   "cell_type": "code",
   "execution_count": 58,
   "id": "9afc8e1c",
   "metadata": {
    "execution": {
     "iopub.execute_input": "2024-05-06T14:29:57.756128Z",
     "iopub.status.busy": "2024-05-06T14:29:57.755831Z",
     "iopub.status.idle": "2024-05-06T14:29:58.086858Z",
     "shell.execute_reply": "2024-05-06T14:29:58.085980Z"
    },
    "papermill": {
     "duration": 0.371132,
     "end_time": "2024-05-06T14:29:58.089157",
     "exception": false,
     "start_time": "2024-05-06T14:29:57.718025",
     "status": "completed"
    },
    "tags": []
   },
   "outputs": [
    {
     "data": {
      "image/png": "[encoded data removed]",
      "text/plain": [
       "<Figure size 640x480 with 1 Axes>"
      ]
     },
     "metadata": {},
     "output_type": "display_data"
    }
   ],
   "source": [
    "#ROC AUC для всех тренировочных данных\n",
    "\n",
    "fpr, tpr, threshold = metrics.roc_curve(y_valid, y_pred_valid)\n",
    "display = RocCurveDisplay(fpr=fpr, tpr=tpr, roc_auc = auc_score)\n",
    "display.plot()\n",
    "plt.plot([0,1], [0,1], 'r--')\n",
    "plt.title('ROC-AUC Curve for Validation Data')\n",
    "plt.show()"
   ]
  },
  {
   "cell_type": "code",
   "execution_count": 59,
   "id": "60a85c21",
   "metadata": {
    "execution": {
     "iopub.execute_input": "2024-05-06T14:29:58.167557Z",
     "iopub.status.busy": "2024-05-06T14:29:58.167251Z",
     "iopub.status.idle": "2024-05-06T14:29:58.286736Z",
     "shell.execute_reply": "2024-05-06T14:29:58.285857Z"
    },
    "papermill": {
     "duration": 0.159684,
     "end_time": "2024-05-06T14:29:58.288635",
     "exception": false,
     "start_time": "2024-05-06T14:29:58.128951",
     "status": "completed"
    },
    "tags": []
   },
   "outputs": [
    {
     "data": {
      "text/plain": [
       "4921"
      ]
     },
     "execution_count": 59,
     "metadata": {},
     "output_type": "execute_result"
    }
   ],
   "source": [
    "del y_pred, y_pred1\n",
    "gc.collect()"
   ]
  },
  {
   "cell_type": "markdown",
   "id": "a9a350d0",
   "metadata": {
    "papermill": {
     "duration": 0.037351,
     "end_time": "2024-05-06T14:29:58.364451",
     "exception": false,
     "start_time": "2024-05-06T14:29:58.327100",
     "status": "completed"
    },
    "tags": []
   },
   "source": [
    "# Feature Importance"
   ]
  },
  {
   "cell_type": "code",
   "execution_count": 60,
   "id": "18be72f6",
   "metadata": {
    "execution": {
     "iopub.execute_input": "2024-05-06T14:29:58.440821Z",
     "iopub.status.busy": "2024-05-06T14:29:58.440494Z",
     "iopub.status.idle": "2024-05-06T14:29:59.018390Z",
     "shell.execute_reply": "2024-05-06T14:29:59.017444Z"
    },
    "papermill": {
     "duration": 0.618733,
     "end_time": "2024-05-06T14:29:59.020747",
     "exception": false,
     "start_time": "2024-05-06T14:29:58.402014",
     "status": "completed"
    },
    "tags": []
   },
   "outputs": [
    {
     "data": {
      "image/png": "[encoded data removed]",
      "text/plain": [
       "<Figure size 2000x2000 with 1 Axes>"
      ]
     },
     "metadata": {},
     "output_type": "display_data"
    }
   ],
   "source": [
    "#Для модели LGB, ранжирование признаков по количеству сплитов\n",
    "\n",
    "lgb.plot_importance(model_lgb, figsize=(20, 20), max_num_features = 20)\n",
    "plt.show()"
   ]
  },
  {
   "cell_type": "code",
   "execution_count": 61,
   "id": "f1e711bc",
   "metadata": {
    "execution": {
     "iopub.execute_input": "2024-05-06T14:29:59.102104Z",
     "iopub.status.busy": "2024-05-06T14:29:59.101801Z",
     "iopub.status.idle": "2024-05-06T14:29:59.619869Z",
     "shell.execute_reply": "2024-05-06T14:29:59.618880Z"
    },
    "papermill": {
     "duration": 0.561777,
     "end_time": "2024-05-06T14:29:59.622964",
     "exception": false,
     "start_time": "2024-05-06T14:29:59.061187",
     "status": "completed"
    },
    "tags": []
   },
   "outputs": [
    {
     "data": {
      "image/png": "[encoded data removed]",
      "text/plain": [
       "<Figure size 2000x2000 with 1 Axes>"
      ]
     },
     "metadata": {},
     "output_type": "display_data"
    }
   ],
   "source": [
    "lgb.plot_importance(model_lgb, figsize=(20, 20), importance_type = 'gain', max_num_features = 20)\n",
    "plt.show()"
   ]
  },
  {
   "cell_type": "code",
   "execution_count": 62,
   "id": "894ee79e",
   "metadata": {
    "execution": {
     "iopub.execute_input": "2024-05-06T14:29:59.707042Z",
     "iopub.status.busy": "2024-05-06T14:29:59.706760Z",
     "iopub.status.idle": "2024-05-06T14:29:59.713400Z",
     "shell.execute_reply": "2024-05-06T14:29:59.712503Z"
    },
    "papermill": {
     "duration": 0.050297,
     "end_time": "2024-05-06T14:29:59.715265",
     "exception": false,
     "start_time": "2024-05-06T14:29:59.664968",
     "status": "completed"
    },
    "tags": []
   },
   "outputs": [],
   "source": [
    "def plot_feature_importance(importance,columns,model_name):\n",
    "    #Создание массивов для важных функций и имен функций\n",
    "    feature_importance = np.array(importance)\n",
    "    feature_names = np.array(columns)\n",
    "    \n",
    "    data = {'feature_names': feature_names, 'feature_importance': feature_importance}\n",
    "    temp_df = pd.DataFrame(data)\n",
    "    \n",
    "    #сортировка df в порядке уменьшения значения признаков\n",
    "    temp_df.sort_values(by=['feature_importance'], ascending=False, inplace=True)\n",
    "    \n",
    "    plt.figure(figsize=(20, 20))\n",
    "    sns.barplot(x=temp_df['feature_importance'][:20], y=temp_df['feature_names'][:20])\n",
    "    \n",
    "    plt.title(model_name)\n",
    "    plt.xlabel('Feature Importance')\n",
    "    plt.ylabel('Feature Names')"
   ]
  },
  {
   "cell_type": "code",
   "execution_count": 63,
   "id": "ce471eca",
   "metadata": {
    "execution": {
     "iopub.execute_input": "2024-05-06T14:29:59.799697Z",
     "iopub.status.busy": "2024-05-06T14:29:59.799407Z",
     "iopub.status.idle": "2024-05-06T14:30:00.519157Z",
     "shell.execute_reply": "2024-05-06T14:30:00.518220Z"
    },
    "papermill": {
     "duration": 0.764951,
     "end_time": "2024-05-06T14:30:00.521315",
     "exception": false,
     "start_time": "2024-05-06T14:29:59.756364",
     "status": "completed"
    },
    "tags": []
   },
   "outputs": [
    {
     "data": {
      "image/png": "[encoded data removed]",
      "text/plain": [
       "<Figure size 2000x2000 with 1 Axes>"
      ]
     },
     "metadata": {},
     "output_type": "display_data"
    }
   ],
   "source": [
    "# вычисляет важность каждого признака путем сравнения производительности модели через get_feature_importance\n",
    "#разница в функции потерь, получаемой при включении признака в отличие от его исключения. Чем больше разница, тем она важна.\n",
    "\n",
    "plot_feature_importance(model_cat.get_feature_importance(type='PredictionValuesChange'), X_train.columns, \"CATBOOST\")\n",
    "warnings.filterwarnings('default')"
   ]
  },
  {
   "cell_type": "code",
   "execution_count": 64,
   "id": "cdce87fc",
   "metadata": {
    "execution": {
     "iopub.execute_input": "2024-05-06T14:30:00.611827Z",
     "iopub.status.busy": "2024-05-06T14:30:00.611180Z",
     "iopub.status.idle": "2024-05-06T14:30:00.743092Z",
     "shell.execute_reply": "2024-05-06T14:30:00.742178Z"
    },
    "papermill": {
     "duration": 0.180141,
     "end_time": "2024-05-06T14:30:00.745043",
     "exception": false,
     "start_time": "2024-05-06T14:30:00.564902",
     "status": "completed"
    },
    "tags": []
   },
   "outputs": [
    {
     "data": {
      "text/plain": [
       "21273"
      ]
     },
     "execution_count": 64,
     "metadata": {},
     "output_type": "execute_result"
    }
   ],
   "source": [
    "del X_feats, X_train, X_valid, y_train, y_valid, y\n",
    "gc.collect()"
   ]
  },
  {
   "cell_type": "markdown",
   "id": "54507332",
   "metadata": {
    "papermill": {
     "duration": 0.042323,
     "end_time": "2024-05-06T14:30:00.830974",
     "exception": false,
     "start_time": "2024-05-06T14:30:00.788651",
     "status": "completed"
    },
    "tags": []
   },
   "source": [
    "# Submission"
   ]
  },
  {
   "cell_type": "code",
   "execution_count": 65,
   "id": "9f296948",
   "metadata": {
    "execution": {
     "iopub.execute_input": "2024-05-06T14:30:00.918286Z",
     "iopub.status.busy": "2024-05-06T14:30:00.917945Z",
     "iopub.status.idle": "2024-05-06T14:30:01.160283Z",
     "shell.execute_reply": "2024-05-06T14:30:01.159293Z"
    },
    "papermill": {
     "duration": 0.28886,
     "end_time": "2024-05-06T14:30:01.162707",
     "exception": false,
     "start_time": "2024-05-06T14:30:00.873847",
     "status": "completed"
    },
    "tags": []
   },
   "outputs": [],
   "source": [
    "# сортировка столбцов по алфавиту в соответствии с загруженной моделью\n",
    "\n",
    "test = test.reindex(sorted(test.columns), axis=1)\n",
    "\n",
    "predictions = model.predict_proba(test.drop(['case_id', 'WEEK_NUM'], axis=1))"
   ]
  },
  {
   "cell_type": "code",
   "execution_count": 66,
   "id": "47fd52eb",
   "metadata": {
    "execution": {
     "iopub.execute_input": "2024-05-06T14:30:01.251661Z",
     "iopub.status.busy": "2024-05-06T14:30:01.251315Z",
     "iopub.status.idle": "2024-05-06T14:30:01.256413Z",
     "shell.execute_reply": "2024-05-06T14:30:01.255555Z"
    },
    "papermill": {
     "duration": 0.05097,
     "end_time": "2024-05-06T14:30:01.258482",
     "exception": false,
     "start_time": "2024-05-06T14:30:01.207512",
     "status": "completed"
    },
    "tags": []
   },
   "outputs": [
    {
     "name": "stdout",
     "output_type": "stream",
     "text": [
      "[[9.87025847e-01 1.29741534e-02]\n",
      " [9.78979645e-01 2.10203555e-02]\n",
      " [9.99046154e-01 9.53846085e-04]\n",
      " [9.92072015e-01 7.92798514e-03]\n",
      " [8.76504384e-01 1.23495616e-01]\n",
      " [9.96051644e-01 3.94835577e-03]\n",
      " [9.68649250e-01 3.13507503e-02]\n",
      " [9.95887254e-01 4.11274628e-03]\n",
      " [9.86678154e-01 1.33218457e-02]\n",
      " [9.75875744e-01 2.41242562e-02]]\n"
     ]
    }
   ],
   "source": [
    "print(predictions)"
   ]
  },
  {
   "cell_type": "code",
   "execution_count": 67,
   "id": "f302d457",
   "metadata": {
    "execution": {
     "iopub.execute_input": "2024-05-06T14:30:01.345273Z",
     "iopub.status.busy": "2024-05-06T14:30:01.345030Z",
     "iopub.status.idle": "2024-05-06T14:30:01.450451Z",
     "shell.execute_reply": "2024-05-06T14:30:01.449548Z"
    },
    "papermill": {
     "duration": 0.15129,
     "end_time": "2024-05-06T14:30:01.452375",
     "exception": false,
     "start_time": "2024-05-06T14:30:01.301085",
     "status": "completed"
    },
    "tags": []
   },
   "outputs": [
    {
     "data": {
      "text/plain": [
       "4"
      ]
     },
     "execution_count": 67,
     "metadata": {},
     "output_type": "execute_result"
    }
   ],
   "source": [
    "del test\n",
    "gc.collect()"
   ]
  },
  {
   "cell_type": "code",
   "execution_count": 68,
   "id": "0dcd832f",
   "metadata": {
    "execution": {
     "iopub.execute_input": "2024-05-06T14:30:01.540005Z",
     "iopub.status.busy": "2024-05-06T14:30:01.539732Z",
     "iopub.status.idle": "2024-05-06T14:30:01.549871Z",
     "shell.execute_reply": "2024-05-06T14:30:01.548997Z"
    },
    "papermill": {
     "duration": 0.055703,
     "end_time": "2024-05-06T14:30:01.551681",
     "exception": false,
     "start_time": "2024-05-06T14:30:01.495978",
     "status": "completed"
    },
    "tags": []
   },
   "outputs": [
    {
     "data": {
      "text/html": [
       "<div>\n",
       "<style scoped>\n",
       "    .dataframe tbody tr th:only-of-type {\n",
       "        vertical-align: middle;\n",
       "    }\n",
       "\n",
       "    .dataframe tbody tr th {\n",
       "        vertical-align: top;\n",
       "    }\n",
       "\n",
       "    .dataframe thead th {\n",
       "        text-align: right;\n",
       "    }\n",
       "</style>\n",
       "<table border=\"1\" class=\"dataframe\">\n",
       "  <thead>\n",
       "    <tr style=\"text-align: right;\">\n",
       "      <th></th>\n",
       "      <th>score</th>\n",
       "    </tr>\n",
       "    <tr>\n",
       "      <th>case_id</th>\n",
       "      <th></th>\n",
       "    </tr>\n",
       "  </thead>\n",
       "  <tbody>\n",
       "    <tr>\n",
       "      <th>57543</th>\n",
       "      <td>0.012974</td>\n",
       "    </tr>\n",
       "    <tr>\n",
       "      <th>57549</th>\n",
       "      <td>0.021020</td>\n",
       "    </tr>\n",
       "    <tr>\n",
       "      <th>57551</th>\n",
       "      <td>0.000954</td>\n",
       "    </tr>\n",
       "    <tr>\n",
       "      <th>57552</th>\n",
       "      <td>0.007928</td>\n",
       "    </tr>\n",
       "    <tr>\n",
       "      <th>57569</th>\n",
       "      <td>0.123496</td>\n",
       "    </tr>\n",
       "    <tr>\n",
       "      <th>57630</th>\n",
       "      <td>0.003948</td>\n",
       "    </tr>\n",
       "    <tr>\n",
       "      <th>57631</th>\n",
       "      <td>0.031351</td>\n",
       "    </tr>\n",
       "    <tr>\n",
       "      <th>57632</th>\n",
       "      <td>0.004113</td>\n",
       "    </tr>\n",
       "    <tr>\n",
       "      <th>57633</th>\n",
       "      <td>0.013322</td>\n",
       "    </tr>\n",
       "    <tr>\n",
       "      <th>57634</th>\n",
       "      <td>0.024124</td>\n",
       "    </tr>\n",
       "  </tbody>\n",
       "</table>\n",
       "</div>"
      ],
      "text/plain": [
       "            score\n",
       "case_id          \n",
       "57543    0.012974\n",
       "57549    0.021020\n",
       "57551    0.000954\n",
       "57552    0.007928\n",
       "57569    0.123496\n",
       "57630    0.003948\n",
       "57631    0.031351\n",
       "57632    0.004113\n",
       "57633    0.013322\n",
       "57634    0.024124"
      ]
     },
     "execution_count": 68,
     "metadata": {},
     "output_type": "execute_result"
    }
   ],
   "source": [
    "submission = pd.DataFrame({'case_id': ids, 'score': predictions[:, 1]}).set_index('case_id')\n",
    "submission"
   ]
  },
  {
   "cell_type": "code",
   "execution_count": 69,
   "id": "0b829b49",
   "metadata": {
    "execution": {
     "iopub.execute_input": "2024-05-06T14:30:01.640130Z",
     "iopub.status.busy": "2024-05-06T14:30:01.639874Z",
     "iopub.status.idle": "2024-05-06T14:30:01.646475Z",
     "shell.execute_reply": "2024-05-06T14:30:01.645746Z"
    },
    "papermill": {
     "duration": 0.053615,
     "end_time": "2024-05-06T14:30:01.648386",
     "exception": false,
     "start_time": "2024-05-06T14:30:01.594771",
     "status": "completed"
    },
    "tags": []
   },
   "outputs": [],
   "source": [
    "submission.to_csv(\"./submission.csv\")"
   ]
  }
 ],
 "metadata": {
  "kaggle": {
   "accelerator": "gpu",
   "dataSources": [
    {
     "databundleVersionId": 7921029,
     "sourceId": 50160,
     "sourceType": "competition"
    },
    {
     "datasetId": 4506020,
     "sourceId": 8274557,
     "sourceType": "datasetVersion"
    }
   ],
   "dockerImageVersionId": 30698,
   "isGpuEnabled": true,
   "isInternetEnabled": false,
   "language": "python",
   "sourceType": "notebook"
  },
  "kernelspec": {
   "display_name": "Python 3",
   "language": "python",
   "name": "python3"
  },
  "language_info": {
   "codemirror_mode": {
    "name": "ipython",
    "version": 3
   },
   "file_extension": ".py",
   "mimetype": "text/x-python",
   "name": "python",
   "nbconvert_exporter": "python",
   "pygments_lexer": "ipython3",
   "version": "3.10.13"
  },
  "papermill": {
   "default_parameters": {},
   "duration": 11102.300636,
   "end_time": "2024-05-06T14:30:02.836335",
   "environment_variables": {},
   "exception": null,
   "input_path": "__notebook__.ipynb",
   "output_path": "__notebook__.ipynb",
   "parameters": {},
   "start_time": "2024-05-06T11:25:00.535699",
   "version": "2.5.0"
  }
 },
 "nbformat": 4,
 "nbformat_minor": 5
}
